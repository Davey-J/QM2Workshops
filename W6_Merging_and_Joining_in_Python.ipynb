{
 "cells": [
  {
   "cell_type": "markdown",
   "metadata": {
    "id": "6fah6VTyS6hd"
   },
   "source": [
    "# Merging and Joining\n",
    "\n",
    "## *Workshop 6*  [![Open In Colab](https://github.com/oballinger/QM2/blob/main/colab-badge.png?raw=1)](https://colab.research.google.com/github/oballinger/QM2/blob/main/notebooks/W06.%20Merging%20and%20Joining.ipynb)\n",
    "\n",
    "\n",
    "Sometimes, we will want to combine data from different sources about the same subject - perhaps we want to compare the GDP in a country with life expectancy, or the proportion of free schools meals with the level of unemployment.\n",
    "\n",
    "### Aims\n",
    "- Understand joins\n",
    "- Work with joining dataframes in Pandas\n",
    "- Create your own examples"
   ]
  },
  {
   "cell_type": "markdown",
   "metadata": {
    "id": "XdibOrmwS6he"
   },
   "source": [
    "## Downloading the Data\n",
    "Let's grab the data we will need this week from our course website and save it into our data folder. If you've not already created a data folder then do so using the following command.\n",
    "\n",
    "Don't worry if it generates an error, that means you've already got a data folder.\n"
   ]
  },
  {
   "cell_type": "code",
   "execution_count": null,
   "metadata": {
    "colab": {
     "base_uri": "https://localhost:8080/"
    },
    "id": "I50UwMZMS6hf",
    "outputId": "a43e6b17-8ac5-4135-b489-ce5c0a515cbf"
   },
   "outputs": [
    {
     "name": "stdout",
     "output_type": "stream",
     "text": [
      "mkdir: cannot create directory ‘data’: File exists\n"
     ]
    }
   ],
   "source": [
    "!mkdir data"
   ]
  },
  {
   "cell_type": "code",
   "execution_count": 4,
   "metadata": {
    "colab": {
     "base_uri": "https://localhost:8080/"
    },
    "id": "gyAVkq3xS6hj",
    "outputId": "53454ca5-ad96-4b57-85e2-16ac32c7f11a",
    "ExecuteTime": {
     "end_time": "2023-12-19T13:11:34.935978200Z",
     "start_time": "2023-12-19T13:11:28.166602100Z"
    }
   },
   "outputs": [
    {
     "name": "stderr",
     "output_type": "stream",
     "text": [
      "  % Total    % Received % Xferd  Average Speed   Time    Time     Time  Current\n",
      "                                 Dload  Upload   Total   Spent    Left  Speed\n",
      "\n",
      "  0     0    0     0    0     0      0      0 --:--:-- --:--:-- --:--:--     0\n",
      "  0     0    0     0    0     0      0      0 --:--:-- --:--:-- --:--:--     0\n",
      "  0  354k    0     0    0     0      0      0 --:--:--  0:00:01 --:--:--     0\n",
      " 28  354k   28  100k    0     0  50555      0  0:00:07  0:00:02  0:00:05 50567\n",
      "100  354k  100  354k    0     0   128k      0  0:00:02  0:00:02 --:--:--  128k\n",
      "  % Total    % Received % Xferd  Average Speed   Time    Time     Time  Current\n",
      "                                 Dload  Upload   Total   Spent    Left  Speed\n",
      "\n",
      "  0     0    0     0    0     0      0      0 --:--:-- --:--:-- --:--:--     0\n",
      "  0     0    0     0    0     0      0      0 --:--:-- --:--:-- --:--:--     0\n",
      "  0 31445    0     0    0     0      0      0 --:--:--  0:00:01 --:--:--     0\n",
      "100 31445  100 31445    0     0  20996      0  0:00:01  0:00:01 --:--:-- 21005\n",
      "  % Total    % Received % Xferd  Average Speed   Time    Time     Time  Current\n",
      "                                 Dload  Upload   Total   Spent    Left  Speed\n",
      "\n",
      "  0     0    0     0    0     0      0      0 --:--:-- --:--:-- --:--:--     0\n",
      "  0     0    0     0    0     0      0      0 --:--:-- --:--:-- --:--:--     0\n",
      " 13  373k   13 51755    0     0  29916      0  0:00:12  0:00:01  0:00:11 29916\n",
      "100  373k  100  373k    0     0   153k      0  0:00:02  0:00:02 --:--:--  153k\n"
     ]
    }
   ],
   "source": [
    "!mkdir \"./data/wk6\"\n",
    "!curl https://s3.eu-west-2.amazonaws.com/qm2/wk3/UN_Life_all.csv -o ./data/wk6/UN_Life_all.csv\n",
    "!curl https://s3.eu-west-2.amazonaws.com/qm2/wk3/UN_Cities_1214_country.csv -o ./data/wk6/UN_Cities_1214_country.csv\n",
    "!curl https://s3.eu-west-2.amazonaws.com/qm2/wk3/UN_Cities_1214_population.csv -o ./data/wk6/UN_Cities_1214_population.csv"
   ]
  },
  {
   "cell_type": "markdown",
   "metadata": {
    "id": "tuOYWYbUS6hm"
   },
   "source": [
    "## Joining Instructions\n",
    "\n",
    "Joins are the combination of different datasets, and are common in relational databases as a way of performing queries. There are lots of examples of why and when we might want to do this, but most start with two tables of data. We're going to start with some data we've generated.\n",
    "\n",
    "I'm going to go back and work with fake data for a while, because it's clean and small and we can see what's going on - when we work with real data, we have to take great care that the data is clean, the indices match, and so on."
   ]
  },
  {
   "cell_type": "code",
   "execution_count": 5,
   "metadata": {
    "id": "UdRoLsYhS6hm",
    "ExecuteTime": {
     "end_time": "2023-12-19T13:11:40.451668800Z",
     "start_time": "2023-12-19T13:11:40.430355200Z"
    }
   },
   "outputs": [],
   "source": [
    "import matplotlib.pyplot as plt\n",
    "import pandas as pd\n",
    "import numpy as np\n",
    "import random\n",
    "%matplotlib inline\n"
   ]
  },
  {
   "cell_type": "markdown",
   "metadata": {
    "id": "LOltFFwmS6hp"
   },
   "source": [
    "Let's create dataframes which represent fictitious values associated with people. Let's assume our data is anonymised because we're ethical researchers and don't want information about real people leaking out."
   ]
  },
  {
   "cell_type": "code",
   "execution_count": 6,
   "metadata": {
    "id": "RnB2LIRvS6hp",
    "ExecuteTime": {
     "end_time": "2023-12-19T13:11:41.923767700Z",
     "start_time": "2023-12-19T13:11:41.912709600Z"
    }
   },
   "outputs": [],
   "source": [
    "people1 = pd.DataFrame(5+np.random.randn(5, 5))\n",
    "people1.columns = ['units of alcohol drunk','cigarettes smoked','sleep per night','height','BMI']"
   ]
  },
  {
   "cell_type": "code",
   "execution_count": 7,
   "metadata": {
    "colab": {
     "base_uri": "https://localhost:8080/",
     "height": 206
    },
    "id": "CKiFh3BkS6hs",
    "outputId": "fdefe3f9-f74c-4b36-9409-93eff9a90746",
    "ExecuteTime": {
     "end_time": "2023-12-19T13:11:43.487006400Z",
     "start_time": "2023-12-19T13:11:43.470776800Z"
    }
   },
   "outputs": [
    {
     "data": {
      "text/plain": "   units of alcohol drunk  cigarettes smoked  sleep per night    height  \\\n0                3.810655           5.023187         5.927168  2.119747   \n1                3.310484           5.063831         5.369729  4.503259   \n2                5.264466           4.910348         5.888512  5.988794   \n3                3.591411           5.642824         5.682095  5.137828   \n4                5.067356           5.702442         5.220583  5.218869   \n\n        BMI  \n0  3.152616  \n1  6.613975  \n2  5.984604  \n3  4.165739  \n4  5.114595  ",
      "text/html": "<div>\n<style scoped>\n    .dataframe tbody tr th:only-of-type {\n        vertical-align: middle;\n    }\n\n    .dataframe tbody tr th {\n        vertical-align: top;\n    }\n\n    .dataframe thead th {\n        text-align: right;\n    }\n</style>\n<table border=\"1\" class=\"dataframe\">\n  <thead>\n    <tr style=\"text-align: right;\">\n      <th></th>\n      <th>units of alcohol drunk</th>\n      <th>cigarettes smoked</th>\n      <th>sleep per night</th>\n      <th>height</th>\n      <th>BMI</th>\n    </tr>\n  </thead>\n  <tbody>\n    <tr>\n      <th>0</th>\n      <td>3.810655</td>\n      <td>5.023187</td>\n      <td>5.927168</td>\n      <td>2.119747</td>\n      <td>3.152616</td>\n    </tr>\n    <tr>\n      <th>1</th>\n      <td>3.310484</td>\n      <td>5.063831</td>\n      <td>5.369729</td>\n      <td>4.503259</td>\n      <td>6.613975</td>\n    </tr>\n    <tr>\n      <th>2</th>\n      <td>5.264466</td>\n      <td>4.910348</td>\n      <td>5.888512</td>\n      <td>5.988794</td>\n      <td>5.984604</td>\n    </tr>\n    <tr>\n      <th>3</th>\n      <td>3.591411</td>\n      <td>5.642824</td>\n      <td>5.682095</td>\n      <td>5.137828</td>\n      <td>4.165739</td>\n    </tr>\n    <tr>\n      <th>4</th>\n      <td>5.067356</td>\n      <td>5.702442</td>\n      <td>5.220583</td>\n      <td>5.218869</td>\n      <td>5.114595</td>\n    </tr>\n  </tbody>\n</table>\n</div>"
     },
     "execution_count": 7,
     "metadata": {},
     "output_type": "execute_result"
    }
   ],
   "source": [
    "people1"
   ]
  },
  {
   "cell_type": "code",
   "execution_count": 8,
   "metadata": {
    "id": "fjUbAFEFS6hv",
    "ExecuteTime": {
     "end_time": "2023-12-19T13:11:45.764052Z",
     "start_time": "2023-12-19T13:11:45.752079900Z"
    }
   },
   "outputs": [],
   "source": [
    "people2 = pd.DataFrame(5+np.random.randn(3, 5))\n",
    "people2.columns = ['units of alcohol drunk','cigarettes smoked','sleep per night','height','BMI']"
   ]
  },
  {
   "cell_type": "code",
   "execution_count": 9,
   "metadata": {
    "colab": {
     "base_uri": "https://localhost:8080/",
     "height": 143
    },
    "id": "VpCJny82S6hy",
    "outputId": "7f2fb38b-5eff-4495-d8c9-e41f277be2d0",
    "ExecuteTime": {
     "end_time": "2023-12-19T13:11:47.223024100Z",
     "start_time": "2023-12-19T13:11:47.202584900Z"
    }
   },
   "outputs": [
    {
     "data": {
      "text/plain": "   units of alcohol drunk  cigarettes smoked  sleep per night    height  \\\n0                4.466606           5.256683         6.609152  6.607702   \n1                6.072203           4.331052         5.221968  3.577425   \n2                5.073284           3.893457         4.436572  4.533307   \n\n        BMI  \n0  4.202525  \n1  4.436584  \n2  3.655267  ",
      "text/html": "<div>\n<style scoped>\n    .dataframe tbody tr th:only-of-type {\n        vertical-align: middle;\n    }\n\n    .dataframe tbody tr th {\n        vertical-align: top;\n    }\n\n    .dataframe thead th {\n        text-align: right;\n    }\n</style>\n<table border=\"1\" class=\"dataframe\">\n  <thead>\n    <tr style=\"text-align: right;\">\n      <th></th>\n      <th>units of alcohol drunk</th>\n      <th>cigarettes smoked</th>\n      <th>sleep per night</th>\n      <th>height</th>\n      <th>BMI</th>\n    </tr>\n  </thead>\n  <tbody>\n    <tr>\n      <th>0</th>\n      <td>4.466606</td>\n      <td>5.256683</td>\n      <td>6.609152</td>\n      <td>6.607702</td>\n      <td>4.202525</td>\n    </tr>\n    <tr>\n      <th>1</th>\n      <td>6.072203</td>\n      <td>4.331052</td>\n      <td>5.221968</td>\n      <td>3.577425</td>\n      <td>4.436584</td>\n    </tr>\n    <tr>\n      <th>2</th>\n      <td>5.073284</td>\n      <td>3.893457</td>\n      <td>4.436572</td>\n      <td>4.533307</td>\n      <td>3.655267</td>\n    </tr>\n  </tbody>\n</table>\n</div>"
     },
     "execution_count": 9,
     "metadata": {},
     "output_type": "execute_result"
    }
   ],
   "source": [
    "people2"
   ]
  },
  {
   "cell_type": "markdown",
   "metadata": {
    "id": "DJh0iZU3S6h1"
   },
   "source": [
    "# Adding new observations\n",
    "\n",
    "It looks as if we have some data about people (although we've just made it up), and a set of common measurements. It would be nice to have all of this in one place, so let's *merge* them into one dataframe. We'll use the *concat* command, which is short for *concatenate*, or \"chain together\"."
   ]
  },
  {
   "cell_type": "code",
   "execution_count": 10,
   "metadata": {
    "id": "FLd5xBDeS6h1",
    "ExecuteTime": {
     "end_time": "2023-12-19T13:12:08.733466Z",
     "start_time": "2023-12-19T13:12:08.716639200Z"
    }
   },
   "outputs": [],
   "source": [
    "people3 = pd.concat([people1,people2])"
   ]
  },
  {
   "cell_type": "code",
   "execution_count": 11,
   "metadata": {
    "colab": {
     "base_uri": "https://localhost:8080/",
     "height": 300
    },
    "id": "hKOqzkyJS6h3",
    "outputId": "29133464-4d82-44d0-dfe1-06751209a6bc",
    "ExecuteTime": {
     "end_time": "2023-12-19T13:12:11.598759100Z",
     "start_time": "2023-12-19T13:12:11.583280500Z"
    }
   },
   "outputs": [
    {
     "data": {
      "text/plain": "   units of alcohol drunk  cigarettes smoked  sleep per night    height  \\\n0                3.810655           5.023187         5.927168  2.119747   \n1                3.310484           5.063831         5.369729  4.503259   \n2                5.264466           4.910348         5.888512  5.988794   \n3                3.591411           5.642824         5.682095  5.137828   \n4                5.067356           5.702442         5.220583  5.218869   \n0                4.466606           5.256683         6.609152  6.607702   \n1                6.072203           4.331052         5.221968  3.577425   \n2                5.073284           3.893457         4.436572  4.533307   \n\n        BMI  \n0  3.152616  \n1  6.613975  \n2  5.984604  \n3  4.165739  \n4  5.114595  \n0  4.202525  \n1  4.436584  \n2  3.655267  ",
      "text/html": "<div>\n<style scoped>\n    .dataframe tbody tr th:only-of-type {\n        vertical-align: middle;\n    }\n\n    .dataframe tbody tr th {\n        vertical-align: top;\n    }\n\n    .dataframe thead th {\n        text-align: right;\n    }\n</style>\n<table border=\"1\" class=\"dataframe\">\n  <thead>\n    <tr style=\"text-align: right;\">\n      <th></th>\n      <th>units of alcohol drunk</th>\n      <th>cigarettes smoked</th>\n      <th>sleep per night</th>\n      <th>height</th>\n      <th>BMI</th>\n    </tr>\n  </thead>\n  <tbody>\n    <tr>\n      <th>0</th>\n      <td>3.810655</td>\n      <td>5.023187</td>\n      <td>5.927168</td>\n      <td>2.119747</td>\n      <td>3.152616</td>\n    </tr>\n    <tr>\n      <th>1</th>\n      <td>3.310484</td>\n      <td>5.063831</td>\n      <td>5.369729</td>\n      <td>4.503259</td>\n      <td>6.613975</td>\n    </tr>\n    <tr>\n      <th>2</th>\n      <td>5.264466</td>\n      <td>4.910348</td>\n      <td>5.888512</td>\n      <td>5.988794</td>\n      <td>5.984604</td>\n    </tr>\n    <tr>\n      <th>3</th>\n      <td>3.591411</td>\n      <td>5.642824</td>\n      <td>5.682095</td>\n      <td>5.137828</td>\n      <td>4.165739</td>\n    </tr>\n    <tr>\n      <th>4</th>\n      <td>5.067356</td>\n      <td>5.702442</td>\n      <td>5.220583</td>\n      <td>5.218869</td>\n      <td>5.114595</td>\n    </tr>\n    <tr>\n      <th>0</th>\n      <td>4.466606</td>\n      <td>5.256683</td>\n      <td>6.609152</td>\n      <td>6.607702</td>\n      <td>4.202525</td>\n    </tr>\n    <tr>\n      <th>1</th>\n      <td>6.072203</td>\n      <td>4.331052</td>\n      <td>5.221968</td>\n      <td>3.577425</td>\n      <td>4.436584</td>\n    </tr>\n    <tr>\n      <th>2</th>\n      <td>5.073284</td>\n      <td>3.893457</td>\n      <td>4.436572</td>\n      <td>4.533307</td>\n      <td>3.655267</td>\n    </tr>\n  </tbody>\n</table>\n</div>"
     },
     "execution_count": 11,
     "metadata": {},
     "output_type": "execute_result"
    }
   ],
   "source": [
    "people3"
   ]
  },
  {
   "cell_type": "markdown",
   "metadata": {
    "id": "lv4myEKXS6h6"
   },
   "source": [
    "### What is the problem above?"
   ]
  },
  {
   "cell_type": "code",
   "execution_count": 12,
   "metadata": {
    "id": "aPkZTYWGS6h6",
    "ExecuteTime": {
     "end_time": "2023-12-19T13:12:20.321478700Z",
     "start_time": "2023-12-19T13:12:20.307738500Z"
    }
   },
   "outputs": [],
   "source": [
    "people4 = pd.concat([people1,people2], ignore_index=True)"
   ]
  },
  {
   "cell_type": "code",
   "execution_count": 13,
   "metadata": {
    "colab": {
     "base_uri": "https://localhost:8080/",
     "height": 300
    },
    "id": "1TEx5aX3S6h9",
    "outputId": "393d3cbc-955f-4ee2-8350-063224ab695b",
    "ExecuteTime": {
     "end_time": "2023-12-19T13:12:22.470870100Z",
     "start_time": "2023-12-19T13:12:22.448098500Z"
    }
   },
   "outputs": [
    {
     "data": {
      "text/plain": "   units of alcohol drunk  cigarettes smoked  sleep per night    height  \\\n0                3.810655           5.023187         5.927168  2.119747   \n1                3.310484           5.063831         5.369729  4.503259   \n2                5.264466           4.910348         5.888512  5.988794   \n3                3.591411           5.642824         5.682095  5.137828   \n4                5.067356           5.702442         5.220583  5.218869   \n5                4.466606           5.256683         6.609152  6.607702   \n6                6.072203           4.331052         5.221968  3.577425   \n7                5.073284           3.893457         4.436572  4.533307   \n\n        BMI  \n0  3.152616  \n1  6.613975  \n2  5.984604  \n3  4.165739  \n4  5.114595  \n5  4.202525  \n6  4.436584  \n7  3.655267  ",
      "text/html": "<div>\n<style scoped>\n    .dataframe tbody tr th:only-of-type {\n        vertical-align: middle;\n    }\n\n    .dataframe tbody tr th {\n        vertical-align: top;\n    }\n\n    .dataframe thead th {\n        text-align: right;\n    }\n</style>\n<table border=\"1\" class=\"dataframe\">\n  <thead>\n    <tr style=\"text-align: right;\">\n      <th></th>\n      <th>units of alcohol drunk</th>\n      <th>cigarettes smoked</th>\n      <th>sleep per night</th>\n      <th>height</th>\n      <th>BMI</th>\n    </tr>\n  </thead>\n  <tbody>\n    <tr>\n      <th>0</th>\n      <td>3.810655</td>\n      <td>5.023187</td>\n      <td>5.927168</td>\n      <td>2.119747</td>\n      <td>3.152616</td>\n    </tr>\n    <tr>\n      <th>1</th>\n      <td>3.310484</td>\n      <td>5.063831</td>\n      <td>5.369729</td>\n      <td>4.503259</td>\n      <td>6.613975</td>\n    </tr>\n    <tr>\n      <th>2</th>\n      <td>5.264466</td>\n      <td>4.910348</td>\n      <td>5.888512</td>\n      <td>5.988794</td>\n      <td>5.984604</td>\n    </tr>\n    <tr>\n      <th>3</th>\n      <td>3.591411</td>\n      <td>5.642824</td>\n      <td>5.682095</td>\n      <td>5.137828</td>\n      <td>4.165739</td>\n    </tr>\n    <tr>\n      <th>4</th>\n      <td>5.067356</td>\n      <td>5.702442</td>\n      <td>5.220583</td>\n      <td>5.218869</td>\n      <td>5.114595</td>\n    </tr>\n    <tr>\n      <th>5</th>\n      <td>4.466606</td>\n      <td>5.256683</td>\n      <td>6.609152</td>\n      <td>6.607702</td>\n      <td>4.202525</td>\n    </tr>\n    <tr>\n      <th>6</th>\n      <td>6.072203</td>\n      <td>4.331052</td>\n      <td>5.221968</td>\n      <td>3.577425</td>\n      <td>4.436584</td>\n    </tr>\n    <tr>\n      <th>7</th>\n      <td>5.073284</td>\n      <td>3.893457</td>\n      <td>4.436572</td>\n      <td>4.533307</td>\n      <td>3.655267</td>\n    </tr>\n  </tbody>\n</table>\n</div>"
     },
     "execution_count": 13,
     "metadata": {},
     "output_type": "execute_result"
    }
   ],
   "source": [
    "people4"
   ]
  },
  {
   "cell_type": "markdown",
   "metadata": {
    "id": "caWsFFxQS6h_"
   },
   "source": [
    "`ignore_index` is very useful when we want a new DataFrame which only contains data from other DataFrames, but unrelated otherwise."
   ]
  },
  {
   "cell_type": "markdown",
   "metadata": {
    "id": "wTxlLjkOS6iA"
   },
   "source": [
    "## Data with a unique index: adding new observations\n",
    "\n",
    "Let's now examine data where the elements of study are not anonymous. Let's consider that we have some city data. If we have city names (or equivalent) in the index column, simply concatenating them would be fine, because the names would not repeat in the way the index has above."
   ]
  },
  {
   "cell_type": "code",
   "execution_count": 14,
   "metadata": {
    "id": "tqM3BIJSS6iA",
    "ExecuteTime": {
     "end_time": "2023-12-19T13:12:32.407153500Z",
     "start_time": "2023-12-19T13:12:32.385635100Z"
    }
   },
   "outputs": [],
   "source": [
    "df1 = pd.DataFrame(5+np.random.randn(5, 5))\n",
    "df1.columns = ['area','population','mean temperature','elevation','annual rainfall']\n",
    "df1.index = ['London', 'Paris', 'Beijing', 'Medellin', 'Port Elizabeth']"
   ]
  },
  {
   "cell_type": "code",
   "execution_count": 15,
   "metadata": {
    "colab": {
     "base_uri": "https://localhost:8080/",
     "height": 206
    },
    "id": "UCiCbYc2S6iC",
    "outputId": "5ce31866-dce0-4d36-e7b8-ac57a999a59e",
    "ExecuteTime": {
     "end_time": "2023-12-19T13:12:35.462345700Z",
     "start_time": "2023-12-19T13:12:35.446690Z"
    }
   },
   "outputs": [
    {
     "data": {
      "text/plain": "                    area  population  mean temperature  elevation  \\\nLondon          7.704911    6.063761          4.960756   7.279676   \nParis           4.914460    5.547807          5.030898   3.930040   \nBeijing         5.450168    4.676558          3.442826   6.802158   \nMedellin        3.655428    4.392019          6.626030   3.846522   \nPort Elizabeth  5.243466    6.320147          5.197445   3.543046   \n\n                annual rainfall  \nLondon                 6.149045  \nParis                  5.049758  \nBeijing                5.417212  \nMedellin               5.533379  \nPort Elizabeth         6.407534  ",
      "text/html": "<div>\n<style scoped>\n    .dataframe tbody tr th:only-of-type {\n        vertical-align: middle;\n    }\n\n    .dataframe tbody tr th {\n        vertical-align: top;\n    }\n\n    .dataframe thead th {\n        text-align: right;\n    }\n</style>\n<table border=\"1\" class=\"dataframe\">\n  <thead>\n    <tr style=\"text-align: right;\">\n      <th></th>\n      <th>area</th>\n      <th>population</th>\n      <th>mean temperature</th>\n      <th>elevation</th>\n      <th>annual rainfall</th>\n    </tr>\n  </thead>\n  <tbody>\n    <tr>\n      <th>London</th>\n      <td>7.704911</td>\n      <td>6.063761</td>\n      <td>4.960756</td>\n      <td>7.279676</td>\n      <td>6.149045</td>\n    </tr>\n    <tr>\n      <th>Paris</th>\n      <td>4.914460</td>\n      <td>5.547807</td>\n      <td>5.030898</td>\n      <td>3.930040</td>\n      <td>5.049758</td>\n    </tr>\n    <tr>\n      <th>Beijing</th>\n      <td>5.450168</td>\n      <td>4.676558</td>\n      <td>3.442826</td>\n      <td>6.802158</td>\n      <td>5.417212</td>\n    </tr>\n    <tr>\n      <th>Medellin</th>\n      <td>3.655428</td>\n      <td>4.392019</td>\n      <td>6.626030</td>\n      <td>3.846522</td>\n      <td>5.533379</td>\n    </tr>\n    <tr>\n      <th>Port Elizabeth</th>\n      <td>5.243466</td>\n      <td>6.320147</td>\n      <td>5.197445</td>\n      <td>3.543046</td>\n      <td>6.407534</td>\n    </tr>\n  </tbody>\n</table>\n</div>"
     },
     "execution_count": 15,
     "metadata": {},
     "output_type": "execute_result"
    }
   ],
   "source": [
    "df1"
   ]
  },
  {
   "cell_type": "code",
   "execution_count": 16,
   "metadata": {
    "id": "q2MivfZPS6iF",
    "ExecuteTime": {
     "end_time": "2023-12-19T13:12:37.657079Z",
     "start_time": "2023-12-19T13:12:37.644308500Z"
    }
   },
   "outputs": [],
   "source": [
    "df2 = pd.DataFrame(5+np.random.randn(3, 5))\n",
    "df2.columns = ['area','population','mean temperature','elevation','annual rainfall']\n",
    "df2.index = ['Mumbai', 'Sydney', 'Boston']"
   ]
  },
  {
   "cell_type": "code",
   "execution_count": 17,
   "metadata": {
    "colab": {
     "base_uri": "https://localhost:8080/",
     "height": 143
    },
    "id": "57DmpIiAS6iH",
    "outputId": "0fbb5277-0cce-4bfd-eb20-2c5d152c5ebc",
    "ExecuteTime": {
     "end_time": "2023-12-19T13:12:39.327381800Z",
     "start_time": "2023-12-19T13:12:39.313911400Z"
    }
   },
   "outputs": [
    {
     "data": {
      "text/plain": "            area  population  mean temperature  elevation  annual rainfall\nMumbai  5.703533    5.291581          6.466505   5.693395         3.961630\nSydney  6.569445    5.295073          5.134567   5.024470         4.320179\nBoston  4.073525    4.536046          7.214656   3.557964         6.455944",
      "text/html": "<div>\n<style scoped>\n    .dataframe tbody tr th:only-of-type {\n        vertical-align: middle;\n    }\n\n    .dataframe tbody tr th {\n        vertical-align: top;\n    }\n\n    .dataframe thead th {\n        text-align: right;\n    }\n</style>\n<table border=\"1\" class=\"dataframe\">\n  <thead>\n    <tr style=\"text-align: right;\">\n      <th></th>\n      <th>area</th>\n      <th>population</th>\n      <th>mean temperature</th>\n      <th>elevation</th>\n      <th>annual rainfall</th>\n    </tr>\n  </thead>\n  <tbody>\n    <tr>\n      <th>Mumbai</th>\n      <td>5.703533</td>\n      <td>5.291581</td>\n      <td>6.466505</td>\n      <td>5.693395</td>\n      <td>3.961630</td>\n    </tr>\n    <tr>\n      <th>Sydney</th>\n      <td>6.569445</td>\n      <td>5.295073</td>\n      <td>5.134567</td>\n      <td>5.024470</td>\n      <td>4.320179</td>\n    </tr>\n    <tr>\n      <th>Boston</th>\n      <td>4.073525</td>\n      <td>4.536046</td>\n      <td>7.214656</td>\n      <td>3.557964</td>\n      <td>6.455944</td>\n    </tr>\n  </tbody>\n</table>\n</div>"
     },
     "execution_count": 17,
     "metadata": {},
     "output_type": "execute_result"
    }
   ],
   "source": [
    "df2"
   ]
  },
  {
   "cell_type": "code",
   "execution_count": 27,
   "metadata": {
    "id": "3kxmpWRDS6iK",
    "ExecuteTime": {
     "end_time": "2023-12-19T13:16:32.357449600Z",
     "start_time": "2023-12-19T13:16:32.337696800Z"
    }
   },
   "outputs": [],
   "source": [
    "df3 = pd.concat([df1,df2])"
   ]
  },
  {
   "cell_type": "code",
   "execution_count": 28,
   "metadata": {
    "colab": {
     "base_uri": "https://localhost:8080/",
     "height": 300
    },
    "id": "5qSJVJEdS6iM",
    "outputId": "7e313b9f-5309-4b05-bae5-c89a515c5a74",
    "ExecuteTime": {
     "end_time": "2023-12-19T13:16:33.248765700Z",
     "start_time": "2023-12-19T13:16:33.230752500Z"
    }
   },
   "outputs": [
    {
     "data": {
      "text/plain": "                    area  population  mean temperature  elevation  \\\nLondon          7.704911    6.063761          4.960756   7.279676   \nParis           4.914460    5.547807          5.030898   3.930040   \nBeijing         5.450168    4.676558          3.442826   6.802158   \nMedellin        3.655428    4.392019          6.626030   3.846522   \nPort Elizabeth  5.243466    6.320147          5.197445   3.543046   \nMumbai          5.703533    5.291581          6.466505   5.693395   \nSydney          6.569445    5.295073          5.134567   5.024470   \nBoston          4.073525    4.536046          7.214656   3.557964   \n\n                annual rainfall  \nLondon                 6.149045  \nParis                  5.049758  \nBeijing                5.417212  \nMedellin               5.533379  \nPort Elizabeth         6.407534  \nMumbai                 3.961630  \nSydney                 4.320179  \nBoston                 6.455944  ",
      "text/html": "<div>\n<style scoped>\n    .dataframe tbody tr th:only-of-type {\n        vertical-align: middle;\n    }\n\n    .dataframe tbody tr th {\n        vertical-align: top;\n    }\n\n    .dataframe thead th {\n        text-align: right;\n    }\n</style>\n<table border=\"1\" class=\"dataframe\">\n  <thead>\n    <tr style=\"text-align: right;\">\n      <th></th>\n      <th>area</th>\n      <th>population</th>\n      <th>mean temperature</th>\n      <th>elevation</th>\n      <th>annual rainfall</th>\n    </tr>\n  </thead>\n  <tbody>\n    <tr>\n      <th>London</th>\n      <td>7.704911</td>\n      <td>6.063761</td>\n      <td>4.960756</td>\n      <td>7.279676</td>\n      <td>6.149045</td>\n    </tr>\n    <tr>\n      <th>Paris</th>\n      <td>4.914460</td>\n      <td>5.547807</td>\n      <td>5.030898</td>\n      <td>3.930040</td>\n      <td>5.049758</td>\n    </tr>\n    <tr>\n      <th>Beijing</th>\n      <td>5.450168</td>\n      <td>4.676558</td>\n      <td>3.442826</td>\n      <td>6.802158</td>\n      <td>5.417212</td>\n    </tr>\n    <tr>\n      <th>Medellin</th>\n      <td>3.655428</td>\n      <td>4.392019</td>\n      <td>6.626030</td>\n      <td>3.846522</td>\n      <td>5.533379</td>\n    </tr>\n    <tr>\n      <th>Port Elizabeth</th>\n      <td>5.243466</td>\n      <td>6.320147</td>\n      <td>5.197445</td>\n      <td>3.543046</td>\n      <td>6.407534</td>\n    </tr>\n    <tr>\n      <th>Mumbai</th>\n      <td>5.703533</td>\n      <td>5.291581</td>\n      <td>6.466505</td>\n      <td>5.693395</td>\n      <td>3.961630</td>\n    </tr>\n    <tr>\n      <th>Sydney</th>\n      <td>6.569445</td>\n      <td>5.295073</td>\n      <td>5.134567</td>\n      <td>5.024470</td>\n      <td>4.320179</td>\n    </tr>\n    <tr>\n      <th>Boston</th>\n      <td>4.073525</td>\n      <td>4.536046</td>\n      <td>7.214656</td>\n      <td>3.557964</td>\n      <td>6.455944</td>\n    </tr>\n  </tbody>\n</table>\n</div>"
     },
     "execution_count": 28,
     "metadata": {},
     "output_type": "execute_result"
    }
   ],
   "source": [
    "df3"
   ]
  },
  {
   "cell_type": "markdown",
   "metadata": {
    "id": "K1VdYJJ1S6iO"
   },
   "source": [
    "## Exercise: Concat continued\n",
    "\n",
    "Repeat the above for fictitious values for New York, Tokyo, Manila and Budapest - concatenate into a new dataframe \"df\"."
   ]
  },
  {
   "cell_type": "code",
   "execution_count": 29,
   "outputs": [
    {
     "data": {
      "text/plain": "              area  population  mean temperature  elevation  annual rainfall\nNew York  6.467665    4.739387          4.807521   4.940940         6.448181\nTokyo     5.485201    4.710053          4.661145   3.383816         4.150675\nManila    5.922245    5.938723          5.450187   3.768296         6.291376\nBudapest  4.986812    5.724053          3.702248   5.120048         3.571055",
      "text/html": "<div>\n<style scoped>\n    .dataframe tbody tr th:only-of-type {\n        vertical-align: middle;\n    }\n\n    .dataframe tbody tr th {\n        vertical-align: top;\n    }\n\n    .dataframe thead th {\n        text-align: right;\n    }\n</style>\n<table border=\"1\" class=\"dataframe\">\n  <thead>\n    <tr style=\"text-align: right;\">\n      <th></th>\n      <th>area</th>\n      <th>population</th>\n      <th>mean temperature</th>\n      <th>elevation</th>\n      <th>annual rainfall</th>\n    </tr>\n  </thead>\n  <tbody>\n    <tr>\n      <th>New York</th>\n      <td>6.467665</td>\n      <td>4.739387</td>\n      <td>4.807521</td>\n      <td>4.940940</td>\n      <td>6.448181</td>\n    </tr>\n    <tr>\n      <th>Tokyo</th>\n      <td>5.485201</td>\n      <td>4.710053</td>\n      <td>4.661145</td>\n      <td>3.383816</td>\n      <td>4.150675</td>\n    </tr>\n    <tr>\n      <th>Manila</th>\n      <td>5.922245</td>\n      <td>5.938723</td>\n      <td>5.450187</td>\n      <td>3.768296</td>\n      <td>6.291376</td>\n    </tr>\n    <tr>\n      <th>Budapest</th>\n      <td>4.986812</td>\n      <td>5.724053</td>\n      <td>3.702248</td>\n      <td>5.120048</td>\n      <td>3.571055</td>\n    </tr>\n  </tbody>\n</table>\n</div>"
     },
     "execution_count": 29,
     "metadata": {},
     "output_type": "execute_result"
    }
   ],
   "source": [
    "df4 = pd.DataFrame(5+np.random.randn(4, 5))\n",
    "df4.columns = ['area','population','mean temperature','elevation','annual rainfall']\n",
    "df4.index = ['New York', 'Tokyo', 'Manila', 'Budapest']\n",
    "df4"
   ],
   "metadata": {
    "collapsed": false,
    "ExecuteTime": {
     "end_time": "2023-12-19T13:16:35.349550200Z",
     "start_time": "2023-12-19T13:16:35.337049800Z"
    }
   }
  },
  {
   "cell_type": "code",
   "execution_count": 30,
   "outputs": [
    {
     "data": {
      "text/plain": "                    area  population  mean temperature  elevation  \\\nLondon          7.704911    6.063761          4.960756   7.279676   \nParis           4.914460    5.547807          5.030898   3.930040   \nBeijing         5.450168    4.676558          3.442826   6.802158   \nMedellin        3.655428    4.392019          6.626030   3.846522   \nPort Elizabeth  5.243466    6.320147          5.197445   3.543046   \nMumbai          5.703533    5.291581          6.466505   5.693395   \nSydney          6.569445    5.295073          5.134567   5.024470   \nBoston          4.073525    4.536046          7.214656   3.557964   \nNew York        6.467665    4.739387          4.807521   4.940940   \nTokyo           5.485201    4.710053          4.661145   3.383816   \nManila          5.922245    5.938723          5.450187   3.768296   \nBudapest        4.986812    5.724053          3.702248   5.120048   \n\n                annual rainfall  \nLondon                 6.149045  \nParis                  5.049758  \nBeijing                5.417212  \nMedellin               5.533379  \nPort Elizabeth         6.407534  \nMumbai                 3.961630  \nSydney                 4.320179  \nBoston                 6.455944  \nNew York               6.448181  \nTokyo                  4.150675  \nManila                 6.291376  \nBudapest               3.571055  ",
      "text/html": "<div>\n<style scoped>\n    .dataframe tbody tr th:only-of-type {\n        vertical-align: middle;\n    }\n\n    .dataframe tbody tr th {\n        vertical-align: top;\n    }\n\n    .dataframe thead th {\n        text-align: right;\n    }\n</style>\n<table border=\"1\" class=\"dataframe\">\n  <thead>\n    <tr style=\"text-align: right;\">\n      <th></th>\n      <th>area</th>\n      <th>population</th>\n      <th>mean temperature</th>\n      <th>elevation</th>\n      <th>annual rainfall</th>\n    </tr>\n  </thead>\n  <tbody>\n    <tr>\n      <th>London</th>\n      <td>7.704911</td>\n      <td>6.063761</td>\n      <td>4.960756</td>\n      <td>7.279676</td>\n      <td>6.149045</td>\n    </tr>\n    <tr>\n      <th>Paris</th>\n      <td>4.914460</td>\n      <td>5.547807</td>\n      <td>5.030898</td>\n      <td>3.930040</td>\n      <td>5.049758</td>\n    </tr>\n    <tr>\n      <th>Beijing</th>\n      <td>5.450168</td>\n      <td>4.676558</td>\n      <td>3.442826</td>\n      <td>6.802158</td>\n      <td>5.417212</td>\n    </tr>\n    <tr>\n      <th>Medellin</th>\n      <td>3.655428</td>\n      <td>4.392019</td>\n      <td>6.626030</td>\n      <td>3.846522</td>\n      <td>5.533379</td>\n    </tr>\n    <tr>\n      <th>Port Elizabeth</th>\n      <td>5.243466</td>\n      <td>6.320147</td>\n      <td>5.197445</td>\n      <td>3.543046</td>\n      <td>6.407534</td>\n    </tr>\n    <tr>\n      <th>Mumbai</th>\n      <td>5.703533</td>\n      <td>5.291581</td>\n      <td>6.466505</td>\n      <td>5.693395</td>\n      <td>3.961630</td>\n    </tr>\n    <tr>\n      <th>Sydney</th>\n      <td>6.569445</td>\n      <td>5.295073</td>\n      <td>5.134567</td>\n      <td>5.024470</td>\n      <td>4.320179</td>\n    </tr>\n    <tr>\n      <th>Boston</th>\n      <td>4.073525</td>\n      <td>4.536046</td>\n      <td>7.214656</td>\n      <td>3.557964</td>\n      <td>6.455944</td>\n    </tr>\n    <tr>\n      <th>New York</th>\n      <td>6.467665</td>\n      <td>4.739387</td>\n      <td>4.807521</td>\n      <td>4.940940</td>\n      <td>6.448181</td>\n    </tr>\n    <tr>\n      <th>Tokyo</th>\n      <td>5.485201</td>\n      <td>4.710053</td>\n      <td>4.661145</td>\n      <td>3.383816</td>\n      <td>4.150675</td>\n    </tr>\n    <tr>\n      <th>Manila</th>\n      <td>5.922245</td>\n      <td>5.938723</td>\n      <td>5.450187</td>\n      <td>3.768296</td>\n      <td>6.291376</td>\n    </tr>\n    <tr>\n      <th>Budapest</th>\n      <td>4.986812</td>\n      <td>5.724053</td>\n      <td>3.702248</td>\n      <td>5.120048</td>\n      <td>3.571055</td>\n    </tr>\n  </tbody>\n</table>\n</div>"
     },
     "execution_count": 30,
     "metadata": {},
     "output_type": "execute_result"
    }
   ],
   "source": [
    "df = pd.concat([df3,df4])\n",
    "df"
   ],
   "metadata": {
    "collapsed": false,
    "ExecuteTime": {
     "end_time": "2023-12-19T13:16:37.070934400Z",
     "start_time": "2023-12-19T13:16:37.060455500Z"
    }
   }
  },
  {
   "cell_type": "markdown",
   "metadata": {
    "id": "_V4E81NFS6iO"
   },
   "source": [
    "## Combining on Attributes\n",
    "\n",
    "What if we're looking at the same locations but different attributes? Consider the same df1"
   ]
  },
  {
   "cell_type": "code",
   "execution_count": 31,
   "metadata": {
    "id": "RY6pB5VNS6iO",
    "ExecuteTime": {
     "end_time": "2023-12-19T13:16:39.426632200Z",
     "start_time": "2023-12-19T13:16:39.415664600Z"
    }
   },
   "outputs": [],
   "source": [
    "df1 = pd.DataFrame(5+np.random.randn(5, 5))\n",
    "df1.columns = ['area','population','mean temperature','elevation','annual rainfall']\n",
    "df1.index = ['London', 'Paris', 'Beijing', 'Medellin', 'Port Elizabeth']"
   ]
  },
  {
   "cell_type": "code",
   "execution_count": 32,
   "metadata": {
    "colab": {
     "base_uri": "https://localhost:8080/",
     "height": 206
    },
    "id": "RUhGQIVKS6iQ",
    "outputId": "82a6fd77-a7fe-418c-993b-3bdfcf6e322d",
    "ExecuteTime": {
     "end_time": "2023-12-19T13:16:40.954481300Z",
     "start_time": "2023-12-19T13:16:40.938712Z"
    }
   },
   "outputs": [
    {
     "data": {
      "text/plain": "                    area  population  mean temperature  elevation  \\\nLondon          5.300314    5.197276          5.472218   6.086842   \nParis           4.731066    5.250756          5.662074   5.347791   \nBeijing         5.361423    4.032332          5.731245   4.451567   \nMedellin        6.099021    5.553665          4.470669   5.262143   \nPort Elizabeth  4.857725    5.442589          3.230401   6.756991   \n\n                annual rainfall  \nLondon                 6.103851  \nParis                  5.005892  \nBeijing                7.096785  \nMedellin               4.315235  \nPort Elizabeth         4.213277  ",
      "text/html": "<div>\n<style scoped>\n    .dataframe tbody tr th:only-of-type {\n        vertical-align: middle;\n    }\n\n    .dataframe tbody tr th {\n        vertical-align: top;\n    }\n\n    .dataframe thead th {\n        text-align: right;\n    }\n</style>\n<table border=\"1\" class=\"dataframe\">\n  <thead>\n    <tr style=\"text-align: right;\">\n      <th></th>\n      <th>area</th>\n      <th>population</th>\n      <th>mean temperature</th>\n      <th>elevation</th>\n      <th>annual rainfall</th>\n    </tr>\n  </thead>\n  <tbody>\n    <tr>\n      <th>London</th>\n      <td>5.300314</td>\n      <td>5.197276</td>\n      <td>5.472218</td>\n      <td>6.086842</td>\n      <td>6.103851</td>\n    </tr>\n    <tr>\n      <th>Paris</th>\n      <td>4.731066</td>\n      <td>5.250756</td>\n      <td>5.662074</td>\n      <td>5.347791</td>\n      <td>5.005892</td>\n    </tr>\n    <tr>\n      <th>Beijing</th>\n      <td>5.361423</td>\n      <td>4.032332</td>\n      <td>5.731245</td>\n      <td>4.451567</td>\n      <td>7.096785</td>\n    </tr>\n    <tr>\n      <th>Medellin</th>\n      <td>6.099021</td>\n      <td>5.553665</td>\n      <td>4.470669</td>\n      <td>5.262143</td>\n      <td>4.315235</td>\n    </tr>\n    <tr>\n      <th>Port Elizabeth</th>\n      <td>4.857725</td>\n      <td>5.442589</td>\n      <td>3.230401</td>\n      <td>6.756991</td>\n      <td>4.213277</td>\n    </tr>\n  </tbody>\n</table>\n</div>"
     },
     "execution_count": 32,
     "metadata": {},
     "output_type": "execute_result"
    }
   ],
   "source": [
    "df1"
   ]
  },
  {
   "cell_type": "markdown",
   "metadata": {
    "id": "mIL7nRfIS6iS"
   },
   "source": [
    "But a new dataframe df4, which details the same locations, but has different information about them:"
   ]
  },
  {
   "cell_type": "code",
   "execution_count": 33,
   "metadata": {
    "id": "Iegqp8xGS6iS",
    "ExecuteTime": {
     "end_time": "2023-12-19T13:16:43.090863400Z",
     "start_time": "2023-12-19T13:16:43.068955200Z"
    }
   },
   "outputs": [],
   "source": [
    "df4 = pd.DataFrame(5+np.random.randn(5, 3))\n",
    "df4.columns = ['Mean House Price', 'median income','walkability score']\n",
    "df4.index = ['London', 'Paris', 'Beijing', 'Medellin', 'Port Elizabeth']"
   ]
  },
  {
   "cell_type": "code",
   "execution_count": 34,
   "metadata": {
    "colab": {
     "base_uri": "https://localhost:8080/",
     "height": 206
    },
    "id": "rbAmWwAQS6iV",
    "outputId": "3e849127-3811-43a6-af50-d824439c1726",
    "ExecuteTime": {
     "end_time": "2023-12-19T13:16:45.092973200Z",
     "start_time": "2023-12-19T13:16:45.078070100Z"
    }
   },
   "outputs": [
    {
     "data": {
      "text/plain": "                Mean House Price  median income  walkability score\nLondon                  6.728727       4.862952           3.961478\nParis                   3.860745       3.686805           5.717833\nBeijing                 5.798255       5.024382           4.766433\nMedellin                6.816550       5.366494           5.974701\nPort Elizabeth          6.583330       4.945360           5.552336",
      "text/html": "<div>\n<style scoped>\n    .dataframe tbody tr th:only-of-type {\n        vertical-align: middle;\n    }\n\n    .dataframe tbody tr th {\n        vertical-align: top;\n    }\n\n    .dataframe thead th {\n        text-align: right;\n    }\n</style>\n<table border=\"1\" class=\"dataframe\">\n  <thead>\n    <tr style=\"text-align: right;\">\n      <th></th>\n      <th>Mean House Price</th>\n      <th>median income</th>\n      <th>walkability score</th>\n    </tr>\n  </thead>\n  <tbody>\n    <tr>\n      <th>London</th>\n      <td>6.728727</td>\n      <td>4.862952</td>\n      <td>3.961478</td>\n    </tr>\n    <tr>\n      <th>Paris</th>\n      <td>3.860745</td>\n      <td>3.686805</td>\n      <td>5.717833</td>\n    </tr>\n    <tr>\n      <th>Beijing</th>\n      <td>5.798255</td>\n      <td>5.024382</td>\n      <td>4.766433</td>\n    </tr>\n    <tr>\n      <th>Medellin</th>\n      <td>6.816550</td>\n      <td>5.366494</td>\n      <td>5.974701</td>\n    </tr>\n    <tr>\n      <th>Port Elizabeth</th>\n      <td>6.583330</td>\n      <td>4.945360</td>\n      <td>5.552336</td>\n    </tr>\n  </tbody>\n</table>\n</div>"
     },
     "execution_count": 34,
     "metadata": {},
     "output_type": "execute_result"
    }
   ],
   "source": [
    "df4"
   ]
  },
  {
   "cell_type": "markdown",
   "metadata": {
    "id": "0qqCGLRNS6iX"
   },
   "source": [
    "We have to join \"on\" the index - meaning when merging the records, python will look at the index column."
   ]
  },
  {
   "cell_type": "code",
   "execution_count": 35,
   "metadata": {
    "id": "WYmpWEtDS6iY",
    "ExecuteTime": {
     "end_time": "2023-12-19T13:16:49.479065500Z",
     "start_time": "2023-12-19T13:16:49.471557600Z"
    }
   },
   "outputs": [],
   "source": [
    "df_joined = df1.merge(df4, left_index=True, right_index=True)"
   ]
  },
  {
   "cell_type": "code",
   "execution_count": 36,
   "metadata": {
    "colab": {
     "base_uri": "https://localhost:8080/",
     "height": 206
    },
    "id": "vza_xrYaS6ic",
    "outputId": "2740ad52-8070-4cc8-833d-44dc76b5fc35",
    "ExecuteTime": {
     "end_time": "2023-12-19T13:16:51.334312Z",
     "start_time": "2023-12-19T13:16:51.321635400Z"
    }
   },
   "outputs": [
    {
     "data": {
      "text/plain": "                    area  population  mean temperature  elevation  \\\nLondon          5.300314    5.197276          5.472218   6.086842   \nParis           4.731066    5.250756          5.662074   5.347791   \nBeijing         5.361423    4.032332          5.731245   4.451567   \nMedellin        6.099021    5.553665          4.470669   5.262143   \nPort Elizabeth  4.857725    5.442589          3.230401   6.756991   \n\n                annual rainfall  Mean House Price  median income  \\\nLondon                 6.103851          6.728727       4.862952   \nParis                  5.005892          3.860745       3.686805   \nBeijing                7.096785          5.798255       5.024382   \nMedellin               4.315235          6.816550       5.366494   \nPort Elizabeth         4.213277          6.583330       4.945360   \n\n                walkability score  \nLondon                   3.961478  \nParis                    5.717833  \nBeijing                  4.766433  \nMedellin                 5.974701  \nPort Elizabeth           5.552336  ",
      "text/html": "<div>\n<style scoped>\n    .dataframe tbody tr th:only-of-type {\n        vertical-align: middle;\n    }\n\n    .dataframe tbody tr th {\n        vertical-align: top;\n    }\n\n    .dataframe thead th {\n        text-align: right;\n    }\n</style>\n<table border=\"1\" class=\"dataframe\">\n  <thead>\n    <tr style=\"text-align: right;\">\n      <th></th>\n      <th>area</th>\n      <th>population</th>\n      <th>mean temperature</th>\n      <th>elevation</th>\n      <th>annual rainfall</th>\n      <th>Mean House Price</th>\n      <th>median income</th>\n      <th>walkability score</th>\n    </tr>\n  </thead>\n  <tbody>\n    <tr>\n      <th>London</th>\n      <td>5.300314</td>\n      <td>5.197276</td>\n      <td>5.472218</td>\n      <td>6.086842</td>\n      <td>6.103851</td>\n      <td>6.728727</td>\n      <td>4.862952</td>\n      <td>3.961478</td>\n    </tr>\n    <tr>\n      <th>Paris</th>\n      <td>4.731066</td>\n      <td>5.250756</td>\n      <td>5.662074</td>\n      <td>5.347791</td>\n      <td>5.005892</td>\n      <td>3.860745</td>\n      <td>3.686805</td>\n      <td>5.717833</td>\n    </tr>\n    <tr>\n      <th>Beijing</th>\n      <td>5.361423</td>\n      <td>4.032332</td>\n      <td>5.731245</td>\n      <td>4.451567</td>\n      <td>7.096785</td>\n      <td>5.798255</td>\n      <td>5.024382</td>\n      <td>4.766433</td>\n    </tr>\n    <tr>\n      <th>Medellin</th>\n      <td>6.099021</td>\n      <td>5.553665</td>\n      <td>4.470669</td>\n      <td>5.262143</td>\n      <td>4.315235</td>\n      <td>6.816550</td>\n      <td>5.366494</td>\n      <td>5.974701</td>\n    </tr>\n    <tr>\n      <th>Port Elizabeth</th>\n      <td>4.857725</td>\n      <td>5.442589</td>\n      <td>3.230401</td>\n      <td>6.756991</td>\n      <td>4.213277</td>\n      <td>6.583330</td>\n      <td>4.945360</td>\n      <td>5.552336</td>\n    </tr>\n  </tbody>\n</table>\n</div>"
     },
     "execution_count": 36,
     "metadata": {},
     "output_type": "execute_result"
    }
   ],
   "source": [
    "df_joined"
   ]
  },
  {
   "cell_type": "markdown",
   "metadata": {
    "id": "EooLXZTQS6ie"
   },
   "source": [
    "Note that this joins on the *index*, not the row number - so if the order of elements in df4 is different, it should still work."
   ]
  },
  {
   "cell_type": "code",
   "execution_count": 37,
   "metadata": {
    "id": "n_91cClkS6ie",
    "ExecuteTime": {
     "end_time": "2023-12-19T13:16:53.312089300Z",
     "start_time": "2023-12-19T13:16:53.297136100Z"
    }
   },
   "outputs": [],
   "source": [
    "df4 = pd.DataFrame(np.random.randn(5, 3))\n",
    "df4.columns = ['Mean House Price', 'median income','walkability score']\n",
    "df4.index = ['Paris','Port Elizabeth', 'Beijing', 'Medellin', 'London']"
   ]
  },
  {
   "cell_type": "code",
   "execution_count": 38,
   "metadata": {
    "colab": {
     "base_uri": "https://localhost:8080/",
     "height": 206
    },
    "id": "mqMP2oAXS6ig",
    "outputId": "50c5a4ef-846f-47c0-b180-7389e9854aa5",
    "ExecuteTime": {
     "end_time": "2023-12-19T13:16:55.126771900Z",
     "start_time": "2023-12-19T13:16:55.110313500Z"
    }
   },
   "outputs": [
    {
     "data": {
      "text/plain": "                    area  population  mean temperature  elevation  \\\nLondon          5.300314    5.197276          5.472218   6.086842   \nParis           4.731066    5.250756          5.662074   5.347791   \nBeijing         5.361423    4.032332          5.731245   4.451567   \nMedellin        6.099021    5.553665          4.470669   5.262143   \nPort Elizabeth  4.857725    5.442589          3.230401   6.756991   \n\n                annual rainfall  \nLondon                 6.103851  \nParis                  5.005892  \nBeijing                7.096785  \nMedellin               4.315235  \nPort Elizabeth         4.213277  ",
      "text/html": "<div>\n<style scoped>\n    .dataframe tbody tr th:only-of-type {\n        vertical-align: middle;\n    }\n\n    .dataframe tbody tr th {\n        vertical-align: top;\n    }\n\n    .dataframe thead th {\n        text-align: right;\n    }\n</style>\n<table border=\"1\" class=\"dataframe\">\n  <thead>\n    <tr style=\"text-align: right;\">\n      <th></th>\n      <th>area</th>\n      <th>population</th>\n      <th>mean temperature</th>\n      <th>elevation</th>\n      <th>annual rainfall</th>\n    </tr>\n  </thead>\n  <tbody>\n    <tr>\n      <th>London</th>\n      <td>5.300314</td>\n      <td>5.197276</td>\n      <td>5.472218</td>\n      <td>6.086842</td>\n      <td>6.103851</td>\n    </tr>\n    <tr>\n      <th>Paris</th>\n      <td>4.731066</td>\n      <td>5.250756</td>\n      <td>5.662074</td>\n      <td>5.347791</td>\n      <td>5.005892</td>\n    </tr>\n    <tr>\n      <th>Beijing</th>\n      <td>5.361423</td>\n      <td>4.032332</td>\n      <td>5.731245</td>\n      <td>4.451567</td>\n      <td>7.096785</td>\n    </tr>\n    <tr>\n      <th>Medellin</th>\n      <td>6.099021</td>\n      <td>5.553665</td>\n      <td>4.470669</td>\n      <td>5.262143</td>\n      <td>4.315235</td>\n    </tr>\n    <tr>\n      <th>Port Elizabeth</th>\n      <td>4.857725</td>\n      <td>5.442589</td>\n      <td>3.230401</td>\n      <td>6.756991</td>\n      <td>4.213277</td>\n    </tr>\n  </tbody>\n</table>\n</div>"
     },
     "execution_count": 38,
     "metadata": {},
     "output_type": "execute_result"
    }
   ],
   "source": [
    "df1"
   ]
  },
  {
   "cell_type": "code",
   "execution_count": 39,
   "metadata": {
    "colab": {
     "base_uri": "https://localhost:8080/",
     "height": 206
    },
    "id": "A8NaT1CUS6ii",
    "outputId": "a66a4e0c-1d1c-46ec-c195-52396244d412",
    "ExecuteTime": {
     "end_time": "2023-12-19T13:17:03.220559700Z",
     "start_time": "2023-12-19T13:17:03.203891700Z"
    }
   },
   "outputs": [
    {
     "data": {
      "text/plain": "                Mean House Price  median income  walkability score\nParis                  -0.000738      -1.118631          -0.333153\nPort Elizabeth          1.839202      -0.559831           0.336030\nBeijing                 1.988878      -1.944541           0.330275\nMedellin               -0.122619      -0.210321           0.783954\nLondon                  0.921602      -1.140523           1.292861",
      "text/html": "<div>\n<style scoped>\n    .dataframe tbody tr th:only-of-type {\n        vertical-align: middle;\n    }\n\n    .dataframe tbody tr th {\n        vertical-align: top;\n    }\n\n    .dataframe thead th {\n        text-align: right;\n    }\n</style>\n<table border=\"1\" class=\"dataframe\">\n  <thead>\n    <tr style=\"text-align: right;\">\n      <th></th>\n      <th>Mean House Price</th>\n      <th>median income</th>\n      <th>walkability score</th>\n    </tr>\n  </thead>\n  <tbody>\n    <tr>\n      <th>Paris</th>\n      <td>-0.000738</td>\n      <td>-1.118631</td>\n      <td>-0.333153</td>\n    </tr>\n    <tr>\n      <th>Port Elizabeth</th>\n      <td>1.839202</td>\n      <td>-0.559831</td>\n      <td>0.336030</td>\n    </tr>\n    <tr>\n      <th>Beijing</th>\n      <td>1.988878</td>\n      <td>-1.944541</td>\n      <td>0.330275</td>\n    </tr>\n    <tr>\n      <th>Medellin</th>\n      <td>-0.122619</td>\n      <td>-0.210321</td>\n      <td>0.783954</td>\n    </tr>\n    <tr>\n      <th>London</th>\n      <td>0.921602</td>\n      <td>-1.140523</td>\n      <td>1.292861</td>\n    </tr>\n  </tbody>\n</table>\n</div>"
     },
     "execution_count": 39,
     "metadata": {},
     "output_type": "execute_result"
    }
   ],
   "source": [
    "df4"
   ]
  },
  {
   "cell_type": "code",
   "execution_count": 40,
   "metadata": {
    "id": "w2x9D_uqS6ik",
    "ExecuteTime": {
     "end_time": "2023-12-19T13:17:05.025805700Z",
     "start_time": "2023-12-19T13:17:05.009363300Z"
    }
   },
   "outputs": [],
   "source": [
    "df_joined = df1.merge(df4, left_index=True, right_index=True)"
   ]
  },
  {
   "cell_type": "code",
   "execution_count": 41,
   "metadata": {
    "colab": {
     "base_uri": "https://localhost:8080/",
     "height": 206
    },
    "id": "id3wkaJ-S6im",
    "outputId": "874ae28d-24cb-4fd1-c822-53648caf496f",
    "ExecuteTime": {
     "end_time": "2023-12-19T13:17:06.404841800Z",
     "start_time": "2023-12-19T13:17:06.391884400Z"
    }
   },
   "outputs": [
    {
     "data": {
      "text/plain": "                    area  population  mean temperature  elevation  \\\nLondon          5.300314    5.197276          5.472218   6.086842   \nParis           4.731066    5.250756          5.662074   5.347791   \nBeijing         5.361423    4.032332          5.731245   4.451567   \nMedellin        6.099021    5.553665          4.470669   5.262143   \nPort Elizabeth  4.857725    5.442589          3.230401   6.756991   \n\n                annual rainfall  Mean House Price  median income  \\\nLondon                 6.103851          0.921602      -1.140523   \nParis                  5.005892         -0.000738      -1.118631   \nBeijing                7.096785          1.988878      -1.944541   \nMedellin               4.315235         -0.122619      -0.210321   \nPort Elizabeth         4.213277          1.839202      -0.559831   \n\n                walkability score  \nLondon                   1.292861  \nParis                   -0.333153  \nBeijing                  0.330275  \nMedellin                 0.783954  \nPort Elizabeth           0.336030  ",
      "text/html": "<div>\n<style scoped>\n    .dataframe tbody tr th:only-of-type {\n        vertical-align: middle;\n    }\n\n    .dataframe tbody tr th {\n        vertical-align: top;\n    }\n\n    .dataframe thead th {\n        text-align: right;\n    }\n</style>\n<table border=\"1\" class=\"dataframe\">\n  <thead>\n    <tr style=\"text-align: right;\">\n      <th></th>\n      <th>area</th>\n      <th>population</th>\n      <th>mean temperature</th>\n      <th>elevation</th>\n      <th>annual rainfall</th>\n      <th>Mean House Price</th>\n      <th>median income</th>\n      <th>walkability score</th>\n    </tr>\n  </thead>\n  <tbody>\n    <tr>\n      <th>London</th>\n      <td>5.300314</td>\n      <td>5.197276</td>\n      <td>5.472218</td>\n      <td>6.086842</td>\n      <td>6.103851</td>\n      <td>0.921602</td>\n      <td>-1.140523</td>\n      <td>1.292861</td>\n    </tr>\n    <tr>\n      <th>Paris</th>\n      <td>4.731066</td>\n      <td>5.250756</td>\n      <td>5.662074</td>\n      <td>5.347791</td>\n      <td>5.005892</td>\n      <td>-0.000738</td>\n      <td>-1.118631</td>\n      <td>-0.333153</td>\n    </tr>\n    <tr>\n      <th>Beijing</th>\n      <td>5.361423</td>\n      <td>4.032332</td>\n      <td>5.731245</td>\n      <td>4.451567</td>\n      <td>7.096785</td>\n      <td>1.988878</td>\n      <td>-1.944541</td>\n      <td>0.330275</td>\n    </tr>\n    <tr>\n      <th>Medellin</th>\n      <td>6.099021</td>\n      <td>5.553665</td>\n      <td>4.470669</td>\n      <td>5.262143</td>\n      <td>4.315235</td>\n      <td>-0.122619</td>\n      <td>-0.210321</td>\n      <td>0.783954</td>\n    </tr>\n    <tr>\n      <th>Port Elizabeth</th>\n      <td>4.857725</td>\n      <td>5.442589</td>\n      <td>3.230401</td>\n      <td>6.756991</td>\n      <td>4.213277</td>\n      <td>1.839202</td>\n      <td>-0.559831</td>\n      <td>0.336030</td>\n    </tr>\n  </tbody>\n</table>\n</div>"
     },
     "execution_count": 41,
     "metadata": {},
     "output_type": "execute_result"
    }
   ],
   "source": [
    "df_joined"
   ]
  },
  {
   "cell_type": "markdown",
   "metadata": {
    "id": "3K9QAAtIS6io"
   },
   "source": [
    "## Merge Records\n",
    "Consider now a case where we have data for some but not all cities; so df1 stil has data for these 5 cities:"
   ]
  },
  {
   "cell_type": "code",
   "execution_count": 42,
   "metadata": {
    "colab": {
     "base_uri": "https://localhost:8080/",
     "height": 206
    },
    "id": "3wuan3iVS6ip",
    "outputId": "2d7b71f3-9df9-4b8e-d3ad-2aa52690fe2d",
    "ExecuteTime": {
     "end_time": "2023-12-19T13:17:24.125094900Z",
     "start_time": "2023-12-19T13:17:24.104587800Z"
    }
   },
   "outputs": [
    {
     "data": {
      "text/plain": "                    area  population  mean temperature  elevation  \\\nLondon          5.300314    5.197276          5.472218   6.086842   \nParis           4.731066    5.250756          5.662074   5.347791   \nBeijing         5.361423    4.032332          5.731245   4.451567   \nMedellin        6.099021    5.553665          4.470669   5.262143   \nPort Elizabeth  4.857725    5.442589          3.230401   6.756991   \n\n                annual rainfall  \nLondon                 6.103851  \nParis                  5.005892  \nBeijing                7.096785  \nMedellin               4.315235  \nPort Elizabeth         4.213277  ",
      "text/html": "<div>\n<style scoped>\n    .dataframe tbody tr th:only-of-type {\n        vertical-align: middle;\n    }\n\n    .dataframe tbody tr th {\n        vertical-align: top;\n    }\n\n    .dataframe thead th {\n        text-align: right;\n    }\n</style>\n<table border=\"1\" class=\"dataframe\">\n  <thead>\n    <tr style=\"text-align: right;\">\n      <th></th>\n      <th>area</th>\n      <th>population</th>\n      <th>mean temperature</th>\n      <th>elevation</th>\n      <th>annual rainfall</th>\n    </tr>\n  </thead>\n  <tbody>\n    <tr>\n      <th>London</th>\n      <td>5.300314</td>\n      <td>5.197276</td>\n      <td>5.472218</td>\n      <td>6.086842</td>\n      <td>6.103851</td>\n    </tr>\n    <tr>\n      <th>Paris</th>\n      <td>4.731066</td>\n      <td>5.250756</td>\n      <td>5.662074</td>\n      <td>5.347791</td>\n      <td>5.005892</td>\n    </tr>\n    <tr>\n      <th>Beijing</th>\n      <td>5.361423</td>\n      <td>4.032332</td>\n      <td>5.731245</td>\n      <td>4.451567</td>\n      <td>7.096785</td>\n    </tr>\n    <tr>\n      <th>Medellin</th>\n      <td>6.099021</td>\n      <td>5.553665</td>\n      <td>4.470669</td>\n      <td>5.262143</td>\n      <td>4.315235</td>\n    </tr>\n    <tr>\n      <th>Port Elizabeth</th>\n      <td>4.857725</td>\n      <td>5.442589</td>\n      <td>3.230401</td>\n      <td>6.756991</td>\n      <td>4.213277</td>\n    </tr>\n  </tbody>\n</table>\n</div>"
     },
     "execution_count": 42,
     "metadata": {},
     "output_type": "execute_result"
    }
   ],
   "source": [
    "df1"
   ]
  },
  {
   "cell_type": "markdown",
   "metadata": {
    "id": "Hb9KFYoWS6ir"
   },
   "source": [
    "But our new table, df5, contains data for three cities:"
   ]
  },
  {
   "cell_type": "code",
   "execution_count": 43,
   "metadata": {
    "id": "HF4QTxXyS6ir",
    "ExecuteTime": {
     "end_time": "2023-12-19T13:17:26.643554600Z",
     "start_time": "2023-12-19T13:17:26.626963900Z"
    }
   },
   "outputs": [],
   "source": [
    "df5 = pd.DataFrame(5+np.random.randn(3, 3))\n",
    "df5.columns = ['Mean House Price', 'median income','walkability score']\n",
    "df5.index = ['London', 'Paris', 'Glasgow']"
   ]
  },
  {
   "cell_type": "code",
   "execution_count": 44,
   "metadata": {
    "colab": {
     "base_uri": "https://localhost:8080/",
     "height": 143
    },
    "id": "XDqn6RpqS6it",
    "outputId": "ca47f0dd-80de-41ea-ddff-fc123adef720",
    "ExecuteTime": {
     "end_time": "2023-12-19T13:17:28.497171100Z",
     "start_time": "2023-12-19T13:17:28.484655700Z"
    }
   },
   "outputs": [
    {
     "data": {
      "text/plain": "         Mean House Price  median income  walkability score\nLondon           4.855104       4.449661           4.888476\nParis            4.515658       4.858139           4.159048\nGlasgow          3.685066       4.728903           2.204800",
      "text/html": "<div>\n<style scoped>\n    .dataframe tbody tr th:only-of-type {\n        vertical-align: middle;\n    }\n\n    .dataframe tbody tr th {\n        vertical-align: top;\n    }\n\n    .dataframe thead th {\n        text-align: right;\n    }\n</style>\n<table border=\"1\" class=\"dataframe\">\n  <thead>\n    <tr style=\"text-align: right;\">\n      <th></th>\n      <th>Mean House Price</th>\n      <th>median income</th>\n      <th>walkability score</th>\n    </tr>\n  </thead>\n  <tbody>\n    <tr>\n      <th>London</th>\n      <td>4.855104</td>\n      <td>4.449661</td>\n      <td>4.888476</td>\n    </tr>\n    <tr>\n      <th>Paris</th>\n      <td>4.515658</td>\n      <td>4.858139</td>\n      <td>4.159048</td>\n    </tr>\n    <tr>\n      <th>Glasgow</th>\n      <td>3.685066</td>\n      <td>4.728903</td>\n      <td>2.204800</td>\n    </tr>\n  </tbody>\n</table>\n</div>"
     },
     "execution_count": 44,
     "metadata": {},
     "output_type": "execute_result"
    }
   ],
   "source": [
    "df5"
   ]
  },
  {
   "cell_type": "markdown",
   "metadata": {
    "id": "p-nMMNZkS6iu"
   },
   "source": [
    "## Exercise:\n",
    "\n",
    "How many cities appear in:\n",
    "- both dataframes A:2\n",
    "- only df1 A:3\n",
    "- only df5 A:1\n",
    "- neither df1 nor df5? A:All the other cities"
   ]
  },
  {
   "cell_type": "markdown",
   "metadata": {
    "id": "7jbHLNWJS6iu"
   },
   "source": [
    "## Way Back Venn\n",
    "\n",
    "What is the mechanism for joining data where these mismatches exist? Well, there are several, starting with the..."
   ]
  },
  {
   "cell_type": "markdown",
   "metadata": {
    "id": "XjGv-0WiS6iv"
   },
   "source": [
    "## Inner Join:"
   ]
  },
  {
   "cell_type": "code",
   "execution_count": 45,
   "metadata": {
    "colab": {
     "base_uri": "https://localhost:8080/",
     "height": 346
    },
    "id": "3tm0ueElS6iv",
    "outputId": "73daf8c4-da40-4b44-a593-8ce9cb08ba0c",
    "ExecuteTime": {
     "end_time": "2023-12-19T13:18:26.990596900Z",
     "start_time": "2023-12-19T13:18:25.599430300Z"
    }
   },
   "outputs": [
    {
     "data": {
      "image/png": "[encoded data removed]",
      "text/plain": "<IPython.core.display.Image object>"
     },
     "execution_count": 45,
     "metadata": {},
     "output_type": "execute_result"
    }
   ],
   "source": [
    "from IPython.display import Image\n",
    "\n",
    "data_path = \"https://s3.eu-west-2.amazonaws.com/qm2/wk3/inner.png\"\n",
    "Image(data_path)"
   ]
  },
  {
   "cell_type": "markdown",
   "metadata": {
    "id": "zqOCeIaQS6ix"
   },
   "source": [
    "(Image from http://blog.codinghorror.com/a-visual-explanation-of-sql-joins/)"
   ]
  },
  {
   "cell_type": "markdown",
   "metadata": {
    "id": "WAqZJFC0S6ix"
   },
   "source": [
    "The inner join *only* includes data whose index appears in both tables. Let's see what that looks like:"
   ]
  },
  {
   "cell_type": "code",
   "execution_count": 46,
   "metadata": {
    "id": "db9q4sgPS6ix",
    "ExecuteTime": {
     "end_time": "2023-12-19T13:18:29.512064900Z",
     "start_time": "2023-12-19T13:18:29.495210100Z"
    }
   },
   "outputs": [],
   "source": [
    "df_joined = df1.merge(df5, left_index=True, right_index=True)"
   ]
  },
  {
   "cell_type": "code",
   "execution_count": 47,
   "metadata": {
    "colab": {
     "base_uri": "https://localhost:8080/",
     "height": 112
    },
    "id": "8ADhCAjIS6iz",
    "outputId": "d20630dd-94de-4c7c-d7e0-8acb35ac63b2",
    "ExecuteTime": {
     "end_time": "2023-12-19T13:18:30.945891900Z",
     "start_time": "2023-12-19T13:18:30.930453200Z"
    }
   },
   "outputs": [
    {
     "data": {
      "text/plain": "            area  population  mean temperature  elevation  annual rainfall  \\\nLondon  5.300314    5.197276          5.472218   6.086842         6.103851   \nParis   4.731066    5.250756          5.662074   5.347791         5.005892   \n\n        Mean House Price  median income  walkability score  \nLondon          4.855104       4.449661           4.888476  \nParis           4.515658       4.858139           4.159048  ",
      "text/html": "<div>\n<style scoped>\n    .dataframe tbody tr th:only-of-type {\n        vertical-align: middle;\n    }\n\n    .dataframe tbody tr th {\n        vertical-align: top;\n    }\n\n    .dataframe thead th {\n        text-align: right;\n    }\n</style>\n<table border=\"1\" class=\"dataframe\">\n  <thead>\n    <tr style=\"text-align: right;\">\n      <th></th>\n      <th>area</th>\n      <th>population</th>\n      <th>mean temperature</th>\n      <th>elevation</th>\n      <th>annual rainfall</th>\n      <th>Mean House Price</th>\n      <th>median income</th>\n      <th>walkability score</th>\n    </tr>\n  </thead>\n  <tbody>\n    <tr>\n      <th>London</th>\n      <td>5.300314</td>\n      <td>5.197276</td>\n      <td>5.472218</td>\n      <td>6.086842</td>\n      <td>6.103851</td>\n      <td>4.855104</td>\n      <td>4.449661</td>\n      <td>4.888476</td>\n    </tr>\n    <tr>\n      <th>Paris</th>\n      <td>4.731066</td>\n      <td>5.250756</td>\n      <td>5.662074</td>\n      <td>5.347791</td>\n      <td>5.005892</td>\n      <td>4.515658</td>\n      <td>4.858139</td>\n      <td>4.159048</td>\n    </tr>\n  </tbody>\n</table>\n</div>"
     },
     "execution_count": 47,
     "metadata": {},
     "output_type": "execute_result"
    }
   ],
   "source": [
    "df_joined"
   ]
  },
  {
   "cell_type": "markdown",
   "metadata": {
    "id": "G6sp9kBzS6i0"
   },
   "source": [
    "Here, we have a couple of arguments specifying the manner of the join - we have specified that we are joining on the index of the left and right dataset with the optional \"left_index=True\" and \"right_index=True\". Less obviously, the **left** dataset is df1 (because we're using *df1.merge()* and the **right** dataset is df5 (because it appears as an argument in merge(). There's no special reason it shouldn't be the other way around, but for this function, it is this way around and we need to remember that when we use it."
   ]
  },
  {
   "cell_type": "markdown",
   "metadata": {
    "id": "-_Cw_x_-S6i1"
   },
   "source": [
    "## Inner Space\n",
    "\n",
    "Although we haven't specified it, the merge() function has defaulted to an inner join (like the diagram above). We can specify how the join is calculated by changing the text in the optional argument \"how\":"
   ]
  },
  {
   "cell_type": "code",
   "execution_count": 48,
   "metadata": {
    "id": "DgUf5p2aS6i2",
    "ExecuteTime": {
     "end_time": "2023-12-19T13:18:36.010986800Z",
     "start_time": "2023-12-19T13:18:35.995289100Z"
    }
   },
   "outputs": [],
   "source": [
    "df_joined = df1.merge(df5, left_index=True, right_index=True, how='inner')"
   ]
  },
  {
   "cell_type": "code",
   "execution_count": 49,
   "metadata": {
    "colab": {
     "base_uri": "https://localhost:8080/",
     "height": 112
    },
    "id": "hSGBUxd-S6i4",
    "outputId": "9e1ea9fa-cc64-4ae6-9b7c-5efeacea3edf",
    "ExecuteTime": {
     "end_time": "2023-12-19T13:18:37.953320Z",
     "start_time": "2023-12-19T13:18:37.939240Z"
    }
   },
   "outputs": [
    {
     "data": {
      "text/plain": "            area  population  mean temperature  elevation  annual rainfall  \\\nLondon  5.300314    5.197276          5.472218   6.086842         6.103851   \nParis   4.731066    5.250756          5.662074   5.347791         5.005892   \n\n        Mean House Price  median income  walkability score  \nLondon          4.855104       4.449661           4.888476  \nParis           4.515658       4.858139           4.159048  ",
      "text/html": "<div>\n<style scoped>\n    .dataframe tbody tr th:only-of-type {\n        vertical-align: middle;\n    }\n\n    .dataframe tbody tr th {\n        vertical-align: top;\n    }\n\n    .dataframe thead th {\n        text-align: right;\n    }\n</style>\n<table border=\"1\" class=\"dataframe\">\n  <thead>\n    <tr style=\"text-align: right;\">\n      <th></th>\n      <th>area</th>\n      <th>population</th>\n      <th>mean temperature</th>\n      <th>elevation</th>\n      <th>annual rainfall</th>\n      <th>Mean House Price</th>\n      <th>median income</th>\n      <th>walkability score</th>\n    </tr>\n  </thead>\n  <tbody>\n    <tr>\n      <th>London</th>\n      <td>5.300314</td>\n      <td>5.197276</td>\n      <td>5.472218</td>\n      <td>6.086842</td>\n      <td>6.103851</td>\n      <td>4.855104</td>\n      <td>4.449661</td>\n      <td>4.888476</td>\n    </tr>\n    <tr>\n      <th>Paris</th>\n      <td>4.731066</td>\n      <td>5.250756</td>\n      <td>5.662074</td>\n      <td>5.347791</td>\n      <td>5.005892</td>\n      <td>4.515658</td>\n      <td>4.858139</td>\n      <td>4.159048</td>\n    </tr>\n  </tbody>\n</table>\n</div>"
     },
     "execution_count": 49,
     "metadata": {},
     "output_type": "execute_result"
    }
   ],
   "source": [
    "df_joined"
   ]
  },
  {
   "cell_type": "markdown",
   "metadata": {
    "id": "HXo07YMZS6i6"
   },
   "source": [
    "## The Future of The Left\n",
    "The *left* join includes **all** rows where the index appears on the **left** hand side of the join, and **any** data which **matches** it on the **right** hand side. If the index appears on the left but not the right, it will include the data from the left table, and have blanks for the columns on the right."
   ]
  },
  {
   "cell_type": "code",
   "execution_count": 50,
   "metadata": {
    "colab": {
     "base_uri": "https://localhost:8080/",
     "height": 346
    },
    "id": "_Fzj1fzLS6i7",
    "outputId": "ff1637ef-c554-4f07-fd47-37d0862f501c",
    "ExecuteTime": {
     "end_time": "2023-12-19T13:18:50.126476800Z",
     "start_time": "2023-12-19T13:18:48.889994100Z"
    }
   },
   "outputs": [
    {
     "data": {
      "image/png": "[encoded data removed]",
      "text/plain": "<IPython.core.display.Image object>"
     },
     "execution_count": 50,
     "metadata": {},
     "output_type": "execute_result"
    }
   ],
   "source": [
    "data_path = \"https://s3.eu-west-2.amazonaws.com/qm2/wk3/left.png\"\n",
    "Image(data_path)"
   ]
  },
  {
   "cell_type": "markdown",
   "metadata": {
    "id": "uBYPSwlxS6i9"
   },
   "source": [
    "What does *this* look like? We will use the *how='left'* optional argument to create a left join:"
   ]
  },
  {
   "cell_type": "code",
   "execution_count": null,
   "metadata": {
    "id": "F3hxwEZxS6i-"
   },
   "outputs": [],
   "source": [
    "df_joined = df1.merge(df5, left_index=True, right_index=True, how='left')"
   ]
  },
  {
   "cell_type": "code",
   "execution_count": null,
   "metadata": {
    "colab": {
     "base_uri": "https://localhost:8080/",
     "height": 206
    },
    "id": "7jVbmtsYS6jA",
    "outputId": "4041eacc-ec51-4eae-f598-d14d81b4e87a"
   },
   "outputs": [
    {
     "data": {
      "text/html": [
       "\n",
       "  <div id=\"df-828a035e-99f7-42bb-a930-f9f6de610548\">\n",
       "    <div class=\"colab-df-container\">\n",
       "      <div>\n",
       "<style scoped>\n",
       "    .dataframe tbody tr th:only-of-type {\n",
       "        vertical-align: middle;\n",
       "    }\n",
       "\n",
       "    .dataframe tbody tr th {\n",
       "        vertical-align: top;\n",
       "    }\n",
       "\n",
       "    .dataframe thead th {\n",
       "        text-align: right;\n",
       "    }\n",
       "</style>\n",
       "<table border=\"1\" class=\"dataframe\">\n",
       "  <thead>\n",
       "    <tr style=\"text-align: right;\">\n",
       "      <th></th>\n",
       "      <th>area</th>\n",
       "      <th>population</th>\n",
       "      <th>mean temperature</th>\n",
       "      <th>elevation</th>\n",
       "      <th>annual rainfall</th>\n",
       "      <th>Mean House Price</th>\n",
       "      <th>median income</th>\n",
       "      <th>walkability score</th>\n",
       "    </tr>\n",
       "  </thead>\n",
       "  <tbody>\n",
       "    <tr>\n",
       "      <th>London</th>\n",
       "      <td>4.898594</td>\n",
       "      <td>6.625739</td>\n",
       "      <td>3.587877</td>\n",
       "      <td>6.063331</td>\n",
       "      <td>4.342769</td>\n",
       "      <td>4.848734</td>\n",
       "      <td>6.598818</td>\n",
       "      <td>5.442444</td>\n",
       "    </tr>\n",
       "    <tr>\n",
       "      <th>Paris</th>\n",
       "      <td>6.032702</td>\n",
       "      <td>3.479265</td>\n",
       "      <td>2.383832</td>\n",
       "      <td>5.251509</td>\n",
       "      <td>5.158178</td>\n",
       "      <td>5.294294</td>\n",
       "      <td>4.282418</td>\n",
       "      <td>5.741057</td>\n",
       "    </tr>\n",
       "    <tr>\n",
       "      <th>Beijing</th>\n",
       "      <td>4.368419</td>\n",
       "      <td>4.993774</td>\n",
       "      <td>2.942992</td>\n",
       "      <td>3.761624</td>\n",
       "      <td>6.002863</td>\n",
       "      <td>NaN</td>\n",
       "      <td>NaN</td>\n",
       "      <td>NaN</td>\n",
       "    </tr>\n",
       "    <tr>\n",
       "      <th>Medellin</th>\n",
       "      <td>7.437921</td>\n",
       "      <td>5.228150</td>\n",
       "      <td>3.902431</td>\n",
       "      <td>4.437361</td>\n",
       "      <td>5.563400</td>\n",
       "      <td>NaN</td>\n",
       "      <td>NaN</td>\n",
       "      <td>NaN</td>\n",
       "    </tr>\n",
       "    <tr>\n",
       "      <th>Port Elizabeth</th>\n",
       "      <td>7.053265</td>\n",
       "      <td>5.936734</td>\n",
       "      <td>5.842155</td>\n",
       "      <td>6.042136</td>\n",
       "      <td>7.057592</td>\n",
       "      <td>NaN</td>\n",
       "      <td>NaN</td>\n",
       "      <td>NaN</td>\n",
       "    </tr>\n",
       "  </tbody>\n",
       "</table>\n",
       "</div>\n",
       "      <button class=\"colab-df-convert\" onclick=\"convertToInteractive('df-828a035e-99f7-42bb-a930-f9f6de610548')\"\n",
       "              title=\"Convert this dataframe to an interactive table.\"\n",
       "              style=\"display:none;\">\n",
       "        \n",
       "  <svg xmlns=\"http://www.w3.org/2000/svg\" height=\"24px\"viewBox=\"0 0 24 24\"\n",
       "       width=\"24px\">\n",
       "    <path d=\"M0 0h24v24H0V0z\" fill=\"none\"/>\n",
       "    <path d=\"M18.56 5.44l.94 2.06.94-2.06 2.06-.94-2.06-.94-.94-2.06-.94 2.06-2.06.94zm-11 1L8.5 8.5l.94-2.06 2.06-.94-2.06-.94L8.5 2.5l-.94 2.06-2.06.94zm10 10l.94 2.06.94-2.06 2.06-.94-2.06-.94-.94-2.06-.94 2.06-2.06.94z\"/><path d=\"M17.41 7.96l-1.37-1.37c-.4-.4-.92-.59-1.43-.59-.52 0-1.04.2-1.43.59L10.3 9.45l-7.72 7.72c-.78.78-.78 2.05 0 2.83L4 21.41c.39.39.9.59 1.41.59.51 0 1.02-.2 1.41-.59l7.78-7.78 2.81-2.81c.8-.78.8-2.07 0-2.86zM5.41 20L4 18.59l7.72-7.72 1.47 1.35L5.41 20z\"/>\n",
       "  </svg>\n",
       "      </button>\n",
       "      \n",
       "  <style>\n",
       "    .colab-df-container {\n",
       "      display:flex;\n",
       "      flex-wrap:wrap;\n",
       "      gap: 12px;\n",
       "    }\n",
       "\n",
       "    .colab-df-convert {\n",
       "      background-color: #E8F0FE;\n",
       "      border: none;\n",
       "      border-radius: 50%;\n",
       "      cursor: pointer;\n",
       "      display: none;\n",
       "      fill: #1967D2;\n",
       "      height: 32px;\n",
       "      padding: 0 0 0 0;\n",
       "      width: 32px;\n",
       "    }\n",
       "\n",
       "    .colab-df-convert:hover {\n",
       "      background-color: #E2EBFA;\n",
       "      box-shadow: 0px 1px 2px rgba(60, 64, 67, 0.3), 0px 1px 3px 1px rgba(60, 64, 67, 0.15);\n",
       "      fill: #174EA6;\n",
       "    }\n",
       "\n",
       "    [theme=dark] .colab-df-convert {\n",
       "      background-color: #3B4455;\n",
       "      fill: #D2E3FC;\n",
       "    }\n",
       "\n",
       "    [theme=dark] .colab-df-convert:hover {\n",
       "      background-color: #434B5C;\n",
       "      box-shadow: 0px 1px 3px 1px rgba(0, 0, 0, 0.15);\n",
       "      filter: drop-shadow(0px 1px 2px rgba(0, 0, 0, 0.3));\n",
       "      fill: #FFFFFF;\n",
       "    }\n",
       "  </style>\n",
       "\n",
       "      <script>\n",
       "        const buttonEl =\n",
       "          document.querySelector('#df-828a035e-99f7-42bb-a930-f9f6de610548 button.colab-df-convert');\n",
       "        buttonEl.style.display =\n",
       "          google.colab.kernel.accessAllowed ? 'block' : 'none';\n",
       "\n",
       "        async function convertToInteractive(key) {\n",
       "          const element = document.querySelector('#df-828a035e-99f7-42bb-a930-f9f6de610548');\n",
       "          const dataTable =\n",
       "            await google.colab.kernel.invokeFunction('convertToInteractive',\n",
       "                                                     [key], {});\n",
       "          if (!dataTable) return;\n",
       "\n",
       "          const docLinkHtml = 'Like what you see? Visit the ' +\n",
       "            '<a target=\"_blank\" href=https://colab.research.google.com/notebooks/data_table.ipynb>data table notebook</a>'\n",
       "            + ' to learn more about interactive tables.';\n",
       "          element.innerHTML = '';\n",
       "          dataTable['output_type'] = 'display_data';\n",
       "          await google.colab.output.renderOutput(dataTable, element);\n",
       "          const docLink = document.createElement('div');\n",
       "          docLink.innerHTML = docLinkHtml;\n",
       "          element.appendChild(docLink);\n",
       "        }\n",
       "      </script>\n",
       "    </div>\n",
       "  </div>\n",
       "  "
      ],
      "text/plain": [
       "                    area  population  mean temperature  elevation  \\\n",
       "London          4.898594    6.625739          3.587877   6.063331   \n",
       "Paris           6.032702    3.479265          2.383832   5.251509   \n",
       "Beijing         4.368419    4.993774          2.942992   3.761624   \n",
       "Medellin        7.437921    5.228150          3.902431   4.437361   \n",
       "Port Elizabeth  7.053265    5.936734          5.842155   6.042136   \n",
       "\n",
       "                annual rainfall  Mean House Price  median income  \\\n",
       "London                 4.342769          4.848734       6.598818   \n",
       "Paris                  5.158178          5.294294       4.282418   \n",
       "Beijing                6.002863               NaN            NaN   \n",
       "Medellin               5.563400               NaN            NaN   \n",
       "Port Elizabeth         7.057592               NaN            NaN   \n",
       "\n",
       "                walkability score  \n",
       "London                   5.442444  \n",
       "Paris                    5.741057  \n",
       "Beijing                       NaN  \n",
       "Medellin                      NaN  \n",
       "Port Elizabeth                NaN  "
      ]
     },
     "execution_count": 39,
     "metadata": {},
     "output_type": "execute_result"
    }
   ],
   "source": [
    "df_joined"
   ]
  },
  {
   "cell_type": "markdown",
   "metadata": {
    "id": "EzNh3WeSS6jC"
   },
   "source": [
    "As we see, the missing data appears as **NaN** - Not a Number."
   ]
  },
  {
   "cell_type": "markdown",
   "metadata": {
    "id": "qFwsma6tS6jC"
   },
   "source": [
    "## Exercise:\n",
    "\n",
    "Carry out *right* and *outer* joins on the dataframes df1 and df5 and explain how they're filtering and joining the data."
   ]
  },
  {
   "cell_type": "code",
   "execution_count": 51,
   "outputs": [
    {
     "data": {
      "text/plain": "             area  population  mean temperature  elevation  annual rainfall  \\\nLondon   5.300314    5.197276          5.472218   6.086842         6.103851   \nParis    4.731066    5.250756          5.662074   5.347791         5.005892   \nGlasgow       NaN         NaN               NaN        NaN              NaN   \n\n         Mean House Price  median income  walkability score  \nLondon           4.855104       4.449661           4.888476  \nParis            4.515658       4.858139           4.159048  \nGlasgow          3.685066       4.728903           2.204800  ",
      "text/html": "<div>\n<style scoped>\n    .dataframe tbody tr th:only-of-type {\n        vertical-align: middle;\n    }\n\n    .dataframe tbody tr th {\n        vertical-align: top;\n    }\n\n    .dataframe thead th {\n        text-align: right;\n    }\n</style>\n<table border=\"1\" class=\"dataframe\">\n  <thead>\n    <tr style=\"text-align: right;\">\n      <th></th>\n      <th>area</th>\n      <th>population</th>\n      <th>mean temperature</th>\n      <th>elevation</th>\n      <th>annual rainfall</th>\n      <th>Mean House Price</th>\n      <th>median income</th>\n      <th>walkability score</th>\n    </tr>\n  </thead>\n  <tbody>\n    <tr>\n      <th>London</th>\n      <td>5.300314</td>\n      <td>5.197276</td>\n      <td>5.472218</td>\n      <td>6.086842</td>\n      <td>6.103851</td>\n      <td>4.855104</td>\n      <td>4.449661</td>\n      <td>4.888476</td>\n    </tr>\n    <tr>\n      <th>Paris</th>\n      <td>4.731066</td>\n      <td>5.250756</td>\n      <td>5.662074</td>\n      <td>5.347791</td>\n      <td>5.005892</td>\n      <td>4.515658</td>\n      <td>4.858139</td>\n      <td>4.159048</td>\n    </tr>\n    <tr>\n      <th>Glasgow</th>\n      <td>NaN</td>\n      <td>NaN</td>\n      <td>NaN</td>\n      <td>NaN</td>\n      <td>NaN</td>\n      <td>3.685066</td>\n      <td>4.728903</td>\n      <td>2.204800</td>\n    </tr>\n  </tbody>\n</table>\n</div>"
     },
     "execution_count": 51,
     "metadata": {},
     "output_type": "execute_result"
    }
   ],
   "source": [
    "df_joined = df1.merge(df5, left_index=True, right_index=True, how='right')\n",
    "df_joined"
   ],
   "metadata": {
    "collapsed": false,
    "ExecuteTime": {
     "end_time": "2023-12-19T13:19:27.294734600Z",
     "start_time": "2023-12-19T13:19:27.281561200Z"
    }
   }
  },
  {
   "cell_type": "code",
   "execution_count": 52,
   "outputs": [
    {
     "data": {
      "text/plain": "                    area  population  mean temperature  elevation  \\\nBeijing         5.361423    4.032332          5.731245   4.451567   \nGlasgow              NaN         NaN               NaN        NaN   \nLondon          5.300314    5.197276          5.472218   6.086842   \nMedellin        6.099021    5.553665          4.470669   5.262143   \nParis           4.731066    5.250756          5.662074   5.347791   \nPort Elizabeth  4.857725    5.442589          3.230401   6.756991   \n\n                annual rainfall  Mean House Price  median income  \\\nBeijing                7.096785               NaN            NaN   \nGlasgow                     NaN          3.685066       4.728903   \nLondon                 6.103851          4.855104       4.449661   \nMedellin               4.315235               NaN            NaN   \nParis                  5.005892          4.515658       4.858139   \nPort Elizabeth         4.213277               NaN            NaN   \n\n                walkability score  \nBeijing                       NaN  \nGlasgow                  2.204800  \nLondon                   4.888476  \nMedellin                      NaN  \nParis                    4.159048  \nPort Elizabeth                NaN  ",
      "text/html": "<div>\n<style scoped>\n    .dataframe tbody tr th:only-of-type {\n        vertical-align: middle;\n    }\n\n    .dataframe tbody tr th {\n        vertical-align: top;\n    }\n\n    .dataframe thead th {\n        text-align: right;\n    }\n</style>\n<table border=\"1\" class=\"dataframe\">\n  <thead>\n    <tr style=\"text-align: right;\">\n      <th></th>\n      <th>area</th>\n      <th>population</th>\n      <th>mean temperature</th>\n      <th>elevation</th>\n      <th>annual rainfall</th>\n      <th>Mean House Price</th>\n      <th>median income</th>\n      <th>walkability score</th>\n    </tr>\n  </thead>\n  <tbody>\n    <tr>\n      <th>Beijing</th>\n      <td>5.361423</td>\n      <td>4.032332</td>\n      <td>5.731245</td>\n      <td>4.451567</td>\n      <td>7.096785</td>\n      <td>NaN</td>\n      <td>NaN</td>\n      <td>NaN</td>\n    </tr>\n    <tr>\n      <th>Glasgow</th>\n      <td>NaN</td>\n      <td>NaN</td>\n      <td>NaN</td>\n      <td>NaN</td>\n      <td>NaN</td>\n      <td>3.685066</td>\n      <td>4.728903</td>\n      <td>2.204800</td>\n    </tr>\n    <tr>\n      <th>London</th>\n      <td>5.300314</td>\n      <td>5.197276</td>\n      <td>5.472218</td>\n      <td>6.086842</td>\n      <td>6.103851</td>\n      <td>4.855104</td>\n      <td>4.449661</td>\n      <td>4.888476</td>\n    </tr>\n    <tr>\n      <th>Medellin</th>\n      <td>6.099021</td>\n      <td>5.553665</td>\n      <td>4.470669</td>\n      <td>5.262143</td>\n      <td>4.315235</td>\n      <td>NaN</td>\n      <td>NaN</td>\n      <td>NaN</td>\n    </tr>\n    <tr>\n      <th>Paris</th>\n      <td>4.731066</td>\n      <td>5.250756</td>\n      <td>5.662074</td>\n      <td>5.347791</td>\n      <td>5.005892</td>\n      <td>4.515658</td>\n      <td>4.858139</td>\n      <td>4.159048</td>\n    </tr>\n    <tr>\n      <th>Port Elizabeth</th>\n      <td>4.857725</td>\n      <td>5.442589</td>\n      <td>3.230401</td>\n      <td>6.756991</td>\n      <td>4.213277</td>\n      <td>NaN</td>\n      <td>NaN</td>\n      <td>NaN</td>\n    </tr>\n  </tbody>\n</table>\n</div>"
     },
     "execution_count": 52,
     "metadata": {},
     "output_type": "execute_result"
    }
   ],
   "source": [
    "df_joined = df1.merge(df5, left_index=True, right_index=True, how='outer')\n",
    "df_joined"
   ],
   "metadata": {
    "collapsed": false,
    "ExecuteTime": {
     "end_time": "2023-12-19T13:19:41.597411100Z",
     "start_time": "2023-12-19T13:19:41.566715100Z"
    }
   }
  },
  {
   "cell_type": "markdown",
   "metadata": {
    "id": "6Kw7EO9pS6jC"
   },
   "source": [
    "## I Am The One and Only\n",
    "\n",
    "So far, we've carried out joins on data which have a *one-to-one* relationship; data for cities or people. What if our data has a *one-to-many* correspondence?\n",
    "\n",
    "*Example:* We want to look at the quality of life in cities (a real student project from 2014). We have a dataset listing city-level characteristics for a number of cities in Europe, including the country each city is in. We also have a dataset listing the GDP, life expectancy and other indicators for a number of *countries* in Europe. How do we create a dataframe which, for each city, lists all of the characteristics of a city and those of its parent country?"
   ]
  },
  {
   "cell_type": "markdown",
   "metadata": {
    "id": "FBuvIDuUS6jC"
   },
   "source": [
    "We'll be working now with data from the UN, covering information about cities - real data this time. The UN has some great data, we've taken some from here and processed it in various ways:\n",
    "\n",
    "http://data.un.org/Data.aspx?d=POP&f=tableCode%3A240\n",
    "\n",
    "Let's load up data on city population - this set contains data for 2012-2014 inclusive:"
   ]
  },
  {
   "cell_type": "code",
   "execution_count": 54,
   "metadata": {
    "id": "OT9bs-RKS6jD",
    "ExecuteTime": {
     "end_time": "2023-12-19T13:20:12.691025500Z",
     "start_time": "2023-12-19T13:20:12.653582500Z"
    }
   },
   "outputs": [],
   "source": [
    "data_path = \"./data/wk6/UN_Cities_1214_population.csv\"\n",
    "\n",
    "city_pop = pd.read_csv(data_path, encoding='latin1')"
   ]
  },
  {
   "cell_type": "code",
   "execution_count": 58,
   "metadata": {
    "colab": {
     "base_uri": "https://localhost:8080/",
     "height": 206
    },
    "id": "KrxMQsfcS6jF",
    "outputId": "02ca7c3a-68a2-4b20-b65b-d7498f5b25a8",
    "ExecuteTime": {
     "end_time": "2023-12-19T13:21:56.349327300Z",
     "start_time": "2023-12-19T13:21:56.331808800Z"
    }
   },
   "outputs": [
    {
     "data": {
      "text/plain": "      Year   Area         Sex         City    City type  \\\n0     2013  Total  Both Sexes    MARIEHAMN  City proper   \n1     2013  Total        Male    MARIEHAMN  City proper   \n2     2013  Total      Female    MARIEHAMN  City proper   \n3     2012  Total  Both Sexes    MARIEHAMN  City proper   \n4     2012  Total        Male    MARIEHAMN  City proper   \n...    ...    ...         ...          ...          ...   \n3791  2012  Total      Female     Bulawayo  City proper   \n3792  2012  Total      Female  Chitungwiza  City proper   \n3793  2012  Total      Female        Gweru  City proper   \n3794  2012  Total      Female       HARARE  City proper   \n3795  2012  Total      Female       Mutare  City proper   \n\n                                  Record Type             Reliability  \\\n0                          Estimate - de jure  Final figure, complete   \n1                          Estimate - de jure  Final figure, complete   \n2                          Estimate - de jure  Final figure, complete   \n3                          Estimate - de jure  Final figure, complete   \n4                          Estimate - de jure  Final figure, complete   \n...                                       ...                     ...   \n3791  Census - de facto - complete tabulation  Final figure, complete   \n3792  Census - de facto - complete tabulation  Final figure, complete   \n3793  Census - de facto - complete tabulation  Final figure, complete   \n3794  Census - de facto - complete tabulation  Final figure, complete   \n3795  Census - de facto - complete tabulation  Final figure, complete   \n\n      Source Year     Value Value Footnotes  \n0            2014   11370.0             NaN  \n1            2014    5445.0             NaN  \n2            2014    5925.0             NaN  \n3            2013   11304.5             NaN  \n4            2013    5408.0             NaN  \n...           ...       ...             ...  \n3791         2014  349991.0             NaN  \n3792         2014  188240.0             NaN  \n3793         2014   46567.0             NaN  \n3794         2014  768636.0             NaN  \n3795         2014  136274.0             NaN  \n\n[3796 rows x 10 columns]",
      "text/html": "<div>\n<style scoped>\n    .dataframe tbody tr th:only-of-type {\n        vertical-align: middle;\n    }\n\n    .dataframe tbody tr th {\n        vertical-align: top;\n    }\n\n    .dataframe thead th {\n        text-align: right;\n    }\n</style>\n<table border=\"1\" class=\"dataframe\">\n  <thead>\n    <tr style=\"text-align: right;\">\n      <th></th>\n      <th>Year</th>\n      <th>Area</th>\n      <th>Sex</th>\n      <th>City</th>\n      <th>City type</th>\n      <th>Record Type</th>\n      <th>Reliability</th>\n      <th>Source Year</th>\n      <th>Value</th>\n      <th>Value Footnotes</th>\n    </tr>\n  </thead>\n  <tbody>\n    <tr>\n      <th>0</th>\n      <td>2013</td>\n      <td>Total</td>\n      <td>Both Sexes</td>\n      <td>MARIEHAMN</td>\n      <td>City proper</td>\n      <td>Estimate - de jure</td>\n      <td>Final figure, complete</td>\n      <td>2014</td>\n      <td>11370.0</td>\n      <td>NaN</td>\n    </tr>\n    <tr>\n      <th>1</th>\n      <td>2013</td>\n      <td>Total</td>\n      <td>Male</td>\n      <td>MARIEHAMN</td>\n      <td>City proper</td>\n      <td>Estimate - de jure</td>\n      <td>Final figure, complete</td>\n      <td>2014</td>\n      <td>5445.0</td>\n      <td>NaN</td>\n    </tr>\n    <tr>\n      <th>2</th>\n      <td>2013</td>\n      <td>Total</td>\n      <td>Female</td>\n      <td>MARIEHAMN</td>\n      <td>City proper</td>\n      <td>Estimate - de jure</td>\n      <td>Final figure, complete</td>\n      <td>2014</td>\n      <td>5925.0</td>\n      <td>NaN</td>\n    </tr>\n    <tr>\n      <th>3</th>\n      <td>2012</td>\n      <td>Total</td>\n      <td>Both Sexes</td>\n      <td>MARIEHAMN</td>\n      <td>City proper</td>\n      <td>Estimate - de jure</td>\n      <td>Final figure, complete</td>\n      <td>2013</td>\n      <td>11304.5</td>\n      <td>NaN</td>\n    </tr>\n    <tr>\n      <th>4</th>\n      <td>2012</td>\n      <td>Total</td>\n      <td>Male</td>\n      <td>MARIEHAMN</td>\n      <td>City proper</td>\n      <td>Estimate - de jure</td>\n      <td>Final figure, complete</td>\n      <td>2013</td>\n      <td>5408.0</td>\n      <td>NaN</td>\n    </tr>\n    <tr>\n      <th>...</th>\n      <td>...</td>\n      <td>...</td>\n      <td>...</td>\n      <td>...</td>\n      <td>...</td>\n      <td>...</td>\n      <td>...</td>\n      <td>...</td>\n      <td>...</td>\n      <td>...</td>\n    </tr>\n    <tr>\n      <th>3791</th>\n      <td>2012</td>\n      <td>Total</td>\n      <td>Female</td>\n      <td>Bulawayo</td>\n      <td>City proper</td>\n      <td>Census - de facto - complete tabulation</td>\n      <td>Final figure, complete</td>\n      <td>2014</td>\n      <td>349991.0</td>\n      <td>NaN</td>\n    </tr>\n    <tr>\n      <th>3792</th>\n      <td>2012</td>\n      <td>Total</td>\n      <td>Female</td>\n      <td>Chitungwiza</td>\n      <td>City proper</td>\n      <td>Census - de facto - complete tabulation</td>\n      <td>Final figure, complete</td>\n      <td>2014</td>\n      <td>188240.0</td>\n      <td>NaN</td>\n    </tr>\n    <tr>\n      <th>3793</th>\n      <td>2012</td>\n      <td>Total</td>\n      <td>Female</td>\n      <td>Gweru</td>\n      <td>City proper</td>\n      <td>Census - de facto - complete tabulation</td>\n      <td>Final figure, complete</td>\n      <td>2014</td>\n      <td>46567.0</td>\n      <td>NaN</td>\n    </tr>\n    <tr>\n      <th>3794</th>\n      <td>2012</td>\n      <td>Total</td>\n      <td>Female</td>\n      <td>HARARE</td>\n      <td>City proper</td>\n      <td>Census - de facto - complete tabulation</td>\n      <td>Final figure, complete</td>\n      <td>2014</td>\n      <td>768636.0</td>\n      <td>NaN</td>\n    </tr>\n    <tr>\n      <th>3795</th>\n      <td>2012</td>\n      <td>Total</td>\n      <td>Female</td>\n      <td>Mutare</td>\n      <td>City proper</td>\n      <td>Census - de facto - complete tabulation</td>\n      <td>Final figure, complete</td>\n      <td>2014</td>\n      <td>136274.0</td>\n      <td>NaN</td>\n    </tr>\n  </tbody>\n</table>\n<p>3796 rows × 10 columns</p>\n</div>"
     },
     "execution_count": 58,
     "metadata": {},
     "output_type": "execute_result"
    }
   ],
   "source": [
    "city_pop"
   ]
  },
  {
   "cell_type": "markdown",
   "metadata": {
    "id": "hOKGwwvbS6jH"
   },
   "source": [
    "## Exercise\n",
    "\n",
    "There is a another datafile we downloaded called *UN_Cities_1214_country.csv*. This is saved to *./data/wk5/UN_Cities_1214_country.csv* - Load this into a dataframe called *city_c* with the city name as the index and view it; then, using *merge* on city name with city_pop to create a new dataframe called *cities*.\n",
    "\n",
    "**Hints:**\n",
    "You'll notice that the index **won't** be the column you want to merge on in the city_pop data. What column *should* you merge on in city_pop? Which column should you merge on in city_c?\n",
    "\n",
    "The syntax for merging on a **column** (which is not the index) is to pass the column name to the optional 'left_on=' or 'right_on=' arguments. And we don't use right_index=True (or left_index=True), depending on which we're using.\n",
    "\n",
    "So for example: **df1.merge(df2, left_on='Name', right_index=True)** would join df1 (on the left) to df2 (on the right), using the column 'Name' on the left (df1) and the index column (whatever that is) on the right (df2)."
   ]
  },
  {
   "cell_type": "code",
   "execution_count": 57,
   "metadata": {
    "id": "hbQwHwaSS6jH",
    "ExecuteTime": {
     "end_time": "2023-12-19T13:21:33.140476600Z",
     "start_time": "2023-12-19T13:21:33.110996200Z"
    }
   },
   "outputs": [
    {
     "data": {
      "text/plain": "     Country or Area                           City\n0     íland Islands                      MARIEHAMN\n1          Argentina            Bahí_a Blanca-Cerri\n2          Argentina                   BUENOS AIRES\n3          Argentina                      Catamarca\n4          Argentina  Comodoro Rivadavia-Rada Tilly\n...              ...                            ...\n1225        Zimbabwe                       Bulawayo\n1226        Zimbabwe                    Chitungwiza\n1227        Zimbabwe                          Gweru\n1228        Zimbabwe                         HARARE\n1229        Zimbabwe                         Mutare\n\n[1230 rows x 2 columns]",
      "text/html": "<div>\n<style scoped>\n    .dataframe tbody tr th:only-of-type {\n        vertical-align: middle;\n    }\n\n    .dataframe tbody tr th {\n        vertical-align: top;\n    }\n\n    .dataframe thead th {\n        text-align: right;\n    }\n</style>\n<table border=\"1\" class=\"dataframe\">\n  <thead>\n    <tr style=\"text-align: right;\">\n      <th></th>\n      <th>Country or Area</th>\n      <th>City</th>\n    </tr>\n  </thead>\n  <tbody>\n    <tr>\n      <th>0</th>\n      <td>íland Islands</td>\n      <td>MARIEHAMN</td>\n    </tr>\n    <tr>\n      <th>1</th>\n      <td>Argentina</td>\n      <td>Bahí_a Blanca-Cerri</td>\n    </tr>\n    <tr>\n      <th>2</th>\n      <td>Argentina</td>\n      <td>BUENOS AIRES</td>\n    </tr>\n    <tr>\n      <th>3</th>\n      <td>Argentina</td>\n      <td>Catamarca</td>\n    </tr>\n    <tr>\n      <th>4</th>\n      <td>Argentina</td>\n      <td>Comodoro Rivadavia-Rada Tilly</td>\n    </tr>\n    <tr>\n      <th>...</th>\n      <td>...</td>\n      <td>...</td>\n    </tr>\n    <tr>\n      <th>1225</th>\n      <td>Zimbabwe</td>\n      <td>Bulawayo</td>\n    </tr>\n    <tr>\n      <th>1226</th>\n      <td>Zimbabwe</td>\n      <td>Chitungwiza</td>\n    </tr>\n    <tr>\n      <th>1227</th>\n      <td>Zimbabwe</td>\n      <td>Gweru</td>\n    </tr>\n    <tr>\n      <th>1228</th>\n      <td>Zimbabwe</td>\n      <td>HARARE</td>\n    </tr>\n    <tr>\n      <th>1229</th>\n      <td>Zimbabwe</td>\n      <td>Mutare</td>\n    </tr>\n  </tbody>\n</table>\n<p>1230 rows × 2 columns</p>\n</div>"
     },
     "execution_count": 57,
     "metadata": {},
     "output_type": "execute_result"
    }
   ],
   "source": [
    "city_c = pd.read_csv(\"./data/wk6/UN_Cities_1214_country.csv\", encoding='latin1')\n",
    "city_c"
   ]
  },
  {
   "cell_type": "code",
   "execution_count": 60,
   "outputs": [
    {
     "data": {
      "text/plain": "      Year   Area         Sex       City    City type  \\\n0     2013  Total  Both Sexes  MARIEHAMN  City proper   \n1     2013  Total        Male  MARIEHAMN  City proper   \n2     2013  Total      Female  MARIEHAMN  City proper   \n3     2012  Total  Both Sexes  MARIEHAMN  City proper   \n4     2012  Total        Male  MARIEHAMN  City proper   \n...    ...    ...         ...        ...          ...   \n4065  2012  Total        Male     HARARE  City proper   \n4066  2012  Total      Female     HARARE  City proper   \n4067  2012  Total  Both Sexes     Mutare  City proper   \n4068  2012  Total        Male     Mutare  City proper   \n4069  2012  Total      Female     Mutare  City proper   \n\n                                  Record Type             Reliability  \\\n0                          Estimate - de jure  Final figure, complete   \n1                          Estimate - de jure  Final figure, complete   \n2                          Estimate - de jure  Final figure, complete   \n3                          Estimate - de jure  Final figure, complete   \n4                          Estimate - de jure  Final figure, complete   \n...                                       ...                     ...   \n4065  Census - de facto - complete tabulation  Final figure, complete   \n4066  Census - de facto - complete tabulation  Final figure, complete   \n4067  Census - de facto - complete tabulation  Final figure, complete   \n4068  Census - de facto - complete tabulation  Final figure, complete   \n4069  Census - de facto - complete tabulation  Final figure, complete   \n\n      Source Year     Value Value Footnotes Country or Area  \n0            2014   11370.0             NaN  íland Islands  \n1            2014    5445.0             NaN  íland Islands  \n2            2014    5925.0             NaN  íland Islands  \n3            2013   11304.5             NaN  íland Islands  \n4            2013    5408.0             NaN  íland Islands  \n...           ...       ...             ...             ...  \n4065         2014  716595.0             NaN        Zimbabwe  \n4066         2014  768636.0             NaN        Zimbabwe  \n4067         2014  262124.0             NaN        Zimbabwe  \n4068         2014  125850.0             NaN        Zimbabwe  \n4069         2014  136274.0             NaN        Zimbabwe  \n\n[4070 rows x 11 columns]",
      "text/html": "<div>\n<style scoped>\n    .dataframe tbody tr th:only-of-type {\n        vertical-align: middle;\n    }\n\n    .dataframe tbody tr th {\n        vertical-align: top;\n    }\n\n    .dataframe thead th {\n        text-align: right;\n    }\n</style>\n<table border=\"1\" class=\"dataframe\">\n  <thead>\n    <tr style=\"text-align: right;\">\n      <th></th>\n      <th>Year</th>\n      <th>Area</th>\n      <th>Sex</th>\n      <th>City</th>\n      <th>City type</th>\n      <th>Record Type</th>\n      <th>Reliability</th>\n      <th>Source Year</th>\n      <th>Value</th>\n      <th>Value Footnotes</th>\n      <th>Country or Area</th>\n    </tr>\n  </thead>\n  <tbody>\n    <tr>\n      <th>0</th>\n      <td>2013</td>\n      <td>Total</td>\n      <td>Both Sexes</td>\n      <td>MARIEHAMN</td>\n      <td>City proper</td>\n      <td>Estimate - de jure</td>\n      <td>Final figure, complete</td>\n      <td>2014</td>\n      <td>11370.0</td>\n      <td>NaN</td>\n      <td>íland Islands</td>\n    </tr>\n    <tr>\n      <th>1</th>\n      <td>2013</td>\n      <td>Total</td>\n      <td>Male</td>\n      <td>MARIEHAMN</td>\n      <td>City proper</td>\n      <td>Estimate - de jure</td>\n      <td>Final figure, complete</td>\n      <td>2014</td>\n      <td>5445.0</td>\n      <td>NaN</td>\n      <td>íland Islands</td>\n    </tr>\n    <tr>\n      <th>2</th>\n      <td>2013</td>\n      <td>Total</td>\n      <td>Female</td>\n      <td>MARIEHAMN</td>\n      <td>City proper</td>\n      <td>Estimate - de jure</td>\n      <td>Final figure, complete</td>\n      <td>2014</td>\n      <td>5925.0</td>\n      <td>NaN</td>\n      <td>íland Islands</td>\n    </tr>\n    <tr>\n      <th>3</th>\n      <td>2012</td>\n      <td>Total</td>\n      <td>Both Sexes</td>\n      <td>MARIEHAMN</td>\n      <td>City proper</td>\n      <td>Estimate - de jure</td>\n      <td>Final figure, complete</td>\n      <td>2013</td>\n      <td>11304.5</td>\n      <td>NaN</td>\n      <td>íland Islands</td>\n    </tr>\n    <tr>\n      <th>4</th>\n      <td>2012</td>\n      <td>Total</td>\n      <td>Male</td>\n      <td>MARIEHAMN</td>\n      <td>City proper</td>\n      <td>Estimate - de jure</td>\n      <td>Final figure, complete</td>\n      <td>2013</td>\n      <td>5408.0</td>\n      <td>NaN</td>\n      <td>íland Islands</td>\n    </tr>\n    <tr>\n      <th>...</th>\n      <td>...</td>\n      <td>...</td>\n      <td>...</td>\n      <td>...</td>\n      <td>...</td>\n      <td>...</td>\n      <td>...</td>\n      <td>...</td>\n      <td>...</td>\n      <td>...</td>\n      <td>...</td>\n    </tr>\n    <tr>\n      <th>4065</th>\n      <td>2012</td>\n      <td>Total</td>\n      <td>Male</td>\n      <td>HARARE</td>\n      <td>City proper</td>\n      <td>Census - de facto - complete tabulation</td>\n      <td>Final figure, complete</td>\n      <td>2014</td>\n      <td>716595.0</td>\n      <td>NaN</td>\n      <td>Zimbabwe</td>\n    </tr>\n    <tr>\n      <th>4066</th>\n      <td>2012</td>\n      <td>Total</td>\n      <td>Female</td>\n      <td>HARARE</td>\n      <td>City proper</td>\n      <td>Census - de facto - complete tabulation</td>\n      <td>Final figure, complete</td>\n      <td>2014</td>\n      <td>768636.0</td>\n      <td>NaN</td>\n      <td>Zimbabwe</td>\n    </tr>\n    <tr>\n      <th>4067</th>\n      <td>2012</td>\n      <td>Total</td>\n      <td>Both Sexes</td>\n      <td>Mutare</td>\n      <td>City proper</td>\n      <td>Census - de facto - complete tabulation</td>\n      <td>Final figure, complete</td>\n      <td>2014</td>\n      <td>262124.0</td>\n      <td>NaN</td>\n      <td>Zimbabwe</td>\n    </tr>\n    <tr>\n      <th>4068</th>\n      <td>2012</td>\n      <td>Total</td>\n      <td>Male</td>\n      <td>Mutare</td>\n      <td>City proper</td>\n      <td>Census - de facto - complete tabulation</td>\n      <td>Final figure, complete</td>\n      <td>2014</td>\n      <td>125850.0</td>\n      <td>NaN</td>\n      <td>Zimbabwe</td>\n    </tr>\n    <tr>\n      <th>4069</th>\n      <td>2012</td>\n      <td>Total</td>\n      <td>Female</td>\n      <td>Mutare</td>\n      <td>City proper</td>\n      <td>Census - de facto - complete tabulation</td>\n      <td>Final figure, complete</td>\n      <td>2014</td>\n      <td>136274.0</td>\n      <td>NaN</td>\n      <td>Zimbabwe</td>\n    </tr>\n  </tbody>\n</table>\n<p>4070 rows × 11 columns</p>\n</div>"
     },
     "execution_count": 60,
     "metadata": {},
     "output_type": "execute_result"
    }
   ],
   "source": [
    "cities = city_pop.merge(city_c, left_on='City', right_on='City')\n",
    "cities"
   ],
   "metadata": {
    "collapsed": false,
    "ExecuteTime": {
     "end_time": "2023-12-19T13:24:06.296813200Z",
     "start_time": "2023-12-19T13:24:06.252881600Z"
    }
   }
  },
  {
   "cell_type": "markdown",
   "metadata": {
    "id": "CPb3I6u1S6jJ"
   },
   "source": [
    "## A footnote about footnotes\n",
    "\n",
    "Just a quick note - if you look at the primary UN data, you'll see footnotes which will confuse the hell out of Pandas. I've taken the footnotes out, but you can use .tail() to see whether there's any junk in the trunk, and remove it via a text editor."
   ]
  },
  {
   "cell_type": "markdown",
   "metadata": {
    "id": "4mRhI_8mS6jJ"
   },
   "source": [
    "## Clean data\n",
    "We need to simplify this data a bit in the following ways:\n",
    "\n",
    "1. I'm going to focus on one year (2012)\n",
    "2. I'm going to just look at \"Both Sexes\" (not focus on one gender)\n",
    "3. I'm going to get rid of a column of data (the 'Value Footnotes' column) using the *drop()* method."
   ]
  },
  {
   "cell_type": "code",
   "execution_count": 61,
   "metadata": {
    "colab": {
     "base_uri": "https://localhost:8080/",
     "height": 210
    },
    "id": "tI1T3tHxS6jK",
    "outputId": "902afb0f-06d1-4b32-ef36-2f1c87033e86",
    "ExecuteTime": {
     "end_time": "2023-12-19T13:25:09.924916900Z",
     "start_time": "2023-12-19T13:25:09.911670400Z"
    }
   },
   "outputs": [],
   "source": [
    "cities = cities[cities['Sex']=='Both Sexes']\n",
    "cities = cities[cities['Year']==2012]\n",
    "cities.drop('Value Footnotes', axis=1, inplace=True)"
   ]
  },
  {
   "cell_type": "code",
   "execution_count": 62,
   "metadata": {
    "id": "Vq5LWR9WS6jM",
    "ExecuteTime": {
     "end_time": "2023-12-19T13:25:21.196480200Z",
     "start_time": "2023-12-19T13:25:21.184006100Z"
    }
   },
   "outputs": [
    {
     "data": {
      "text/plain": "    Year   Area         Sex                           City  \\\n3   2012  Total  Both Sexes                      MARIEHAMN   \n7   2012  Total  Both Sexes                   BUENOS AIRES   \n9   2012  Total  Both Sexes                      Catamarca   \n11  2012  Total  Both Sexes  Comodoro Rivadavia-Rada Tilly   \n13  2012  Total  Both Sexes                      Concordia   \n\n              City type          Record Type             Reliability  \\\n3           City proper   Estimate - de jure  Final figure, complete   \n7   Urban agglomeration  Estimate - de facto  Final figure, complete   \n9   Urban agglomeration  Estimate - de facto  Final figure, complete   \n11  Urban agglomeration  Estimate - de facto  Final figure, complete   \n13  Urban agglomeration  Estimate - de facto  Final figure, complete   \n\n    Source Year       Value Country or Area  \n3          2013     11304.5  íland Islands  \n7          2012  13242375.0       Argentina  \n9          2012    212174.0       Argentina  \n11         2012    145475.0       Argentina  \n13         2012    155905.0       Argentina  ",
      "text/html": "<div>\n<style scoped>\n    .dataframe tbody tr th:only-of-type {\n        vertical-align: middle;\n    }\n\n    .dataframe tbody tr th {\n        vertical-align: top;\n    }\n\n    .dataframe thead th {\n        text-align: right;\n    }\n</style>\n<table border=\"1\" class=\"dataframe\">\n  <thead>\n    <tr style=\"text-align: right;\">\n      <th></th>\n      <th>Year</th>\n      <th>Area</th>\n      <th>Sex</th>\n      <th>City</th>\n      <th>City type</th>\n      <th>Record Type</th>\n      <th>Reliability</th>\n      <th>Source Year</th>\n      <th>Value</th>\n      <th>Country or Area</th>\n    </tr>\n  </thead>\n  <tbody>\n    <tr>\n      <th>3</th>\n      <td>2012</td>\n      <td>Total</td>\n      <td>Both Sexes</td>\n      <td>MARIEHAMN</td>\n      <td>City proper</td>\n      <td>Estimate - de jure</td>\n      <td>Final figure, complete</td>\n      <td>2013</td>\n      <td>11304.5</td>\n      <td>íland Islands</td>\n    </tr>\n    <tr>\n      <th>7</th>\n      <td>2012</td>\n      <td>Total</td>\n      <td>Both Sexes</td>\n      <td>BUENOS AIRES</td>\n      <td>Urban agglomeration</td>\n      <td>Estimate - de facto</td>\n      <td>Final figure, complete</td>\n      <td>2012</td>\n      <td>13242375.0</td>\n      <td>Argentina</td>\n    </tr>\n    <tr>\n      <th>9</th>\n      <td>2012</td>\n      <td>Total</td>\n      <td>Both Sexes</td>\n      <td>Catamarca</td>\n      <td>Urban agglomeration</td>\n      <td>Estimate - de facto</td>\n      <td>Final figure, complete</td>\n      <td>2012</td>\n      <td>212174.0</td>\n      <td>Argentina</td>\n    </tr>\n    <tr>\n      <th>11</th>\n      <td>2012</td>\n      <td>Total</td>\n      <td>Both Sexes</td>\n      <td>Comodoro Rivadavia-Rada Tilly</td>\n      <td>Urban agglomeration</td>\n      <td>Estimate - de facto</td>\n      <td>Final figure, complete</td>\n      <td>2012</td>\n      <td>145475.0</td>\n      <td>Argentina</td>\n    </tr>\n    <tr>\n      <th>13</th>\n      <td>2012</td>\n      <td>Total</td>\n      <td>Both Sexes</td>\n      <td>Concordia</td>\n      <td>Urban agglomeration</td>\n      <td>Estimate - de facto</td>\n      <td>Final figure, complete</td>\n      <td>2012</td>\n      <td>155905.0</td>\n      <td>Argentina</td>\n    </tr>\n  </tbody>\n</table>\n</div>"
     },
     "execution_count": 62,
     "metadata": {},
     "output_type": "execute_result"
    }
   ],
   "source": [
    "cities.head()"
   ]
  },
  {
   "cell_type": "markdown",
   "metadata": {
    "id": "l_hXvqvdS6jO"
   },
   "source": [
    "## Extension: In My Place\n",
    "\n",
    "The command I used to get rid of that column is *cities.drop('Value Footnotes', axis=1, inplace=True)*. The syntax is not so complex - the first argument, *'Value Footnotes'*, is just the name of the column; the second argument,  *axis=1*, tells Pandas to look for a column to remove (instead of a row which has *axis=0*); the third and final argument, *inplace=True*, is a command that tells Pandas to edit *inplace*, i.e. to edit the dataframe (*cities*) directly. When *inplace* is False (the default), this command does not directly edit cities, but instead provide an output. So the syntax for that would be\n",
    "\n",
    "new_cities = cities.drop('Value Footnotes', axis=1)\n",
    "\n",
    "and new_cities would be a version of *cities* without the offending column. This is usually the safer option."
   ]
  },
  {
   "cell_type": "markdown",
   "metadata": {
    "id": "3Z5yN-D6S6jO"
   },
   "source": [
    "## Life, Oh Life\n",
    "\n",
    "The UN also has useful data by country, so let's try and work with some of that and join it up with our city data. Let's work with Life Expectancy Data:\n",
    "\n",
    "http://data.un.org/Data.aspx?d=WDI&f=Indicator_Code%3ASP.DYN.LE00.IN"
   ]
  },
  {
   "cell_type": "code",
   "execution_count": 64,
   "metadata": {
    "id": "xJ3lzAz-S6jO",
    "ExecuteTime": {
     "end_time": "2023-12-19T13:25:48.996706600Z",
     "start_time": "2023-12-19T13:25:48.964620400Z"
    }
   },
   "outputs": [],
   "source": [
    "data_path = \"./data/wk6/UN_Life_all.csv\"\n",
    "life = pd.read_csv(data_path, index_col=0)"
   ]
  },
  {
   "cell_type": "code",
   "execution_count": 65,
   "metadata": {
    "id": "IA9Jy3xJS6jQ",
    "ExecuteTime": {
     "end_time": "2023-12-19T13:25:53.636513400Z",
     "start_time": "2023-12-19T13:25:53.611643200Z"
    }
   },
   "outputs": [
    {
     "data": {
      "text/plain": "                 Year      Value  Value Footnotes\nCountry or Area                                  \nAfghanistan      2012  60.509122              NaN\nAfghanistan      2011  60.065366              NaN\nAfghanistan      2010  59.600098              NaN\nAfghanistan      2009  59.112341              NaN\nAfghanistan      2008  58.607098              NaN\n...               ...        ...              ...\nZimbabwe         1964  52.971659              NaN\nZimbabwe         1963  52.629317              NaN\nZimbabwe         1962  52.277902              NaN\nZimbabwe         1961  51.914951              NaN\nZimbabwe         1960  51.542463              NaN\n\n[11969 rows x 3 columns]",
      "text/html": "<div>\n<style scoped>\n    .dataframe tbody tr th:only-of-type {\n        vertical-align: middle;\n    }\n\n    .dataframe tbody tr th {\n        vertical-align: top;\n    }\n\n    .dataframe thead th {\n        text-align: right;\n    }\n</style>\n<table border=\"1\" class=\"dataframe\">\n  <thead>\n    <tr style=\"text-align: right;\">\n      <th></th>\n      <th>Year</th>\n      <th>Value</th>\n      <th>Value Footnotes</th>\n    </tr>\n    <tr>\n      <th>Country or Area</th>\n      <th></th>\n      <th></th>\n      <th></th>\n    </tr>\n  </thead>\n  <tbody>\n    <tr>\n      <th>Afghanistan</th>\n      <td>2012</td>\n      <td>60.509122</td>\n      <td>NaN</td>\n    </tr>\n    <tr>\n      <th>Afghanistan</th>\n      <td>2011</td>\n      <td>60.065366</td>\n      <td>NaN</td>\n    </tr>\n    <tr>\n      <th>Afghanistan</th>\n      <td>2010</td>\n      <td>59.600098</td>\n      <td>NaN</td>\n    </tr>\n    <tr>\n      <th>Afghanistan</th>\n      <td>2009</td>\n      <td>59.112341</td>\n      <td>NaN</td>\n    </tr>\n    <tr>\n      <th>Afghanistan</th>\n      <td>2008</td>\n      <td>58.607098</td>\n      <td>NaN</td>\n    </tr>\n    <tr>\n      <th>...</th>\n      <td>...</td>\n      <td>...</td>\n      <td>...</td>\n    </tr>\n    <tr>\n      <th>Zimbabwe</th>\n      <td>1964</td>\n      <td>52.971659</td>\n      <td>NaN</td>\n    </tr>\n    <tr>\n      <th>Zimbabwe</th>\n      <td>1963</td>\n      <td>52.629317</td>\n      <td>NaN</td>\n    </tr>\n    <tr>\n      <th>Zimbabwe</th>\n      <td>1962</td>\n      <td>52.277902</td>\n      <td>NaN</td>\n    </tr>\n    <tr>\n      <th>Zimbabwe</th>\n      <td>1961</td>\n      <td>51.914951</td>\n      <td>NaN</td>\n    </tr>\n    <tr>\n      <th>Zimbabwe</th>\n      <td>1960</td>\n      <td>51.542463</td>\n      <td>NaN</td>\n    </tr>\n  </tbody>\n</table>\n<p>11969 rows × 3 columns</p>\n</div>"
     },
     "execution_count": 65,
     "metadata": {},
     "output_type": "execute_result"
    }
   ],
   "source": [
    "life"
   ]
  },
  {
   "cell_type": "markdown",
   "metadata": {
    "id": "je4DUR8LS6jS"
   },
   "source": [
    "## Exercise:\n",
    "\n",
    "In a new cell, clean up the above dataframe by\n",
    "\n",
    "- removing the \"Value Footnotes\" Column\n",
    "- use only the most recent data (2012)"
   ]
  },
  {
   "cell_type": "code",
   "execution_count": 66,
   "outputs": [],
   "source": [
    "life.drop('Value Footnotes', axis=1, inplace=True)\n",
    "life = life[life['Year'] == 2012]"
   ],
   "metadata": {
    "collapsed": false,
    "ExecuteTime": {
     "end_time": "2023-12-19T13:26:35.996188500Z",
     "start_time": "2023-12-19T13:26:35.970853800Z"
    }
   }
  },
  {
   "cell_type": "code",
   "execution_count": 67,
   "outputs": [
    {
     "data": {
      "text/plain": "                     Year      Value\nCountry or Area                     \nAfghanistan          2012  60.509122\nAlbania              2012  77.350463\nAlgeria              2012  70.882171\nAngola               2012  51.464000\nAntigua and Barbuda  2012  75.665317\n...                   ...        ...\nWest Bank and Gaza   2012  73.017878\nWorld                2012  70.779243\nYemen, Rep.          2012  62.905780\nZambia               2012  57.022585\nZimbabwe             2012  58.045976\n\n[229 rows x 2 columns]",
      "text/html": "<div>\n<style scoped>\n    .dataframe tbody tr th:only-of-type {\n        vertical-align: middle;\n    }\n\n    .dataframe tbody tr th {\n        vertical-align: top;\n    }\n\n    .dataframe thead th {\n        text-align: right;\n    }\n</style>\n<table border=\"1\" class=\"dataframe\">\n  <thead>\n    <tr style=\"text-align: right;\">\n      <th></th>\n      <th>Year</th>\n      <th>Value</th>\n    </tr>\n    <tr>\n      <th>Country or Area</th>\n      <th></th>\n      <th></th>\n    </tr>\n  </thead>\n  <tbody>\n    <tr>\n      <th>Afghanistan</th>\n      <td>2012</td>\n      <td>60.509122</td>\n    </tr>\n    <tr>\n      <th>Albania</th>\n      <td>2012</td>\n      <td>77.350463</td>\n    </tr>\n    <tr>\n      <th>Algeria</th>\n      <td>2012</td>\n      <td>70.882171</td>\n    </tr>\n    <tr>\n      <th>Angola</th>\n      <td>2012</td>\n      <td>51.464000</td>\n    </tr>\n    <tr>\n      <th>Antigua and Barbuda</th>\n      <td>2012</td>\n      <td>75.665317</td>\n    </tr>\n    <tr>\n      <th>...</th>\n      <td>...</td>\n      <td>...</td>\n    </tr>\n    <tr>\n      <th>West Bank and Gaza</th>\n      <td>2012</td>\n      <td>73.017878</td>\n    </tr>\n    <tr>\n      <th>World</th>\n      <td>2012</td>\n      <td>70.779243</td>\n    </tr>\n    <tr>\n      <th>Yemen, Rep.</th>\n      <td>2012</td>\n      <td>62.905780</td>\n    </tr>\n    <tr>\n      <th>Zambia</th>\n      <td>2012</td>\n      <td>57.022585</td>\n    </tr>\n    <tr>\n      <th>Zimbabwe</th>\n      <td>2012</td>\n      <td>58.045976</td>\n    </tr>\n  </tbody>\n</table>\n<p>229 rows × 2 columns</p>\n</div>"
     },
     "execution_count": 67,
     "metadata": {},
     "output_type": "execute_result"
    }
   ],
   "source": [
    "life"
   ],
   "metadata": {
    "collapsed": false,
    "ExecuteTime": {
     "end_time": "2023-12-19T13:26:46.594683500Z",
     "start_time": "2023-12-19T13:26:46.581127400Z"
    }
   }
  },
  {
   "cell_type": "markdown",
   "metadata": {
    "id": "2se0IelGS6jS"
   },
   "source": [
    "Let's make it a little clearer what \"Value\" refers to, by renaming the column. This is one way to do that:"
   ]
  },
  {
   "cell_type": "code",
   "execution_count": 68,
   "metadata": {
    "id": "234BRNRyS6jS",
    "ExecuteTime": {
     "end_time": "2023-12-19T13:26:54.021555900Z",
     "start_time": "2023-12-19T13:26:53.995830600Z"
    }
   },
   "outputs": [
    {
     "name": "stderr",
     "output_type": "stream",
     "text": [
      "C:\\Users\\davey\\AppData\\Local\\Temp\\ipykernel_37044\\1819171509.py:1: SettingWithCopyWarning: \n",
      "A value is trying to be set on a copy of a slice from a DataFrame\n",
      "\n",
      "See the caveats in the documentation: https://pandas.pydata.org/pandas-docs/stable/user_guide/indexing.html#returning-a-view-versus-a-copy\n",
      "  life.rename(columns={'Value':'Life Expectancy'}, inplace=True)\n"
     ]
    }
   ],
   "source": [
    "life.rename(columns={'Value':'Life Expectancy'}, inplace=True)"
   ]
  },
  {
   "cell_type": "code",
   "execution_count": 70,
   "metadata": {
    "id": "Lb01c6upS6jV",
    "ExecuteTime": {
     "end_time": "2023-12-19T13:26:59.602270800Z",
     "start_time": "2023-12-19T13:26:59.576509700Z"
    }
   },
   "outputs": [
    {
     "data": {
      "text/plain": "                     Year  Life Expectancy\nCountry or Area                           \nAfghanistan          2012        60.509122\nAlbania              2012        77.350463\nAlgeria              2012        70.882171\nAngola               2012        51.464000\nAntigua and Barbuda  2012        75.665317\n...                   ...              ...\nWest Bank and Gaza   2012        73.017878\nWorld                2012        70.779243\nYemen, Rep.          2012        62.905780\nZambia               2012        57.022585\nZimbabwe             2012        58.045976\n\n[229 rows x 2 columns]",
      "text/html": "<div>\n<style scoped>\n    .dataframe tbody tr th:only-of-type {\n        vertical-align: middle;\n    }\n\n    .dataframe tbody tr th {\n        vertical-align: top;\n    }\n\n    .dataframe thead th {\n        text-align: right;\n    }\n</style>\n<table border=\"1\" class=\"dataframe\">\n  <thead>\n    <tr style=\"text-align: right;\">\n      <th></th>\n      <th>Year</th>\n      <th>Life Expectancy</th>\n    </tr>\n    <tr>\n      <th>Country or Area</th>\n      <th></th>\n      <th></th>\n    </tr>\n  </thead>\n  <tbody>\n    <tr>\n      <th>Afghanistan</th>\n      <td>2012</td>\n      <td>60.509122</td>\n    </tr>\n    <tr>\n      <th>Albania</th>\n      <td>2012</td>\n      <td>77.350463</td>\n    </tr>\n    <tr>\n      <th>Algeria</th>\n      <td>2012</td>\n      <td>70.882171</td>\n    </tr>\n    <tr>\n      <th>Angola</th>\n      <td>2012</td>\n      <td>51.464000</td>\n    </tr>\n    <tr>\n      <th>Antigua and Barbuda</th>\n      <td>2012</td>\n      <td>75.665317</td>\n    </tr>\n    <tr>\n      <th>...</th>\n      <td>...</td>\n      <td>...</td>\n    </tr>\n    <tr>\n      <th>West Bank and Gaza</th>\n      <td>2012</td>\n      <td>73.017878</td>\n    </tr>\n    <tr>\n      <th>World</th>\n      <td>2012</td>\n      <td>70.779243</td>\n    </tr>\n    <tr>\n      <th>Yemen, Rep.</th>\n      <td>2012</td>\n      <td>62.905780</td>\n    </tr>\n    <tr>\n      <th>Zambia</th>\n      <td>2012</td>\n      <td>57.022585</td>\n    </tr>\n    <tr>\n      <th>Zimbabwe</th>\n      <td>2012</td>\n      <td>58.045976</td>\n    </tr>\n  </tbody>\n</table>\n<p>229 rows × 2 columns</p>\n</div>"
     },
     "execution_count": 70,
     "metadata": {},
     "output_type": "execute_result"
    }
   ],
   "source": [
    "life"
   ]
  },
  {
   "cell_type": "markdown",
   "metadata": {
    "id": "g6MsCtJwS6jW"
   },
   "source": [
    "# Exercise\n",
    "\n",
    "Now, merge this data with the cities data to show life expectancy for each city (based on the country it is in), and show the first 5 rows.\n",
    "\n",
    "How much data was \"missing\" in the merge?\n",
    "\n",
    "Relabel the City Population column so it's clear what it represents.\n",
    "\n",
    "\n",
    "**Extension:** Plot population against life expectancy. Use plot's *optional arguments* to specify the x column, y column, and that kind='scatter'.\n",
    "\n",
    "**Don't forget to include a title and axis labels!**"
   ]
  },
  {
   "cell_type": "code",
   "execution_count": 72,
   "metadata": {
    "id": "_OXM4uygS6jW",
    "ExecuteTime": {
     "end_time": "2023-12-19T13:29:38.594594600Z",
     "start_time": "2023-12-19T13:29:38.563363400Z"
    }
   },
   "outputs": [
    {
     "data": {
      "text/plain": "      Year   Area         Sex                           City  \\\n0     2012  Total  Both Sexes                   BUENOS AIRES   \n1     2012  Total  Both Sexes                      Catamarca   \n2     2012  Total  Both Sexes  Comodoro Rivadavia-Rada Tilly   \n3     2012  Total  Both Sexes                      Concordia   \n4     2012  Total  Both Sexes                     Corrientes   \n...    ...    ...         ...                            ...   \n1089  2012  Total  Both Sexes                       Bulawayo   \n1090  2012  Total  Both Sexes                    Chitungwiza   \n1091  2012  Total  Both Sexes                          Gweru   \n1092  2012  Total  Both Sexes                         HARARE   \n1093  2012  Total  Both Sexes                         Mutare   \n\n                City type                              Record Type  \\\n0     Urban agglomeration                      Estimate - de facto   \n1     Urban agglomeration                      Estimate - de facto   \n2     Urban agglomeration                      Estimate - de facto   \n3     Urban agglomeration                      Estimate - de facto   \n4     Urban agglomeration                      Estimate - de facto   \n...                   ...                                      ...   \n1089          City proper  Census - de facto - complete tabulation   \n1090          City proper  Census - de facto - complete tabulation   \n1091          City proper  Census - de facto - complete tabulation   \n1092          City proper  Census - de facto - complete tabulation   \n1093          City proper  Census - de facto - complete tabulation   \n\n                 Reliability  Source Year       Value Country or Area  \\\n0     Final figure, complete         2012  13242375.0       Argentina   \n1     Final figure, complete         2012    212174.0       Argentina   \n2     Final figure, complete         2012    145475.0       Argentina   \n3     Final figure, complete         2012    155905.0       Argentina   \n4     Final figure, complete         2012    368778.0       Argentina   \n...                      ...          ...         ...             ...   \n1089  Final figure, complete         2014    653337.0        Zimbabwe   \n1090  Final figure, complete         2014    356840.0        Zimbabwe   \n1091  Final figure, complete         2014     91806.0        Zimbabwe   \n1092  Final figure, complete         2014   1485231.0        Zimbabwe   \n1093  Final figure, complete         2014    262124.0        Zimbabwe   \n\n      Life Expectancy  \n0           76.012683  \n1           76.012683  \n2           76.012683  \n3           76.012683  \n4           76.012683  \n...               ...  \n1089        58.045976  \n1090        58.045976  \n1091        58.045976  \n1092        58.045976  \n1093        58.045976  \n\n[1094 rows x 11 columns]",
      "text/html": "<div>\n<style scoped>\n    .dataframe tbody tr th:only-of-type {\n        vertical-align: middle;\n    }\n\n    .dataframe tbody tr th {\n        vertical-align: top;\n    }\n\n    .dataframe thead th {\n        text-align: right;\n    }\n</style>\n<table border=\"1\" class=\"dataframe\">\n  <thead>\n    <tr style=\"text-align: right;\">\n      <th></th>\n      <th>Year</th>\n      <th>Area</th>\n      <th>Sex</th>\n      <th>City</th>\n      <th>City type</th>\n      <th>Record Type</th>\n      <th>Reliability</th>\n      <th>Source Year</th>\n      <th>Value</th>\n      <th>Country or Area</th>\n      <th>Life Expectancy</th>\n    </tr>\n  </thead>\n  <tbody>\n    <tr>\n      <th>0</th>\n      <td>2012</td>\n      <td>Total</td>\n      <td>Both Sexes</td>\n      <td>BUENOS AIRES</td>\n      <td>Urban agglomeration</td>\n      <td>Estimate - de facto</td>\n      <td>Final figure, complete</td>\n      <td>2012</td>\n      <td>13242375.0</td>\n      <td>Argentina</td>\n      <td>76.012683</td>\n    </tr>\n    <tr>\n      <th>1</th>\n      <td>2012</td>\n      <td>Total</td>\n      <td>Both Sexes</td>\n      <td>Catamarca</td>\n      <td>Urban agglomeration</td>\n      <td>Estimate - de facto</td>\n      <td>Final figure, complete</td>\n      <td>2012</td>\n      <td>212174.0</td>\n      <td>Argentina</td>\n      <td>76.012683</td>\n    </tr>\n    <tr>\n      <th>2</th>\n      <td>2012</td>\n      <td>Total</td>\n      <td>Both Sexes</td>\n      <td>Comodoro Rivadavia-Rada Tilly</td>\n      <td>Urban agglomeration</td>\n      <td>Estimate - de facto</td>\n      <td>Final figure, complete</td>\n      <td>2012</td>\n      <td>145475.0</td>\n      <td>Argentina</td>\n      <td>76.012683</td>\n    </tr>\n    <tr>\n      <th>3</th>\n      <td>2012</td>\n      <td>Total</td>\n      <td>Both Sexes</td>\n      <td>Concordia</td>\n      <td>Urban agglomeration</td>\n      <td>Estimate - de facto</td>\n      <td>Final figure, complete</td>\n      <td>2012</td>\n      <td>155905.0</td>\n      <td>Argentina</td>\n      <td>76.012683</td>\n    </tr>\n    <tr>\n      <th>4</th>\n      <td>2012</td>\n      <td>Total</td>\n      <td>Both Sexes</td>\n      <td>Corrientes</td>\n      <td>Urban agglomeration</td>\n      <td>Estimate - de facto</td>\n      <td>Final figure, complete</td>\n      <td>2012</td>\n      <td>368778.0</td>\n      <td>Argentina</td>\n      <td>76.012683</td>\n    </tr>\n    <tr>\n      <th>...</th>\n      <td>...</td>\n      <td>...</td>\n      <td>...</td>\n      <td>...</td>\n      <td>...</td>\n      <td>...</td>\n      <td>...</td>\n      <td>...</td>\n      <td>...</td>\n      <td>...</td>\n      <td>...</td>\n    </tr>\n    <tr>\n      <th>1089</th>\n      <td>2012</td>\n      <td>Total</td>\n      <td>Both Sexes</td>\n      <td>Bulawayo</td>\n      <td>City proper</td>\n      <td>Census - de facto - complete tabulation</td>\n      <td>Final figure, complete</td>\n      <td>2014</td>\n      <td>653337.0</td>\n      <td>Zimbabwe</td>\n      <td>58.045976</td>\n    </tr>\n    <tr>\n      <th>1090</th>\n      <td>2012</td>\n      <td>Total</td>\n      <td>Both Sexes</td>\n      <td>Chitungwiza</td>\n      <td>City proper</td>\n      <td>Census - de facto - complete tabulation</td>\n      <td>Final figure, complete</td>\n      <td>2014</td>\n      <td>356840.0</td>\n      <td>Zimbabwe</td>\n      <td>58.045976</td>\n    </tr>\n    <tr>\n      <th>1091</th>\n      <td>2012</td>\n      <td>Total</td>\n      <td>Both Sexes</td>\n      <td>Gweru</td>\n      <td>City proper</td>\n      <td>Census - de facto - complete tabulation</td>\n      <td>Final figure, complete</td>\n      <td>2014</td>\n      <td>91806.0</td>\n      <td>Zimbabwe</td>\n      <td>58.045976</td>\n    </tr>\n    <tr>\n      <th>1092</th>\n      <td>2012</td>\n      <td>Total</td>\n      <td>Both Sexes</td>\n      <td>HARARE</td>\n      <td>City proper</td>\n      <td>Census - de facto - complete tabulation</td>\n      <td>Final figure, complete</td>\n      <td>2014</td>\n      <td>1485231.0</td>\n      <td>Zimbabwe</td>\n      <td>58.045976</td>\n    </tr>\n    <tr>\n      <th>1093</th>\n      <td>2012</td>\n      <td>Total</td>\n      <td>Both Sexes</td>\n      <td>Mutare</td>\n      <td>City proper</td>\n      <td>Census - de facto - complete tabulation</td>\n      <td>Final figure, complete</td>\n      <td>2014</td>\n      <td>262124.0</td>\n      <td>Zimbabwe</td>\n      <td>58.045976</td>\n    </tr>\n  </tbody>\n</table>\n<p>1094 rows × 11 columns</p>\n</div>"
     },
     "execution_count": 72,
     "metadata": {},
     "output_type": "execute_result"
    }
   ],
   "source": [
    "life_expectancy_cities = cities.merge(life, left_on=['Country or Area','Year'], right_on=['Country or Area','Year'])\n",
    "life_expectancy_cities"
   ]
  },
  {
   "cell_type": "code",
   "execution_count": 73,
   "outputs": [
    {
     "data": {
      "text/plain": "      Year   Area         Sex                           City  \\\n0     2012  Total  Both Sexes                   BUENOS AIRES   \n1     2012  Total  Both Sexes                      Catamarca   \n2     2012  Total  Both Sexes  Comodoro Rivadavia-Rada Tilly   \n3     2012  Total  Both Sexes                      Concordia   \n4     2012  Total  Both Sexes                     Corrientes   \n...    ...    ...         ...                            ...   \n1089  2012  Total  Both Sexes                       Bulawayo   \n1090  2012  Total  Both Sexes                    Chitungwiza   \n1091  2012  Total  Both Sexes                          Gweru   \n1092  2012  Total  Both Sexes                         HARARE   \n1093  2012  Total  Both Sexes                         Mutare   \n\n                City type                              Record Type  \\\n0     Urban agglomeration                      Estimate - de facto   \n1     Urban agglomeration                      Estimate - de facto   \n2     Urban agglomeration                      Estimate - de facto   \n3     Urban agglomeration                      Estimate - de facto   \n4     Urban agglomeration                      Estimate - de facto   \n...                   ...                                      ...   \n1089          City proper  Census - de facto - complete tabulation   \n1090          City proper  Census - de facto - complete tabulation   \n1091          City proper  Census - de facto - complete tabulation   \n1092          City proper  Census - de facto - complete tabulation   \n1093          City proper  Census - de facto - complete tabulation   \n\n                 Reliability  Source Year  City Population Country or Area  \\\n0     Final figure, complete         2012       13242375.0       Argentina   \n1     Final figure, complete         2012         212174.0       Argentina   \n2     Final figure, complete         2012         145475.0       Argentina   \n3     Final figure, complete         2012         155905.0       Argentina   \n4     Final figure, complete         2012         368778.0       Argentina   \n...                      ...          ...              ...             ...   \n1089  Final figure, complete         2014         653337.0        Zimbabwe   \n1090  Final figure, complete         2014         356840.0        Zimbabwe   \n1091  Final figure, complete         2014          91806.0        Zimbabwe   \n1092  Final figure, complete         2014        1485231.0        Zimbabwe   \n1093  Final figure, complete         2014         262124.0        Zimbabwe   \n\n      Life Expectancy  \n0           76.012683  \n1           76.012683  \n2           76.012683  \n3           76.012683  \n4           76.012683  \n...               ...  \n1089        58.045976  \n1090        58.045976  \n1091        58.045976  \n1092        58.045976  \n1093        58.045976  \n\n[1094 rows x 11 columns]",
      "text/html": "<div>\n<style scoped>\n    .dataframe tbody tr th:only-of-type {\n        vertical-align: middle;\n    }\n\n    .dataframe tbody tr th {\n        vertical-align: top;\n    }\n\n    .dataframe thead th {\n        text-align: right;\n    }\n</style>\n<table border=\"1\" class=\"dataframe\">\n  <thead>\n    <tr style=\"text-align: right;\">\n      <th></th>\n      <th>Year</th>\n      <th>Area</th>\n      <th>Sex</th>\n      <th>City</th>\n      <th>City type</th>\n      <th>Record Type</th>\n      <th>Reliability</th>\n      <th>Source Year</th>\n      <th>City Population</th>\n      <th>Country or Area</th>\n      <th>Life Expectancy</th>\n    </tr>\n  </thead>\n  <tbody>\n    <tr>\n      <th>0</th>\n      <td>2012</td>\n      <td>Total</td>\n      <td>Both Sexes</td>\n      <td>BUENOS AIRES</td>\n      <td>Urban agglomeration</td>\n      <td>Estimate - de facto</td>\n      <td>Final figure, complete</td>\n      <td>2012</td>\n      <td>13242375.0</td>\n      <td>Argentina</td>\n      <td>76.012683</td>\n    </tr>\n    <tr>\n      <th>1</th>\n      <td>2012</td>\n      <td>Total</td>\n      <td>Both Sexes</td>\n      <td>Catamarca</td>\n      <td>Urban agglomeration</td>\n      <td>Estimate - de facto</td>\n      <td>Final figure, complete</td>\n      <td>2012</td>\n      <td>212174.0</td>\n      <td>Argentina</td>\n      <td>76.012683</td>\n    </tr>\n    <tr>\n      <th>2</th>\n      <td>2012</td>\n      <td>Total</td>\n      <td>Both Sexes</td>\n      <td>Comodoro Rivadavia-Rada Tilly</td>\n      <td>Urban agglomeration</td>\n      <td>Estimate - de facto</td>\n      <td>Final figure, complete</td>\n      <td>2012</td>\n      <td>145475.0</td>\n      <td>Argentina</td>\n      <td>76.012683</td>\n    </tr>\n    <tr>\n      <th>3</th>\n      <td>2012</td>\n      <td>Total</td>\n      <td>Both Sexes</td>\n      <td>Concordia</td>\n      <td>Urban agglomeration</td>\n      <td>Estimate - de facto</td>\n      <td>Final figure, complete</td>\n      <td>2012</td>\n      <td>155905.0</td>\n      <td>Argentina</td>\n      <td>76.012683</td>\n    </tr>\n    <tr>\n      <th>4</th>\n      <td>2012</td>\n      <td>Total</td>\n      <td>Both Sexes</td>\n      <td>Corrientes</td>\n      <td>Urban agglomeration</td>\n      <td>Estimate - de facto</td>\n      <td>Final figure, complete</td>\n      <td>2012</td>\n      <td>368778.0</td>\n      <td>Argentina</td>\n      <td>76.012683</td>\n    </tr>\n    <tr>\n      <th>...</th>\n      <td>...</td>\n      <td>...</td>\n      <td>...</td>\n      <td>...</td>\n      <td>...</td>\n      <td>...</td>\n      <td>...</td>\n      <td>...</td>\n      <td>...</td>\n      <td>...</td>\n      <td>...</td>\n    </tr>\n    <tr>\n      <th>1089</th>\n      <td>2012</td>\n      <td>Total</td>\n      <td>Both Sexes</td>\n      <td>Bulawayo</td>\n      <td>City proper</td>\n      <td>Census - de facto - complete tabulation</td>\n      <td>Final figure, complete</td>\n      <td>2014</td>\n      <td>653337.0</td>\n      <td>Zimbabwe</td>\n      <td>58.045976</td>\n    </tr>\n    <tr>\n      <th>1090</th>\n      <td>2012</td>\n      <td>Total</td>\n      <td>Both Sexes</td>\n      <td>Chitungwiza</td>\n      <td>City proper</td>\n      <td>Census - de facto - complete tabulation</td>\n      <td>Final figure, complete</td>\n      <td>2014</td>\n      <td>356840.0</td>\n      <td>Zimbabwe</td>\n      <td>58.045976</td>\n    </tr>\n    <tr>\n      <th>1091</th>\n      <td>2012</td>\n      <td>Total</td>\n      <td>Both Sexes</td>\n      <td>Gweru</td>\n      <td>City proper</td>\n      <td>Census - de facto - complete tabulation</td>\n      <td>Final figure, complete</td>\n      <td>2014</td>\n      <td>91806.0</td>\n      <td>Zimbabwe</td>\n      <td>58.045976</td>\n    </tr>\n    <tr>\n      <th>1092</th>\n      <td>2012</td>\n      <td>Total</td>\n      <td>Both Sexes</td>\n      <td>HARARE</td>\n      <td>City proper</td>\n      <td>Census - de facto - complete tabulation</td>\n      <td>Final figure, complete</td>\n      <td>2014</td>\n      <td>1485231.0</td>\n      <td>Zimbabwe</td>\n      <td>58.045976</td>\n    </tr>\n    <tr>\n      <th>1093</th>\n      <td>2012</td>\n      <td>Total</td>\n      <td>Both Sexes</td>\n      <td>Mutare</td>\n      <td>City proper</td>\n      <td>Census - de facto - complete tabulation</td>\n      <td>Final figure, complete</td>\n      <td>2014</td>\n      <td>262124.0</td>\n      <td>Zimbabwe</td>\n      <td>58.045976</td>\n    </tr>\n  </tbody>\n</table>\n<p>1094 rows × 11 columns</p>\n</div>"
     },
     "execution_count": 73,
     "metadata": {},
     "output_type": "execute_result"
    }
   ],
   "source": [
    "life_expectancy_cities.rename(columns={'Value':'City Population'}, inplace=True)\n",
    "life_expectancy_cities"
   ],
   "metadata": {
    "collapsed": false,
    "ExecuteTime": {
     "end_time": "2023-12-19T13:30:22.099640900Z",
     "start_time": "2023-12-19T13:30:22.073159300Z"
    }
   }
  },
  {
   "cell_type": "code",
   "execution_count": 75,
   "outputs": [
    {
     "data": {
      "text/plain": "<Axes: title={'center': 'Graph of population against life expectancy in cities worldwide,2012'}, xlabel='City Population', ylabel='Life Expectancy'>"
     },
     "execution_count": 75,
     "metadata": {},
     "output_type": "execute_result"
    },
    {
     "data": {
      "text/plain": "<Figure size 640x480 with 1 Axes>",
      "image/png": "[encoded data removed]"
     },
     "metadata": {},
     "output_type": "display_data"
    }
   ],
   "source": [
    "life_expectancy_cities.plot(x='City Population', y='Life Expectancy', title='Graph of population against life expectancy in cities worldwide,2012', kind='scatter')"
   ],
   "metadata": {
    "collapsed": false,
    "ExecuteTime": {
     "end_time": "2023-12-19T13:33:40.179018100Z",
     "start_time": "2023-12-19T13:33:40.026590300Z"
    }
   }
  },
  {
   "cell_type": "markdown",
   "metadata": {
    "id": "NegFX-rjS6jY"
   },
   "source": [
    "## Recap: Joins\n",
    "\n",
    "Pandas has **four** join methods:\n",
    "\n",
    "    - Left Join: use **only** keys from **left** DataFrame. SQL: [left outer join](http://goo.gl/JICveI)\n",
    "    - Right Join: use **only** keys from **right** DataFrame. SQL: [right outer join](http://goo.gl/TrrHjQ)\n",
    "    - Outer Join: use union of **keys from both** DataFrames. SQL: [full outer join](http://goo.gl/bVRqO8)\n",
    "    - Inner Join: use **intersection of keys** from both DataFrames. SQL: [inner join](http://goo.gl/Cf1MF8)"
   ]
  }
 ],
 "metadata": {
  "colab": {
   "collapsed_sections": [
    "K1VdYJJ1S6iO",
    "p-nMMNZkS6iu",
    "7jbHLNWJS6iu",
    "qFwsma6tS6jC",
    "CPb3I6u1S6jJ",
    "l_hXvqvdS6jO",
    "NegFX-rjS6jY"
   ],
   "name": "W3. Merging and Joining in Python.ipynb",
   "provenance": []
  },
  "kernelspec": {
   "display_name": "Python 3.9.5 64-bit ('3.9.5')",
   "language": "python",
   "name": "python3"
  },
  "language_info": {
   "codemirror_mode": {
    "name": "ipython",
    "version": 3
   },
   "file_extension": ".py",
   "mimetype": "text/x-python",
   "name": "python",
   "nbconvert_exporter": "python",
   "pygments_lexer": "ipython3",
   "version": "3.9.5"
  },
  "vscode": {
   "interpreter": {
    "hash": "d34fbd810dd9652f8e464616181cf14dbb258b5c046bed5c2f54c6b5e518fed2"
   }
  }
 },
 "nbformat": 4,
 "nbformat_minor": 0
}
