{
 "cells": [
  {
   "cell_type": "markdown",
   "metadata": {
    "id": "92xjWEKeInDL"
   },
   "source": [
    "# Python Recap\n",
    "\n",
    "## *Workshop 1*  [![Open In Colab](https://github.com/oballinger/QM2/blob/main/colab-badge.png?raw=1)](https://colab.research.google.com/github/oballinger/QM2/blob/main/notebooks/W01.%20Python%20Recap.ipynb)\n",
    "\n",
    "## Registering a GitHub account\n",
    "\n",
    "Before we get started, we need to set a few things up. GitHub is a platform for software development and version control using Git, allowing developers to store and manage their code. Think of it as google docs but for code-- it will be very useful for collaborating on your group projects later in the term, and in your future as a data analyst.\n",
    "\n",
    "1. Use [this link](https://github.com/join) to register for a GitHub account if you don't already have one.\n",
    "2. Once that's done, [create a new github repository](https://github.com/new) called \"QM2\".\n",
    "3. In this notebook, click \"File\" and then \"Save a copy in GitHub\".\n",
    "\n",
    "Voila! You now have a version of this notebook saved to your own GitHub account. *You will need to do step 3 for all the workshops!* Now, on to python.\n",
    "\n",
    "## Using Python\n",
    "\n",
    "In this course, we'll make extensive use of *Python*, a programming language used widely in scientific computing and on the web. We will be using Python as a way to manipulate, plot and analyse data. This isn't a course about learning Python, it's about working with data - but we'll learning a little bit of programming along the way.\n",
    "\n",
    "By now, you should have done the prerequisites for the module, and understand a bit about how Python is structured, what different commands do, and so on - this is a bit of a refresher to remind you of what we need at the beginning of term.\n",
    "\n",
    "The particular flavour of Python we're using is *iPython*, which, as we've seen, allows us to combine text, code, images, equations and figures in a *Notebook*. This is a *cell*, written in *markdown* - a way of writing nice text. Contrast this with *code* cell, which executes a bit of Python:"
   ]
  },
  {
   "cell_type": "code",
   "execution_count": 1,
   "metadata": {
    "id": "S1siXLpdInDM",
    "outputId": "0cc186d1-9160-43dc-bd44-eb66f8267edc",
    "colab": {
     "base_uri": "https://localhost:8080/"
    },
    "ExecuteTime": {
     "end_time": "2023-12-11T12:15:24.803803800Z",
     "start_time": "2023-12-11T12:15:24.745345200Z"
    }
   },
   "outputs": [
    {
     "name": "stdout",
     "output_type": "stream",
     "text": [
      "4\n"
     ]
    }
   ],
   "source": [
    "print(2+2)"
   ]
  },
  {
   "cell_type": "markdown",
   "metadata": {
    "id": "RUiPNXLiInDQ"
   },
   "source": [
    "The Notebook format allows you to engage in what Don Knuth describes as [Literate Programming](http://en.wikipedia.org/wiki/Literate_programming):\n",
    "\n",
    "> […] Instead of writing code containing documentation, the literate programmer writes documentation containing code. No longer does the English commentary injected into a program have to be hidden in comment delimiters at the top of the file, or under procedure headings, or at the end of lines. Instead, it is wrenched into the daylight and made the main focus. The \"program\" then becomes primarily a document directed at humans, with the code being herded between \"code delimiters\" from where it can be extracted and shuffled out sideways to the language system by literate programming tools.\n",
    "[Ross Williams][1]\n",
    "\n",
    "[1]: http://www.literateprogramming.com/lpquotes.html"
   ]
  },
  {
   "cell_type": "markdown",
   "metadata": {
    "id": "NT4CsLCxInDQ"
   },
   "source": [
    "Libraries\n",
    "---------\n",
    "\n",
    "We will work with a number of *libraries*, which provide additional functions and techniques to help us to carry out our tasks.\n",
    "\n",
    "These include:\n",
    "\n",
    "*Pandas:* we'll use this a lot to slice and dice data\n",
    "\n",
    "*matplotlib*: this is our basic graphing software, and we'll also use it for mapping\n",
    "\n",
    "*nltk*: The Natural Language Tool Kit will help us work with text\n",
    "\n",
    "We aren't doing all this to learn to program. We could spend a whole term learning how to use Python and never look at any data, maps, graphs, or visualisations. But we do need to understand a few basics to use Python for working with data. So let's revisit a few concepts that you should have covered in your prerequisites."
   ]
  },
  {
   "cell_type": "markdown",
   "metadata": {
    "id": "jm4XtcfaInDR"
   },
   "source": [
    "Variables\n",
    "---------\n",
    "\n",
    "Python can broadly be divided in verbs and nouns: things which *do* things, and things which *are* things. In Python, the verbs can be *commands*, *functions*, or *methods*. We won't worry too much about the distinction here - suffice it to say, they are the parts of code which manipulate data, calculate values, or show things on the screen.\n",
    "\n",
    "The simplest proper noun object in Python is the *variable*. Variables are given names and store information. This can be, for example, numeric, text, or boolean (true/false). These are all statements setting up variables:\n",
    "\n",
    "n = 1\n",
    "\n",
    "t = \"hi\"\n",
    "\n",
    "b = True\n",
    "\n",
    "Now let's try this in code:"
   ]
  },
  {
   "cell_type": "code",
   "execution_count": 2,
   "metadata": {
    "id": "wbEBXSjyInDS",
    "ExecuteTime": {
     "end_time": "2023-12-19T11:31:35.760263900Z",
     "start_time": "2023-12-19T11:31:35.748293100Z"
    }
   },
   "outputs": [],
   "source": [
    "n = 1\n",
    "\n",
    "t = \"hi\"\n",
    "\n",
    "b = True"
   ]
  },
  {
   "cell_type": "markdown",
   "metadata": {
    "id": "KEHhTkQRInDX"
   },
   "source": [
    "Note that each command is on a new line; other than that, the *syntax* of Python should be fairly clear. We're setting these variables equal to the letters and numbers and phrases and booleans. **What's a boolean?**\n",
    "\n",
    "The value of this is we now have values tied to these variables - so every time we want to use it, we can refer to the variable:"
   ]
  },
  {
   "cell_type": "code",
   "execution_count": 3,
   "metadata": {
    "id": "mX21mc1GInDY",
    "outputId": "051cd0e7-16c5-40dc-b916-24b82e1595cc",
    "ExecuteTime": {
     "end_time": "2023-12-19T11:31:37.878449800Z",
     "start_time": "2023-12-19T11:31:37.865746600Z"
    }
   },
   "outputs": [
    {
     "data": {
      "text/plain": "1"
     },
     "execution_count": 3,
     "metadata": {},
     "output_type": "execute_result"
    }
   ],
   "source": [
    "n"
   ]
  },
  {
   "cell_type": "code",
   "execution_count": 4,
   "metadata": {
    "id": "H_i_d3GXInDb",
    "outputId": "66d2ac01-d43a-410e-916c-e4d1da81ea5d",
    "ExecuteTime": {
     "end_time": "2023-12-19T11:31:39.138406200Z",
     "start_time": "2023-12-19T11:31:39.124007200Z"
    }
   },
   "outputs": [
    {
     "data": {
      "text/plain": "'hi'"
     },
     "execution_count": 4,
     "metadata": {},
     "output_type": "execute_result"
    }
   ],
   "source": [
    "t"
   ]
  },
  {
   "cell_type": "code",
   "execution_count": 5,
   "metadata": {
    "id": "97crKLfSInDe",
    "outputId": "2112c8eb-4e79-4e0f-cdae-3375d77e6c76",
    "ExecuteTime": {
     "end_time": "2023-12-19T11:31:40.875620200Z",
     "start_time": "2023-12-19T11:31:40.865138600Z"
    }
   },
   "outputs": [
    {
     "data": {
      "text/plain": "True"
     },
     "execution_count": 5,
     "metadata": {},
     "output_type": "execute_result"
    }
   ],
   "source": [
    "b"
   ]
  },
  {
   "cell_type": "markdown",
   "metadata": {
    "id": "3E8UNGUMInDh"
   },
   "source": [
    "Because we've defined these variables in the early part of the notebook, we can use them later on."
   ]
  },
  {
   "cell_type": "markdown",
   "metadata": {
    "id": "HwHT5mDBInDh"
   },
   "source": [
    "***Advanced**: where do **classes** fit into this noun/verb picture of variables and commands?*"
   ]
  },
  {
   "cell_type": "markdown",
   "metadata": {
    "id": "XTcrfSHQInDi"
   },
   "source": [
    "Where is my data?\n",
    "-----------------\n",
    "\n",
    "When we work in excel and text editors, we're used to seeing the data onscreen - and if we manipulate the data in some way (averaging or summing up), we see both the inputs and outputs on screen. The big difference in working with Python is that we don't see our variables all of the time, or the effect we're having on them. They're there in the background, but it's usually worth checking in on them from time to time, to see whether our processes are doing what we think they're doing.\n",
    "\n",
    "This is pretty easy to do - we can just type the variable name, or \"print(*variable name*)\":"
   ]
  },
  {
   "cell_type": "code",
   "execution_count": 6,
   "metadata": {
    "id": "rW3iJbkoInDk",
    "outputId": "4d01b9d9-1ce7-4037-8ab4-5587507fddaf",
    "ExecuteTime": {
     "end_time": "2023-12-19T11:31:43.048813100Z",
     "start_time": "2023-12-19T11:31:43.037454Z"
    }
   },
   "outputs": [
    {
     "name": "stdout",
     "output_type": "stream",
     "text": [
      "2\n",
      "hi\n",
      "True\n"
     ]
    }
   ],
   "source": [
    "n = n+1\n",
    "print(n)\n",
    "print(t)\n",
    "print(b)"
   ]
  },
  {
   "cell_type": "markdown",
   "metadata": {
    "id": "Z5tctl6AInDo"
   },
   "source": [
    "Flow\n",
    "----\n",
    "\n",
    "Python, in common with all programming languages, executes commands in a sequence - we might refer to this as the \"ineluctable march of the machines\", but it's more common referred to as the *flow* of the code (we'll use the word \"code\" a lot - it just means commands written in the programming language). In most cases, code just executes in the order it's written. This is true within each *cell* (each block of text in the notebook), and it's true when we execute the cells in order; that's why we can refer back to the variables we defined earlier:"
   ]
  },
  {
   "cell_type": "code",
   "execution_count": 7,
   "metadata": {
    "id": "z_2Y9lctInDp",
    "outputId": "e035e3bd-4eae-4ad8-a577-abe28736a0c4",
    "ExecuteTime": {
     "end_time": "2023-12-19T11:31:45.072592100Z",
     "start_time": "2023-12-19T11:31:45.061182600Z"
    }
   },
   "outputs": [
    {
     "name": "stdout",
     "output_type": "stream",
     "text": [
      "2\n"
     ]
    }
   ],
   "source": [
    "print(n)"
   ]
  },
  {
   "cell_type": "markdown",
   "metadata": {
    "id": "DtVel6vZInDs"
   },
   "source": [
    "If we make a change to one of these variables, say n:"
   ]
  },
  {
   "cell_type": "code",
   "execution_count": 8,
   "metadata": {
    "id": "7ykZEOWTInDt",
    "ExecuteTime": {
     "end_time": "2023-12-19T11:31:46.956101900Z",
     "start_time": "2023-12-19T11:31:46.927198100Z"
    }
   },
   "outputs": [],
   "source": [
    "n = 3"
   ]
  },
  {
   "cell_type": "markdown",
   "metadata": {
    "id": "Ikdjeq60InDx"
   },
   "source": [
    "and execute the above \"print n\" command, you'll see that it has changed n to 3. So if we go out of order, the obvious flow of the code is confused. For this reason, try to write your code so it executes in order, one cell at a time. At least for the moment, this will make it easier to follow the logic of what you're doing to data."
   ]
  },
  {
   "cell_type": "markdown",
   "metadata": {
    "id": "QwExWMcdInDy"
   },
   "source": [
    "*Advanced*: what happens to this flow when you write *functions* to automate common tasks?"
   ]
  },
  {
   "cell_type": "markdown",
   "metadata": {
    "id": "8Y6m2F8pInDy"
   },
   "source": [
    "***Exercise - Setting up variables***:\n",
    "\n",
    "\n",
    "1. Create a new cell.\n",
    "\n",
    "2. Create the variables \"name\", and assign your name to it.\n",
    "\n",
    "3. Create a variable \"Python\" and assign a score out of 10 to how much you like Python.\n",
    "\n",
    "4. Create a variable \"prior\" and if you've used Python before, assign True; otherwise assign False to the variable\n",
    "\n",
    "5. Print these out to the screen"
   ]
  },
  {
   "cell_type": "code",
   "execution_count": 11,
   "metadata": {
    "id": "VdjbUdczJyqr",
    "ExecuteTime": {
     "end_time": "2023-12-19T11:32:28.900224900Z",
     "start_time": "2023-12-19T11:32:28.885762800Z"
    }
   },
   "outputs": [
    {
     "name": "stdout",
     "output_type": "stream",
     "text": [
      "Davey 10 True\n"
     ]
    }
   ],
   "source": [
    "name = \"Davey\"\n",
    "python = 10\n",
    "prior = True\n",
    "print(name,python,prior)"
   ]
  },
  {
   "cell_type": "markdown",
   "metadata": {
    "id": "V1cvj5vOInDy"
   },
   "source": [
    "Downloading Data\n",
    "--------------------------\n",
    "\n",
    "Lets fetch the data we will be using for this session. There are two ways in which you can upload data to the Colab notebook. You can use the following code to upload a CSV or similar data file.\n"
   ]
  },
  {
   "cell_type": "code",
   "execution_count": 9,
   "metadata": {
    "id": "7Hqi7hA1KEGi",
    "ExecuteTime": {
     "end_time": "2023-12-11T12:15:25.103130500Z",
     "start_time": "2023-12-11T12:15:24.773390Z"
    }
   },
   "outputs": [
    {
     "ename": "ModuleNotFoundError",
     "evalue": "No module named 'google'",
     "output_type": "error",
     "traceback": [
      "\u001B[1;31m---------------------------------------------------------------------------\u001B[0m",
      "\u001B[1;31mModuleNotFoundError\u001B[0m                       Traceback (most recent call last)",
      "Cell \u001B[1;32mIn[9], line 1\u001B[0m\n\u001B[1;32m----> 1\u001B[0m \u001B[38;5;28;01mfrom\u001B[39;00m \u001B[38;5;21;01mgoogle\u001B[39;00m\u001B[38;5;21;01m.\u001B[39;00m\u001B[38;5;21;01mcolab\u001B[39;00m \u001B[38;5;28;01mimport\u001B[39;00m files\n\u001B[0;32m      2\u001B[0m uploaded \u001B[38;5;241m=\u001B[39m files\u001B[38;5;241m.\u001B[39mupload()\n",
      "\u001B[1;31mModuleNotFoundError\u001B[0m: No module named 'google'"
     ]
    }
   ],
   "source": [
    "from google.colab import files\n",
    "uploaded = files.upload()"
   ]
  },
  {
   "cell_type": "markdown",
   "metadata": {
    "id": "bTj0JTk4J-yt"
   },
   "source": [
    "Or you can use the following cell to fetch the data directly from the QM2 server.\n",
    "\n",
    "Let's create a folder that we can store all our data for this session"
   ]
  },
  {
   "cell_type": "code",
   "execution_count": null,
   "metadata": {
    "id": "dJf-hrVaInDz",
    "ExecuteTime": {
     "start_time": "2023-12-11T12:15:25.104126400Z"
    }
   },
   "outputs": [],
   "source": [
    "!mkdir data"
   ]
  },
  {
   "cell_type": "code",
   "execution_count": 21,
   "metadata": {
    "colab": {
     "base_uri": "https://localhost:8080/"
    },
    "id": "8x7inUgzInD1",
    "outputId": "a31a3ce2-190e-4100-c98c-5f77ffba4e31",
    "ExecuteTime": {
     "end_time": "2023-12-19T11:34:37.223371600Z",
     "start_time": "2023-12-19T11:34:34.802867100Z"
    }
   },
   "outputs": [
    {
     "name": "stderr",
     "output_type": "stream",
     "text": [
      "A subdirectory or file ./data/wk1 already exists.\n",
      "  % Total    % Received % Xferd  Average Speed   Time    Time     Time  Current\n",
      "                                 Dload  Upload   Total   Spent    Left  Speed\n",
      "\n",
      "  0     0    0     0    0     0      0      0 --:--:-- --:--:-- --:--:--     0\n",
      "  0     0    0     0    0     0      0      0 --:--:-- --:--:-- --:--:--     0\n",
      "100   203  100   203    0     0    173      0  0:00:01  0:00:01 --:--:--   173\n",
      "  % Total    % Received % Xferd  Average Speed   Time    Time     Time  Current\n",
      "                                 Dload  Upload   Total   Spent    Left  Speed\n",
      "\n",
      "  0     0    0     0    0     0      0      0 --:--:-- --:--:-- --:--:--     0\n",
      "  0     0    0     0    0     0      0      0 --:--:-- --:--:-- --:--:--     0\n",
      "100   297  100   297    0     0    251      0  0:00:01  0:00:01 --:--:--   251\n"
     ]
    }
   ],
   "source": [
    "!mkdir \"./data/wk1\"\n",
    "!curl https://s3.eu-west-2.amazonaws.com/qm2/wk1/data.csv -o ./data/wk1/data.csv\n",
    "!curl https://s3.eu-west-2.amazonaws.com/qm2/wk1/sample_group.csv -o ./data/wk1/sample_group.csv"
   ]
  },
  {
   "cell_type": "markdown",
   "metadata": {
    "id": "ZpTwNZymInD5"
   },
   "source": [
    "Storing and importing data\n",
    "--------------------------\n",
    "\n",
    "Typically, data we look at won't be just one number, or one bit of text. Python has a lot of different ways of dealing with a bunch of numbers: for example, a list of values is called a **list**:"
   ]
  },
  {
   "cell_type": "code",
   "execution_count": 13,
   "metadata": {
    "colab": {
     "base_uri": "https://localhost:8080/"
    },
    "id": "xNJEZ5g1InD6",
    "outputId": "790c2028-72a6-424c-e4ae-7e0ecd584ac4",
    "ExecuteTime": {
     "end_time": "2023-12-19T11:32:49.164059500Z",
     "start_time": "2023-12-19T11:32:49.152592100Z"
    }
   },
   "outputs": [
    {
     "name": "stdout",
     "output_type": "stream",
     "text": [
      "[1, 2, 3, 6, 9]\n"
     ]
    }
   ],
   "source": [
    "listy = [1,2,3,6,9]\n",
    "print(listy)"
   ]
  },
  {
   "cell_type": "markdown",
   "metadata": {
    "id": "w6LaLn3pInD-"
   },
   "source": [
    "A set of values *linked* to an index (or key) is called a **dictionary**; for example:"
   ]
  },
  {
   "cell_type": "code",
   "execution_count": 14,
   "metadata": {
    "colab": {
     "base_uri": "https://localhost:8080/"
    },
    "id": "McspnzcDInD_",
    "outputId": "3762e43a-66fe-473d-c808-20fcf407179e",
    "ExecuteTime": {
     "end_time": "2023-12-19T11:32:52.452059600Z",
     "start_time": "2023-12-19T11:32:52.440512500Z"
    }
   },
   "outputs": [
    {
     "name": "stdout",
     "output_type": "stream",
     "text": [
      "{'Bob': 1.2, 'Mike': 1.2, 'Coop': 1.1, 'Maddy': 1.3, 'Giant': 2.1}\n"
     ]
    }
   ],
   "source": [
    "dicty = {'Bob': 1.2, 'Mike': 1.2, 'Coop': 1.1, 'Maddy': 1.3, 'Giant': 2.1}\n",
    "print(dicty)"
   ]
  },
  {
   "cell_type": "markdown",
   "metadata": {
    "id": "nKd_aimvInEC"
   },
   "source": [
    "Notice that the list uses square brackets with values separated by commas, and the dict uses curly brackets with pairs separated by commas, and colons (:) to link a *key* (index or address) with a value.\n",
    "\n",
    "(You might notice that they haven't printed out in the order you entered them)"
   ]
  },
  {
   "cell_type": "markdown",
   "metadata": {
    "id": "ynwZr-GaInEC"
   },
   "source": [
    "***Advanced**: Print out 1) The third element of **listy**, and 2) The element of **dicty** relating to Giant"
   ]
  },
  {
   "cell_type": "code",
   "execution_count": 15,
   "metadata": {
    "id": "q7iWJ5X9InED",
    "ExecuteTime": {
     "end_time": "2023-12-19T11:33:22.410187700Z",
     "start_time": "2023-12-19T11:33:22.392663300Z"
    }
   },
   "outputs": [
    {
     "name": "stdout",
     "output_type": "stream",
     "text": [
      "3\n",
      "2.1\n"
     ]
    }
   ],
   "source": [
    "print(listy[2])\n",
    "print(dicty['Giant'])"
   ]
  },
  {
   "cell_type": "markdown",
   "metadata": {
    "id": "1Q3hnEfDInEG"
   },
   "source": [
    "We'll discuss different ways of organising data again soon, but for now we'll look at *dataframes* - the way our data-friendly *library* **Pandas** works with data. We'll be using Pandas a lot this term, so it's good to get started with it early.\n",
    "\n",
    "Let's start by importing pandas. We'll also import another library, but we're not going to worry about that too much at the moment.  \n",
    "\n",
    "If you see a warning about 'Building Font Cache' don't worry - this is normal."
   ]
  },
  {
   "cell_type": "code",
   "execution_count": 16,
   "metadata": {
    "id": "-ZSM3GvqInEG",
    "ExecuteTime": {
     "end_time": "2023-12-19T11:33:26.082952200Z",
     "start_time": "2023-12-19T11:33:24.705371200Z"
    }
   },
   "outputs": [],
   "source": [
    "import pandas\n",
    "\n",
    "import matplotlib\n",
    "%matplotlib inline"
   ]
  },
  {
   "cell_type": "markdown",
   "metadata": {
    "id": "AhOFPn8sInEJ"
   },
   "source": [
    "Let's import a simple dataset and show it in pandas. We'll use a pre-prepared \".csv\" file, which needs to be in the same folder as our code."
   ]
  },
  {
   "cell_type": "code",
   "execution_count": 17,
   "metadata": {
    "colab": {
     "base_uri": "https://localhost:8080/",
     "height": 206
    },
    "id": "zApWGKanInEJ",
    "outputId": "5afa1660-809a-4d96-9273-1009406e7b5f",
    "ExecuteTime": {
     "end_time": "2023-12-19T11:33:28.201329400Z",
     "start_time": "2023-12-19T11:33:28.180367500Z"
    }
   },
   "outputs": [
    {
     "data": {
      "text/plain": "    Name  First Appearance  Approx height  Gender  Law Enforcement\n0    Bob               1.2            6.0    Male            False\n1   Mike               1.2            5.5    Male            False\n2   Coop               1.1            6.0    Male             True\n3  Maddy               1.3            5.5  Female            False\n4  Giant               2.1            7.5    Male            False",
      "text/html": "<div>\n<style scoped>\n    .dataframe tbody tr th:only-of-type {\n        vertical-align: middle;\n    }\n\n    .dataframe tbody tr th {\n        vertical-align: top;\n    }\n\n    .dataframe thead th {\n        text-align: right;\n    }\n</style>\n<table border=\"1\" class=\"dataframe\">\n  <thead>\n    <tr style=\"text-align: right;\">\n      <th></th>\n      <th>Name</th>\n      <th>First Appearance</th>\n      <th>Approx height</th>\n      <th>Gender</th>\n      <th>Law Enforcement</th>\n    </tr>\n  </thead>\n  <tbody>\n    <tr>\n      <th>0</th>\n      <td>Bob</td>\n      <td>1.2</td>\n      <td>6.0</td>\n      <td>Male</td>\n      <td>False</td>\n    </tr>\n    <tr>\n      <th>1</th>\n      <td>Mike</td>\n      <td>1.2</td>\n      <td>5.5</td>\n      <td>Male</td>\n      <td>False</td>\n    </tr>\n    <tr>\n      <th>2</th>\n      <td>Coop</td>\n      <td>1.1</td>\n      <td>6.0</td>\n      <td>Male</td>\n      <td>True</td>\n    </tr>\n    <tr>\n      <th>3</th>\n      <td>Maddy</td>\n      <td>1.3</td>\n      <td>5.5</td>\n      <td>Female</td>\n      <td>False</td>\n    </tr>\n    <tr>\n      <th>4</th>\n      <td>Giant</td>\n      <td>2.1</td>\n      <td>7.5</td>\n      <td>Male</td>\n      <td>False</td>\n    </tr>\n  </tbody>\n</table>\n</div>"
     },
     "execution_count": 17,
     "metadata": {},
     "output_type": "execute_result"
    }
   ],
   "source": [
    "data = pandas.read_csv('./data/wk1/data.csv')\n",
    "data.head()"
   ]
  },
  {
   "cell_type": "markdown",
   "metadata": {
    "id": "iIO-rbSrbPyH"
   },
   "source": [
    "What we've done here is read in a .csv file into a dataframe, the object pandas uses to work with data, and one that has lots of methods for slicing and dicing data, as we will see over the coming weeks. The head() command tells iPython to show the first few columns/rows of the data, so we can start to get a sense of what the data looks like and what sort of type of objects is represents."
   ]
  },
  {
   "cell_type": "markdown",
   "metadata": {
    "id": "coZ9wTrf0Ocd"
   },
   "source": [
    "A common first step for exploring our data is to sort it. In Pandas, this can be done easily with the `sort_values()` function. We can specify which column to sort the data by, and whether we want to sort in ascending or descending order, using the optional arguments `by` and `ascending`, respectively. In the example below, we're sorting in *descending* order of height:"
   ]
  },
  {
   "cell_type": "code",
   "execution_count": 18,
   "metadata": {
    "id": "8wijKcab0Ocd",
    "outputId": "ab460449-1c0f-43af-c4d2-9d5c92f4e31a",
    "ExecuteTime": {
     "end_time": "2023-12-19T11:33:30.900886600Z",
     "start_time": "2023-12-19T11:33:30.894383700Z"
    }
   },
   "outputs": [
    {
     "data": {
      "text/plain": "    Name  First Appearance  Approx height  Gender  Law Enforcement\n4  Giant               2.1            7.5    Male            False\n0    Bob               1.2            6.0    Male            False\n2   Coop               1.1            6.0    Male             True\n1   Mike               1.2            5.5    Male            False\n3  Maddy               1.3            5.5  Female            False",
      "text/html": "<div>\n<style scoped>\n    .dataframe tbody tr th:only-of-type {\n        vertical-align: middle;\n    }\n\n    .dataframe tbody tr th {\n        vertical-align: top;\n    }\n\n    .dataframe thead th {\n        text-align: right;\n    }\n</style>\n<table border=\"1\" class=\"dataframe\">\n  <thead>\n    <tr style=\"text-align: right;\">\n      <th></th>\n      <th>Name</th>\n      <th>First Appearance</th>\n      <th>Approx height</th>\n      <th>Gender</th>\n      <th>Law Enforcement</th>\n    </tr>\n  </thead>\n  <tbody>\n    <tr>\n      <th>4</th>\n      <td>Giant</td>\n      <td>2.1</td>\n      <td>7.5</td>\n      <td>Male</td>\n      <td>False</td>\n    </tr>\n    <tr>\n      <th>0</th>\n      <td>Bob</td>\n      <td>1.2</td>\n      <td>6.0</td>\n      <td>Male</td>\n      <td>False</td>\n    </tr>\n    <tr>\n      <th>2</th>\n      <td>Coop</td>\n      <td>1.1</td>\n      <td>6.0</td>\n      <td>Male</td>\n      <td>True</td>\n    </tr>\n    <tr>\n      <th>1</th>\n      <td>Mike</td>\n      <td>1.2</td>\n      <td>5.5</td>\n      <td>Male</td>\n      <td>False</td>\n    </tr>\n    <tr>\n      <th>3</th>\n      <td>Maddy</td>\n      <td>1.3</td>\n      <td>5.5</td>\n      <td>Female</td>\n      <td>False</td>\n    </tr>\n  </tbody>\n</table>\n</div>"
     },
     "execution_count": 18,
     "metadata": {},
     "output_type": "execute_result"
    }
   ],
   "source": [
    "data.sort_values(by='Approx height', ascending=False).head()"
   ]
  },
  {
   "cell_type": "markdown",
   "metadata": {
    "id": "SYT8xvlYaimE"
   },
   "source": [
    "# Supplementary: Kaggle exercises\n",
    "\n",
    "If you've gotten this far, congratulations! To further hone your skills, try working your way through the five [intro to programming notebooks on Kaggle](https://www.kaggle.com/learn/intro-to-programming). These cover a range of skills that we'll be using throughout the term. Kaggle is a very useful resource for learning data science, so making an account may not be a bad idea!"
   ]
  },
  {
   "cell_type": "markdown",
   "metadata": {
    "id": "Ec-5N10J0Ocd"
   },
   "source": [
    "# Assessed Question\n",
    "\n",
    "The URL below contains a dataset of the most streamed songs on spotify in 2023:\n",
    "https://storage.googleapis.com/qm2/wk1/spotify-2023.csv\n",
    "\n",
    "1. Download the dataset and save it in the `./data/wk1/` directory. (hint: curl)\n",
    "2. Load the dataset as a pandas dataframe. (hint: pandas.read_csv)\n",
    "3. Sort the dataframe in descending order of streams. (hint: sort_values)\n",
    "\n",
    "QUESTION: what song has the highest number of streams in this dataset?\n",
    "\n",
    "ANSWER: Blinding Lights by The Weekend"
   ]
  },
  {
   "cell_type": "code",
   "execution_count": 26,
   "metadata": {
    "id": "KkAOHZN-0Ocd",
    "ExecuteTime": {
     "end_time": "2023-12-19T11:35:28.290678500Z",
     "start_time": "2023-12-19T11:35:24.616640200Z"
    }
   },
   "outputs": [
    {
     "name": "stderr",
     "output_type": "stream",
     "text": [
      "  % Total    % Received % Xferd  Average Speed   Time    Time     Time  Current\n",
      "                                 Dload  Upload   Total   Spent    Left  Speed\n",
      "\n",
      "  0     0    0     0    0     0      0      0 --:--:-- --:--:-- --:--:--     0\n",
      "  0     0    0     0    0     0      0      0 --:--:-- --:--:-- --:--:--     0\n",
      "  0     0    0     0    0     0      0      0 --:--:--  0:00:02 --:--:--     0\n",
      "  0     0    0     0    0     0      0      0 --:--:--  0:00:02 --:--:--     0\n",
      " 89  104k   89 95852    0     0  26686      0  0:00:04  0:00:03  0:00:01 26692\n",
      "100  104k  100  104k    0     0  29472      0  0:00:03  0:00:03 --:--:-- 29480\n"
     ]
    }
   ],
   "source": [
    "# use this code cell to answer the question\n",
    "!curl https://storage.googleapis.com/qm2/wk1/spotify-2023.csv -o ./data/wk1/spotify_data.csv"
   ]
  },
  {
   "cell_type": "code",
   "execution_count": 27,
   "outputs": [
    {
     "data": {
      "text/plain": "                                     track_name             artist(s)_name  \\\n0                              'Till I Collapse          Eminem, Nate Dogg   \n1                  (It Goes Like) Nanana - Edit                  Peggy Gou   \n2                    10 Things I Hate About You                  Leah Kate   \n3                                         10:35  TiÃ¯Â¿Â½Ã¯Â¿Â½sto, Tate M   \n4                       2 Be Loved (Am I Ready)                      Lizzo   \n..                                          ...                        ...   \n947                          you broke me first                 Tate McRae   \n948                             Ã½Ã½Ã½98 Braves              Morgan Wallen   \n949                               Ã½Ã½Ã½abcdefu                      Gayle   \n950                    Ã½Ã½Ã½Ã½Ã½Ã½Ã½Ã½Ã½Ã½Ã½Ã½                    YOASOBI   \n951  Ã½Ã½Ã½Ã½Ã½Ã½Ã½Ã½Ã½Ã½Ã½Ã½Ã½Ã½Ã½Ã½Ã½Ã½Ã½Ã½Ã½                 Fujii Kaze   \n\n     artist_count  released_year  released_month  released_day  \\\n0               2           2002               5            26   \n1               1           2023               6            15   \n2               1           2022               3            23   \n3               2           2022              11             1   \n4               1           2022               7            14   \n..            ...            ...             ...           ...   \n947             1           2020               4            17   \n948             1           2023               3             3   \n949             1           2021               8            13   \n950             1           2023               4            12   \n951             1           2020               5            20   \n\n     in_spotify_playlists  in_spotify_charts     streams  in_apple_playlists  \\\n0                   22923                  0  1695712020                  78   \n1                    2259                 59    57876440                   0   \n2                    1301                  0   185550869                  23   \n3                    4942                 26   325592432                 190   \n4                    3682                  6   247689123                  41   \n..                    ...                ...         ...                 ...   \n947                  6638                  0  1180094974                 167   \n948                   282                  0    56533272                   6   \n949                  7215                  0  1007612429                 170   \n950                   356                 16   143573775                  35   \n951                   685                 14   403097450                  24   \n\n     ...  bpm key   mode danceability_%  valence_% energy_% acousticness_%  \\\n0    ...  171  C#  Major             55         10       85              7   \n1    ...  130   G  Minor             67         96       88             12   \n2    ...  154  G#  Major             54         45       79              1   \n3    ...  120  G#  Major             70         70       79              7   \n4    ...  156   G  Major             72         92       77              9   \n..   ...  ...  ..    ...            ...        ...      ...            ...   \n947  ...  124   E  Major             64          8       37             79   \n948  ...  142   D  Major             49         48       67             10   \n949  ...  122   E  Major             70         42       54             30   \n950  ...  166  C#  Major             57         84       94             11   \n951  ...  158  F#  Minor             60         52       76             17   \n\n     instrumentalness_%  liveness_%  speechiness_%  \n0                     0           8             20  \n1                    19           8              4  \n2                     0          17              5  \n3                     0          18             10  \n4                     0           8             11  \n..                  ...         ...            ...  \n947                   0           9              5  \n948                   0          26              3  \n949                   0          37              5  \n950                   0          37              9  \n951                   0          19              5  \n\n[952 rows x 24 columns]",
      "text/html": "<div>\n<style scoped>\n    .dataframe tbody tr th:only-of-type {\n        vertical-align: middle;\n    }\n\n    .dataframe tbody tr th {\n        vertical-align: top;\n    }\n\n    .dataframe thead th {\n        text-align: right;\n    }\n</style>\n<table border=\"1\" class=\"dataframe\">\n  <thead>\n    <tr style=\"text-align: right;\">\n      <th></th>\n      <th>track_name</th>\n      <th>artist(s)_name</th>\n      <th>artist_count</th>\n      <th>released_year</th>\n      <th>released_month</th>\n      <th>released_day</th>\n      <th>in_spotify_playlists</th>\n      <th>in_spotify_charts</th>\n      <th>streams</th>\n      <th>in_apple_playlists</th>\n      <th>...</th>\n      <th>bpm</th>\n      <th>key</th>\n      <th>mode</th>\n      <th>danceability_%</th>\n      <th>valence_%</th>\n      <th>energy_%</th>\n      <th>acousticness_%</th>\n      <th>instrumentalness_%</th>\n      <th>liveness_%</th>\n      <th>speechiness_%</th>\n    </tr>\n  </thead>\n  <tbody>\n    <tr>\n      <th>0</th>\n      <td>'Till I Collapse</td>\n      <td>Eminem, Nate Dogg</td>\n      <td>2</td>\n      <td>2002</td>\n      <td>5</td>\n      <td>26</td>\n      <td>22923</td>\n      <td>0</td>\n      <td>1695712020</td>\n      <td>78</td>\n      <td>...</td>\n      <td>171</td>\n      <td>C#</td>\n      <td>Major</td>\n      <td>55</td>\n      <td>10</td>\n      <td>85</td>\n      <td>7</td>\n      <td>0</td>\n      <td>8</td>\n      <td>20</td>\n    </tr>\n    <tr>\n      <th>1</th>\n      <td>(It Goes Like) Nanana - Edit</td>\n      <td>Peggy Gou</td>\n      <td>1</td>\n      <td>2023</td>\n      <td>6</td>\n      <td>15</td>\n      <td>2259</td>\n      <td>59</td>\n      <td>57876440</td>\n      <td>0</td>\n      <td>...</td>\n      <td>130</td>\n      <td>G</td>\n      <td>Minor</td>\n      <td>67</td>\n      <td>96</td>\n      <td>88</td>\n      <td>12</td>\n      <td>19</td>\n      <td>8</td>\n      <td>4</td>\n    </tr>\n    <tr>\n      <th>2</th>\n      <td>10 Things I Hate About You</td>\n      <td>Leah Kate</td>\n      <td>1</td>\n      <td>2022</td>\n      <td>3</td>\n      <td>23</td>\n      <td>1301</td>\n      <td>0</td>\n      <td>185550869</td>\n      <td>23</td>\n      <td>...</td>\n      <td>154</td>\n      <td>G#</td>\n      <td>Major</td>\n      <td>54</td>\n      <td>45</td>\n      <td>79</td>\n      <td>1</td>\n      <td>0</td>\n      <td>17</td>\n      <td>5</td>\n    </tr>\n    <tr>\n      <th>3</th>\n      <td>10:35</td>\n      <td>TiÃ¯Â¿Â½Ã¯Â¿Â½sto, Tate M</td>\n      <td>2</td>\n      <td>2022</td>\n      <td>11</td>\n      <td>1</td>\n      <td>4942</td>\n      <td>26</td>\n      <td>325592432</td>\n      <td>190</td>\n      <td>...</td>\n      <td>120</td>\n      <td>G#</td>\n      <td>Major</td>\n      <td>70</td>\n      <td>70</td>\n      <td>79</td>\n      <td>7</td>\n      <td>0</td>\n      <td>18</td>\n      <td>10</td>\n    </tr>\n    <tr>\n      <th>4</th>\n      <td>2 Be Loved (Am I Ready)</td>\n      <td>Lizzo</td>\n      <td>1</td>\n      <td>2022</td>\n      <td>7</td>\n      <td>14</td>\n      <td>3682</td>\n      <td>6</td>\n      <td>247689123</td>\n      <td>41</td>\n      <td>...</td>\n      <td>156</td>\n      <td>G</td>\n      <td>Major</td>\n      <td>72</td>\n      <td>92</td>\n      <td>77</td>\n      <td>9</td>\n      <td>0</td>\n      <td>8</td>\n      <td>11</td>\n    </tr>\n    <tr>\n      <th>...</th>\n      <td>...</td>\n      <td>...</td>\n      <td>...</td>\n      <td>...</td>\n      <td>...</td>\n      <td>...</td>\n      <td>...</td>\n      <td>...</td>\n      <td>...</td>\n      <td>...</td>\n      <td>...</td>\n      <td>...</td>\n      <td>...</td>\n      <td>...</td>\n      <td>...</td>\n      <td>...</td>\n      <td>...</td>\n      <td>...</td>\n      <td>...</td>\n      <td>...</td>\n      <td>...</td>\n    </tr>\n    <tr>\n      <th>947</th>\n      <td>you broke me first</td>\n      <td>Tate McRae</td>\n      <td>1</td>\n      <td>2020</td>\n      <td>4</td>\n      <td>17</td>\n      <td>6638</td>\n      <td>0</td>\n      <td>1180094974</td>\n      <td>167</td>\n      <td>...</td>\n      <td>124</td>\n      <td>E</td>\n      <td>Major</td>\n      <td>64</td>\n      <td>8</td>\n      <td>37</td>\n      <td>79</td>\n      <td>0</td>\n      <td>9</td>\n      <td>5</td>\n    </tr>\n    <tr>\n      <th>948</th>\n      <td>Ã½Ã½Ã½98 Braves</td>\n      <td>Morgan Wallen</td>\n      <td>1</td>\n      <td>2023</td>\n      <td>3</td>\n      <td>3</td>\n      <td>282</td>\n      <td>0</td>\n      <td>56533272</td>\n      <td>6</td>\n      <td>...</td>\n      <td>142</td>\n      <td>D</td>\n      <td>Major</td>\n      <td>49</td>\n      <td>48</td>\n      <td>67</td>\n      <td>10</td>\n      <td>0</td>\n      <td>26</td>\n      <td>3</td>\n    </tr>\n    <tr>\n      <th>949</th>\n      <td>Ã½Ã½Ã½abcdefu</td>\n      <td>Gayle</td>\n      <td>1</td>\n      <td>2021</td>\n      <td>8</td>\n      <td>13</td>\n      <td>7215</td>\n      <td>0</td>\n      <td>1007612429</td>\n      <td>170</td>\n      <td>...</td>\n      <td>122</td>\n      <td>E</td>\n      <td>Major</td>\n      <td>70</td>\n      <td>42</td>\n      <td>54</td>\n      <td>30</td>\n      <td>0</td>\n      <td>37</td>\n      <td>5</td>\n    </tr>\n    <tr>\n      <th>950</th>\n      <td>Ã½Ã½Ã½Ã½Ã½Ã½Ã½Ã½Ã½Ã½Ã½Ã½</td>\n      <td>YOASOBI</td>\n      <td>1</td>\n      <td>2023</td>\n      <td>4</td>\n      <td>12</td>\n      <td>356</td>\n      <td>16</td>\n      <td>143573775</td>\n      <td>35</td>\n      <td>...</td>\n      <td>166</td>\n      <td>C#</td>\n      <td>Major</td>\n      <td>57</td>\n      <td>84</td>\n      <td>94</td>\n      <td>11</td>\n      <td>0</td>\n      <td>37</td>\n      <td>9</td>\n    </tr>\n    <tr>\n      <th>951</th>\n      <td>Ã½Ã½Ã½Ã½Ã½Ã½Ã½Ã½Ã½Ã½Ã½Ã½Ã½Ã½Ã½Ã½Ã½Ã½Ã½Ã½Ã½</td>\n      <td>Fujii Kaze</td>\n      <td>1</td>\n      <td>2020</td>\n      <td>5</td>\n      <td>20</td>\n      <td>685</td>\n      <td>14</td>\n      <td>403097450</td>\n      <td>24</td>\n      <td>...</td>\n      <td>158</td>\n      <td>F#</td>\n      <td>Minor</td>\n      <td>60</td>\n      <td>52</td>\n      <td>76</td>\n      <td>17</td>\n      <td>0</td>\n      <td>19</td>\n      <td>5</td>\n    </tr>\n  </tbody>\n</table>\n<p>952 rows × 24 columns</p>\n</div>"
     },
     "execution_count": 27,
     "metadata": {},
     "output_type": "execute_result"
    }
   ],
   "source": [
    "song_df = pandas.read_csv('data/wk1/spotify_data.csv')\n",
    "song_df"
   ],
   "metadata": {
    "collapsed": false,
    "ExecuteTime": {
     "end_time": "2023-12-19T11:36:31.698154100Z",
     "start_time": "2023-12-19T11:36:31.674263200Z"
    }
   }
  },
  {
   "cell_type": "code",
   "execution_count": 29,
   "outputs": [
    {
     "data": {
      "text/plain": "                                        track_name  \\\n101                                Blinding Lights   \n701                                   Shape of You   \n731                              Someone You Loved   \n185                                   Dance Monkey   \n761  Sunflower - Spider-Man: Into the Spider-Verse   \n..                                             ...   \n577                                      Overdrive   \n305                    Gol Bolinha, Gol Quadrado 2   \n626                                          QUEMA   \n378                              Jhoome Jo Pathaan   \n627                                    Que Vuelvas   \n\n                                        artist(s)_name  artist_count  \\\n101                                         The Weeknd             1   \n701                                         Ed Sheeran             1   \n731                                      Lewis Capaldi             1   \n185                                        Tones and I             1   \n761                              Post Malone, Swae Lee             2   \n..                                                 ...           ...   \n577                                        Post Malone             1   \n305                                Mc Pedrinho, DJ 900             2   \n626                       Sog, Ryan Castro, Peso Pluma             3   \n378  Arijit Singh, Vishal Dadlani, Sukriti Kakar, V...             6   \n627                         Carin Leon, Grupo Frontera             2   \n\n     released_year  released_month  released_day  in_spotify_playlists  \\\n101           2019              11            29                 43899   \n701           2017               1             6                 32181   \n731           2018              11             8                 17836   \n185           2019               5            10                 24529   \n761           2018              10             9                 24094   \n..             ...             ...           ...                   ...   \n577           2023               7            14                   410   \n305           2023               6             1                   293   \n626           2023               7            13                   437   \n378           2022              12            22                   138   \n627           2022              12             9                   763   \n\n     in_spotify_charts     streams  in_apple_playlists  ...  bpm  key   mode  \\\n101                 69  3703895074                 672  ...  171   C#  Major   \n701                 10  3562543890                  33  ...   96   C#  Minor   \n731                 53  2887241814                 440  ...  110   C#  Major   \n185                  0  2864791672                 533  ...   98   F#  Minor   \n761                 78  2808096550                 372  ...   90    D  Major   \n..                 ...         ...                 ...  ...  ...  ...    ...   \n577                 36    14780425                  36  ...  140   C#  Major   \n305                  8    11956641                   5  ...  133    B  Minor   \n626                 31    11599388                  17  ...   97  NaN  Major   \n378                  4     1365184                  13  ...  105    G  Major   \n627                 26        2762                  21  ...  162   A#  Major   \n\n    danceability_%  valence_% energy_% acousticness_%  instrumentalness_%  \\\n101             50         38       80              0                   0   \n701             83         93       65             58                   0   \n731             50         45       41             75                   0   \n185             82         54       59             69                   0   \n761             76         91       50             54                   0   \n..             ...        ...      ...            ...                 ...   \n577             56         48       73              0                   0   \n305             93         68       65             42                   0   \n626             79         92       89              5                   0   \n378             82         62       74             10                   0   \n627             49         78       64             19                   0   \n\n     liveness_%  speechiness_%  \n101           9              7  \n701           9              8  \n731          11              3  \n185          18             10  \n761           7              5  \n..          ...            ...  \n577          35              4  \n305          12             25  \n626           6              5  \n378          33              7  \n627          11              4  \n\n[952 rows x 24 columns]",
      "text/html": "<div>\n<style scoped>\n    .dataframe tbody tr th:only-of-type {\n        vertical-align: middle;\n    }\n\n    .dataframe tbody tr th {\n        vertical-align: top;\n    }\n\n    .dataframe thead th {\n        text-align: right;\n    }\n</style>\n<table border=\"1\" class=\"dataframe\">\n  <thead>\n    <tr style=\"text-align: right;\">\n      <th></th>\n      <th>track_name</th>\n      <th>artist(s)_name</th>\n      <th>artist_count</th>\n      <th>released_year</th>\n      <th>released_month</th>\n      <th>released_day</th>\n      <th>in_spotify_playlists</th>\n      <th>in_spotify_charts</th>\n      <th>streams</th>\n      <th>in_apple_playlists</th>\n      <th>...</th>\n      <th>bpm</th>\n      <th>key</th>\n      <th>mode</th>\n      <th>danceability_%</th>\n      <th>valence_%</th>\n      <th>energy_%</th>\n      <th>acousticness_%</th>\n      <th>instrumentalness_%</th>\n      <th>liveness_%</th>\n      <th>speechiness_%</th>\n    </tr>\n  </thead>\n  <tbody>\n    <tr>\n      <th>101</th>\n      <td>Blinding Lights</td>\n      <td>The Weeknd</td>\n      <td>1</td>\n      <td>2019</td>\n      <td>11</td>\n      <td>29</td>\n      <td>43899</td>\n      <td>69</td>\n      <td>3703895074</td>\n      <td>672</td>\n      <td>...</td>\n      <td>171</td>\n      <td>C#</td>\n      <td>Major</td>\n      <td>50</td>\n      <td>38</td>\n      <td>80</td>\n      <td>0</td>\n      <td>0</td>\n      <td>9</td>\n      <td>7</td>\n    </tr>\n    <tr>\n      <th>701</th>\n      <td>Shape of You</td>\n      <td>Ed Sheeran</td>\n      <td>1</td>\n      <td>2017</td>\n      <td>1</td>\n      <td>6</td>\n      <td>32181</td>\n      <td>10</td>\n      <td>3562543890</td>\n      <td>33</td>\n      <td>...</td>\n      <td>96</td>\n      <td>C#</td>\n      <td>Minor</td>\n      <td>83</td>\n      <td>93</td>\n      <td>65</td>\n      <td>58</td>\n      <td>0</td>\n      <td>9</td>\n      <td>8</td>\n    </tr>\n    <tr>\n      <th>731</th>\n      <td>Someone You Loved</td>\n      <td>Lewis Capaldi</td>\n      <td>1</td>\n      <td>2018</td>\n      <td>11</td>\n      <td>8</td>\n      <td>17836</td>\n      <td>53</td>\n      <td>2887241814</td>\n      <td>440</td>\n      <td>...</td>\n      <td>110</td>\n      <td>C#</td>\n      <td>Major</td>\n      <td>50</td>\n      <td>45</td>\n      <td>41</td>\n      <td>75</td>\n      <td>0</td>\n      <td>11</td>\n      <td>3</td>\n    </tr>\n    <tr>\n      <th>185</th>\n      <td>Dance Monkey</td>\n      <td>Tones and I</td>\n      <td>1</td>\n      <td>2019</td>\n      <td>5</td>\n      <td>10</td>\n      <td>24529</td>\n      <td>0</td>\n      <td>2864791672</td>\n      <td>533</td>\n      <td>...</td>\n      <td>98</td>\n      <td>F#</td>\n      <td>Minor</td>\n      <td>82</td>\n      <td>54</td>\n      <td>59</td>\n      <td>69</td>\n      <td>0</td>\n      <td>18</td>\n      <td>10</td>\n    </tr>\n    <tr>\n      <th>761</th>\n      <td>Sunflower - Spider-Man: Into the Spider-Verse</td>\n      <td>Post Malone, Swae Lee</td>\n      <td>2</td>\n      <td>2018</td>\n      <td>10</td>\n      <td>9</td>\n      <td>24094</td>\n      <td>78</td>\n      <td>2808096550</td>\n      <td>372</td>\n      <td>...</td>\n      <td>90</td>\n      <td>D</td>\n      <td>Major</td>\n      <td>76</td>\n      <td>91</td>\n      <td>50</td>\n      <td>54</td>\n      <td>0</td>\n      <td>7</td>\n      <td>5</td>\n    </tr>\n    <tr>\n      <th>...</th>\n      <td>...</td>\n      <td>...</td>\n      <td>...</td>\n      <td>...</td>\n      <td>...</td>\n      <td>...</td>\n      <td>...</td>\n      <td>...</td>\n      <td>...</td>\n      <td>...</td>\n      <td>...</td>\n      <td>...</td>\n      <td>...</td>\n      <td>...</td>\n      <td>...</td>\n      <td>...</td>\n      <td>...</td>\n      <td>...</td>\n      <td>...</td>\n      <td>...</td>\n      <td>...</td>\n    </tr>\n    <tr>\n      <th>577</th>\n      <td>Overdrive</td>\n      <td>Post Malone</td>\n      <td>1</td>\n      <td>2023</td>\n      <td>7</td>\n      <td>14</td>\n      <td>410</td>\n      <td>36</td>\n      <td>14780425</td>\n      <td>36</td>\n      <td>...</td>\n      <td>140</td>\n      <td>C#</td>\n      <td>Major</td>\n      <td>56</td>\n      <td>48</td>\n      <td>73</td>\n      <td>0</td>\n      <td>0</td>\n      <td>35</td>\n      <td>4</td>\n    </tr>\n    <tr>\n      <th>305</th>\n      <td>Gol Bolinha, Gol Quadrado 2</td>\n      <td>Mc Pedrinho, DJ 900</td>\n      <td>2</td>\n      <td>2023</td>\n      <td>6</td>\n      <td>1</td>\n      <td>293</td>\n      <td>8</td>\n      <td>11956641</td>\n      <td>5</td>\n      <td>...</td>\n      <td>133</td>\n      <td>B</td>\n      <td>Minor</td>\n      <td>93</td>\n      <td>68</td>\n      <td>65</td>\n      <td>42</td>\n      <td>0</td>\n      <td>12</td>\n      <td>25</td>\n    </tr>\n    <tr>\n      <th>626</th>\n      <td>QUEMA</td>\n      <td>Sog, Ryan Castro, Peso Pluma</td>\n      <td>3</td>\n      <td>2023</td>\n      <td>7</td>\n      <td>13</td>\n      <td>437</td>\n      <td>31</td>\n      <td>11599388</td>\n      <td>17</td>\n      <td>...</td>\n      <td>97</td>\n      <td>NaN</td>\n      <td>Major</td>\n      <td>79</td>\n      <td>92</td>\n      <td>89</td>\n      <td>5</td>\n      <td>0</td>\n      <td>6</td>\n      <td>5</td>\n    </tr>\n    <tr>\n      <th>378</th>\n      <td>Jhoome Jo Pathaan</td>\n      <td>Arijit Singh, Vishal Dadlani, Sukriti Kakar, V...</td>\n      <td>6</td>\n      <td>2022</td>\n      <td>12</td>\n      <td>22</td>\n      <td>138</td>\n      <td>4</td>\n      <td>1365184</td>\n      <td>13</td>\n      <td>...</td>\n      <td>105</td>\n      <td>G</td>\n      <td>Major</td>\n      <td>82</td>\n      <td>62</td>\n      <td>74</td>\n      <td>10</td>\n      <td>0</td>\n      <td>33</td>\n      <td>7</td>\n    </tr>\n    <tr>\n      <th>627</th>\n      <td>Que Vuelvas</td>\n      <td>Carin Leon, Grupo Frontera</td>\n      <td>2</td>\n      <td>2022</td>\n      <td>12</td>\n      <td>9</td>\n      <td>763</td>\n      <td>26</td>\n      <td>2762</td>\n      <td>21</td>\n      <td>...</td>\n      <td>162</td>\n      <td>A#</td>\n      <td>Major</td>\n      <td>49</td>\n      <td>78</td>\n      <td>64</td>\n      <td>19</td>\n      <td>0</td>\n      <td>11</td>\n      <td>4</td>\n    </tr>\n  </tbody>\n</table>\n<p>952 rows × 24 columns</p>\n</div>"
     },
     "execution_count": 29,
     "metadata": {},
     "output_type": "execute_result"
    }
   ],
   "source": [
    "song_df = song_df.sort_values('streams', ascending=False)\n",
    "song_df"
   ],
   "metadata": {
    "collapsed": false,
    "ExecuteTime": {
     "end_time": "2023-12-19T11:37:50.391034800Z",
     "start_time": "2023-12-19T11:37:50.374340700Z"
    }
   }
  }
 ],
 "metadata": {
  "colab": {
   "name": "W1. Python Recap.ipynb",
   "provenance": []
  },
  "kernelspec": {
   "display_name": "Python 3.9.7 ('geo')",
   "language": "python",
   "name": "python3"
  },
  "language_info": {
   "codemirror_mode": {
    "name": "ipython",
    "version": 3
   },
   "file_extension": ".py",
   "mimetype": "text/x-python",
   "name": "python",
   "nbconvert_exporter": "python",
   "pygments_lexer": "ipython3",
   "version": "3.9.7"
  },
  "vscode": {
   "interpreter": {
    "hash": "8ee0682e3aec3eb14c273afe4405335ee3a64a018407db16d950813fa3a05036"
   }
  }
 },
 "nbformat": 4,
 "nbformat_minor": 0
}
